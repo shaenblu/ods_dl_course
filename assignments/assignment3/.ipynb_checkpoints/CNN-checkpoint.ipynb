{
 "cells": [
  {
   "cell_type": "markdown",
   "metadata": {},
   "source": [
    "# Задание 3.1 - Сверточные нейронные сети (Convolutional Neural Networks)\n",
    "\n",
    "Это последнее задание на numpy, вы до него дожили! Остался последний марш-бросок, дальше только PyTorch.\n",
    "\n",
    "В этом задании вы реализуете свою собственную сверточную нейронную сеть."
   ]
  },
  {
   "cell_type": "code",
   "execution_count": 1,
   "metadata": {
    "collapsed": false
   },
   "outputs": [],
   "source": [
    "import numpy as np\n",
    "import matplotlib.pyplot as plt\n",
    "\n",
    "%matplotlib inline\n",
    "\n",
    "%load_ext autoreload\n",
    "%autoreload 2"
   ]
  },
  {
   "cell_type": "code",
   "execution_count": 2,
   "metadata": {
    "collapsed": true
   },
   "outputs": [],
   "source": [
    "from dataset import load_svhn, random_split_train_val\n",
    "from gradient_check import check_layer_gradient, check_layer_param_gradient, check_model_gradient\n",
    "from layers import FullyConnectedLayer, ReLULayer, ConvolutionalLayer, MaxPoolingLayer, Flattener\n",
    "from model import ConvNet\n",
    "from trainer import Trainer, Dataset\n",
    "from optim import SGD, MomentumSGD\n",
    "from metrics import multiclass_accuracy"
   ]
  },
  {
   "cell_type": "markdown",
   "metadata": {},
   "source": [
    "# Загружаем данные\n",
    "\n",
    "На этот раз мы не будем их преобразовывать в один вектор, а оставим размерности (num_samples, 32, 32, 3)."
   ]
  },
  {
   "cell_type": "code",
   "execution_count": 3,
   "metadata": {
    "collapsed": true
   },
   "outputs": [],
   "source": [
    "def prepare_for_neural_network(train_X, test_X):    \n",
    "    train_X = train_X.astype(np.float) / 255.0\n",
    "    test_X = test_X.astype(np.float) / 255.0\n",
    "    \n",
    "    # Subtract mean\n",
    "    mean_image = np.mean(train_X, axis = 0)\n",
    "    train_X -= mean_image\n",
    "    test_X -= mean_image\n",
    "    \n",
    "    return train_X, test_X\n",
    "    \n",
    "train_X, train_y, test_X, test_y = load_svhn(\"data\", max_train=10000, max_test=1000)    \n",
    "train_X, test_X = prepare_for_neural_network(train_X, test_X)\n",
    "# Split train into train and val\n",
    "train_X, train_y, val_X, val_y = random_split_train_val(train_X, train_y, num_val = 1000)"
   ]
  },
  {
   "cell_type": "markdown",
   "metadata": {},
   "source": [
    "# Реализуем новые слои!\n",
    "\n",
    "Сначала основной новый слой - сверточный (Convolutional layer). \n",
    "Для начала мы реализуем его для только одного канала, а потом для нескольких.\n",
    "\n",
    "Сверточный слой выполняет операцию свертки (convolution) с весами для каждого канала, а потом складывает результаты. \n",
    "Возможно, поможет пересмотреть Лекцию 6 или внимательно прочитать\n",
    "http://cs231n.github.io/convolutional-networks/\n",
    "\n",
    "Один из подходов к реализации сверточного слоя основан на том, что для конкретного \"пикселя\" выхода применение сверточного слоя эквивалентно обычному полносвязному.  \n",
    "Рассмотрим один такой \"пиксель\":\n",
    "![image.png](attachment:image.png)\n",
    "\n",
    "Он получает на вход   \n",
    "регион входа I размера `(batch_size, filter_size, filter_size, input_channels)`,  \n",
    "применяет к нему веса W `(filter_size, filter_size, input_channels, output_channels`\n",
    "и выдает `(batch_size, output_channels)`. \n",
    "\n",
    "Если:  \n",
    "- вход преобразовать в I' `(batch_size, filter_size*filter_size*input_channels)`,  \n",
    "- веса в W' `(filter_size*filter_size*input_channels, output_channels)`,  \n",
    "то выход \"пикселе\" будет эквивалентен полносвязному слою со входом I' и весами W'.\n",
    "\n",
    "Осталось выполнить его в цикле для каждого пикселя :)"
   ]
  },
  {
   "cell_type": "code",
   "execution_count": 34,
   "metadata": {
    "collapsed": false,
    "scrolled": false
   },
   "outputs": [
    {
     "name": "stdout",
     "output_type": "stream",
     "text": [
      "Shape of X: (2, 2, 2, 1)\n",
      "Shape of W (2, 2, 1, 1)\n",
      "Shape of X: (2, 2, 2, 2)\n"
     ]
    }
   ],
   "source": [
    "# TODO: Implement ConvolutionaLayer that supports only 1 output and input channel\n",
    "\n",
    "# Note: now you're working with images, so X is 4-dimensional tensor of\n",
    "# (batch_size, height, width, channels)\n",
    "\n",
    "X = np.array([\n",
    "              [\n",
    "               [[1.0], [2.0]],\n",
    "               [[0.0], [-1.0]]\n",
    "              ]\n",
    "              ,\n",
    "              [\n",
    "               [[0.0], [1.0]],\n",
    "               [[-2.0], [-1.0]]\n",
    "              ]\n",
    "             ])\n",
    "\n",
    "# Batch of 2 images of dimensions 2x2 with a single channel\n",
    "print(\"Shape of X:\",X.shape)\n",
    "\n",
    "layer = ConvolutionalLayer(in_channels=1, out_channels=1, filter_size=2, padding=0)\n",
    "print(\"Shape of W\", layer.W.value.shape)\n",
    "layer.W.value = np.zeros_like(layer.W.value)\n",
    "layer.W.value[0, 0, 0, 0] = 1.0\n",
    "layer.B.value = np.ones_like(layer.B.value)\n",
    "result = layer.forward(X)\n",
    "\n",
    "assert result.shape == (2, 1, 1, 1)\n",
    "assert np.all(result == X[:, :1, :1, :1] +1), \"result: %s, X: %s\" % (result, X[:, :1, :1, :1])\n",
    "\n",
    "\n",
    "# Now let's implement multiple output channels\n",
    "layer = ConvolutionalLayer(in_channels=1, out_channels=2, filter_size=2, padding=0)\n",
    "result = layer.forward(X)\n",
    "assert result.shape == (2, 1, 1, 2)\n",
    "\n",
    "\n",
    "# And now multple input channels!\n",
    "X = np.array([\n",
    "              [\n",
    "               [[1.0, 0.0], [2.0, 1.0]],\n",
    "               [[0.0, -1.0], [-1.0, -2.0]]\n",
    "              ]\n",
    "              ,\n",
    "              [\n",
    "               [[0.0, 1.0], [1.0, -1.0]],\n",
    "               [[-2.0, 2.0], [-1.0, 0.0]]\n",
    "              ]\n",
    "             ])\n",
    "\n",
    "print(\"Shape of X:\", X.shape)\n",
    "layer = ConvolutionalLayer(in_channels=2, out_channels=2, filter_size=2, padding=0)\n",
    "result = layer.forward(X)\n",
    "assert result.shape == (2, 1, 1, 2)"
   ]
  },
  {
   "cell_type": "markdown",
   "metadata": {},
   "source": [
    "## А теперь имплементируем обратный проход\n",
    "Возможно, это самое сложное место в курсе. Дальше будет лучше.\n",
    "\n",
    "Раз выполнение сверточного слоя эквивалентно полносвязному слою для каждого \"пикселя\" выхода, то общий обратный проход эквивалентен обратному проходу каждого из таких \"слоев\".  \n",
    "Градиенты от каждого из этих \"слоев\" в каждом пикселе надо сложить в соответствующие пиксели градиента по входу, а градиенты весов сложить все вместе."
   ]
  },
  {
   "cell_type": "code",
   "execution_count": 36,
   "metadata": {
    "collapsed": false,
    "scrolled": false
   },
   "outputs": [
    {
     "name": "stdout",
     "output_type": "stream",
     "text": [
      "Gradient check passed!\n",
      "Gradient check passed!\n",
      "Gradient check passed!\n"
     ]
    }
   ],
   "source": [
    "# First test - check the shape is right\n",
    "layer = ConvolutionalLayer(in_channels=2, out_channels=2, filter_size=2, padding=0)\n",
    "result = layer.forward(X)\n",
    "d_input = layer.backward(np.ones_like(result))\n",
    "assert d_input.shape == X.shape\n",
    "\n",
    "# Actually test the backward pass\n",
    "# As usual, you'll need to copy gradient check code from the previous assignment\n",
    "layer = ConvolutionalLayer(in_channels=2, out_channels=2, filter_size=2, padding=0)\n",
    "assert check_layer_gradient(layer, X)\n",
    "\n",
    "layer = ConvolutionalLayer(in_channels=2, out_channels=2, filter_size=2, padding=0)\n",
    "assert check_layer_param_gradient(layer, X, 'W')\n",
    "layer = ConvolutionalLayer(in_channels=2, out_channels=2, filter_size=2, padding=0)\n",
    "assert check_layer_param_gradient(layer, X, 'B')"
   ]
  },
  {
   "cell_type": "markdown",
   "metadata": {},
   "source": [
    "Осталось реализовать дополнение нулями (padding).   \n",
    "Достаточно дополнить входной тензор нулями по сторонам. Не забудьте учесть это при обратном проходе!"
   ]
  },
  {
   "cell_type": "code",
   "execution_count": 40,
   "metadata": {
    "collapsed": false,
    "scrolled": true
   },
   "outputs": [
    {
     "name": "stdout",
     "output_type": "stream",
     "text": [
      "Gradient check passed!\n"
     ]
    }
   ],
   "source": [
    "layer = ConvolutionalLayer(in_channels=2, out_channels=2, filter_size=3, padding=1)\n",
    "result = layer.forward(X)\n",
    "# Note this kind of layer produces the same dimensions as input\n",
    "assert result.shape == X.shape,\"Result shape: %s - Expected shape %s\" % (result.shape, X.shape)\n",
    "d_input = layer.backward(np.ones_like(result))\n",
    "assert d_input.shape == X.shape\n",
    "layer = ConvolutionalLayer(in_channels=2, out_channels=2, filter_size=3, padding=1)\n",
    "assert check_layer_gradient(layer, X)"
   ]
  },
  {
   "cell_type": "markdown",
   "metadata": {},
   "source": [
    "## После следующего слоя вам уже будет все ни по чем - max pooling\n",
    "\n",
    "Max Pooling - это слой, реализующий операцию максимума для каждого канала отдельно в окресности из `pool_size` \"пикселей\".\n",
    "\n",
    "![image](https://upload.wikimedia.org/wikipedia/commons/e/e9/Max_pooling.png)\n",
    "\n",
    "И напомним что такое stride.  \n",
    "Stride - это на сколько \"пикселей\" сдвигается окно на одном шаге.  \n",
    "Вот здесь, например, stride = 2\n",
    "\n",
    "![image.png](http://deeplearning.net/software/theano/_images/no_padding_strides.gif)\n",
    "\n",
    "На практике, для max pooling значение stride часто равно pool size."
   ]
  },
  {
   "cell_type": "code",
   "execution_count": 41,
   "metadata": {
    "collapsed": false
   },
   "outputs": [
    {
     "name": "stdout",
     "output_type": "stream",
     "text": [
      "(2, 1, 1, 2)\n",
      "Gradient check passed!\n"
     ]
    }
   ],
   "source": [
    "pool = MaxPoolingLayer(2, 2)\n",
    "result = pool.forward(X)\n",
    "print(result.shape)\n",
    "assert result.shape == (2, 1, 1, 2)\n",
    "\n",
    "assert check_layer_gradient(pool, X)"
   ]
  },
  {
   "cell_type": "markdown",
   "metadata": {},
   "source": [
    "И на закуску - слой, преобразующий четырехмерные тензоры в двумерные.\n",
    "\n",
    "Этот слой понадобится нам, чтобы в конце сети перейти от сверточных слоев к полносвязным."
   ]
  },
  {
   "cell_type": "code",
   "execution_count": 42,
   "metadata": {
    "collapsed": false
   },
   "outputs": [
    {
     "name": "stdout",
     "output_type": "stream",
     "text": [
      "Gradient check passed!\n"
     ]
    }
   ],
   "source": [
    "flattener = Flattener()\n",
    "result = flattener.forward(X)\n",
    "\n",
    "assert result.shape == (2,8)\n",
    "\n",
    "assert check_layer_gradient(flattener, X)"
   ]
  },
  {
   "cell_type": "markdown",
   "metadata": {},
   "source": [
    "# Теперь есть все кирпичики, создаем модель"
   ]
  },
  {
   "cell_type": "code",
   "execution_count": 44,
   "metadata": {
    "collapsed": false,
    "scrolled": false
   },
   "outputs": [
    {
     "name": "stdout",
     "output_type": "stream",
     "text": [
      "Checking gradient for 3_B\n",
      "Gradient check passed!\n",
      "Checking gradient for 0_W\n",
      "Gradient check passed!\n",
      "Checking gradient for 3_W\n",
      "Gradient check passed!\n",
      "Checking gradient for 7_B\n",
      "Gradient check passed!\n",
      "Checking gradient for 0_B\n",
      "Gradient check passed!\n",
      "Checking gradient for 7_W\n",
      "Gradient check passed!\n"
     ]
    },
    {
     "data": {
      "text/plain": [
       "True"
      ]
     },
     "execution_count": 44,
     "metadata": {},
     "output_type": "execute_result"
    }
   ],
   "source": [
    "# TODO: In model.py, implement missed functions function for ConvNet model\n",
    "\n",
    "# No need to use L2 regularization\n",
    "model = ConvNet(input_shape=(32,32,3), n_output_classes=10, conv1_channels=2, conv2_channels=2)\n",
    "loss = model.compute_loss_and_gradients(train_X[:2], train_y[:2])\n",
    "\n",
    "# TODO Now implement backward pass and aggregate all of the params\n",
    "check_model_gradient(model, train_X[:2], train_y[:2])"
   ]
  },
  {
   "cell_type": "markdown",
   "metadata": {},
   "source": [
    "# Оптимизатор и код для тренировки \n",
    "Должен заработать с кодом из прошлого задания без изменений!"
   ]
  },
  {
   "cell_type": "code",
   "execution_count": 46,
   "metadata": {
    "collapsed": false,
    "scrolled": false
   },
   "outputs": [
    {
     "name": "stdout",
     "output_type": "stream",
     "text": [
      "Loss: 2.305207, Train accuracy: 0.000000, val accuracy: 0.000000\n",
      "Loss: 2.304934, Train accuracy: 0.000000, val accuracy: 0.000000\n",
      "Loss: 2.304661, Train accuracy: 0.000000, val accuracy: 0.000000\n",
      "Loss: 2.304388, Train accuracy: 0.000000, val accuracy: 0.000000\n",
      "Loss: 2.304116, Train accuracy: 0.000000, val accuracy: 0.000000\n",
      "Loss: 2.303844, Train accuracy: 0.000000, val accuracy: 0.000000\n",
      "Loss: 2.303573, Train accuracy: 0.000000, val accuracy: 0.000000\n",
      "Loss: 2.303301, Train accuracy: 0.000000, val accuracy: 0.000000\n",
      "Loss: 2.303030, Train accuracy: 0.000000, val accuracy: 0.000000\n",
      "Loss: 2.302759, Train accuracy: 0.000000, val accuracy: 0.000000\n",
      "Loss: 2.302488, Train accuracy: 0.000000, val accuracy: 0.000000\n",
      "Loss: 2.302218, Train accuracy: 0.000000, val accuracy: 0.000000\n",
      "Loss: 2.301948, Train accuracy: 0.000000, val accuracy: 0.000000\n",
      "Loss: 2.301678, Train accuracy: 0.000000, val accuracy: 0.000000\n",
      "Loss: 2.301408, Train accuracy: 0.000000, val accuracy: 0.000000\n",
      "Loss: 2.301139, Train accuracy: 0.000000, val accuracy: 0.000000\n",
      "Loss: 2.300870, Train accuracy: 0.000000, val accuracy: 0.000000\n",
      "Loss: 2.300601, Train accuracy: 0.000000, val accuracy: 0.000000\n",
      "Loss: 2.300332, Train accuracy: 0.000000, val accuracy: 0.000000\n",
      "Loss: 2.300064, Train accuracy: 0.000000, val accuracy: 0.000000\n"
     ]
    }
   ],
   "source": [
    "model = ConvNet(input_shape=(32,32,3), n_output_classes=10, conv1_channels=2, conv2_channels=2)\n",
    "dataset = Dataset(train_X[:16], train_y[:16], val_X[:16], val_y[:16])\n",
    "trainer = Trainer(model, dataset, SGD(), batch_size=16, learning_rate=1e-4)\n",
    "\n",
    "loss_history, train_history, val_history = trainer.fit()"
   ]
  },
  {
   "cell_type": "code",
   "execution_count": null,
   "metadata": {
    "collapsed": true
   },
   "outputs": [],
   "source": []
  },
  {
   "cell_type": "code",
   "execution_count": 47,
   "metadata": {
    "collapsed": false
   },
   "outputs": [
    {
     "data": {
      "text/plain": [
       "[<matplotlib.lines.Line2D at 0xb139a7fd0>]"
      ]
     },
     "execution_count": 47,
     "metadata": {},
     "output_type": "execute_result"
    },
    {
     "data": {
      "image/png": "[encoded data removed]",
      "text/plain": [
       "<Figure size 432x288 with 1 Axes>"
      ]
     },
     "metadata": {
      "needs_background": "light"
     },
     "output_type": "display_data"
    }
   ],
   "source": [
    "plt.plot(train_history)\n",
    "plt.plot(val_history)"
   ]
  },
  {
   "cell_type": "markdown",
   "metadata": {},
   "source": [
    "# Последнее упражнение\n",
    "В качестве последнего упражнения мы доведем точность на тренировочном наборе данных до 100% на небольшом наборе данных.\n",
    "Сверточные сети требуют большого количества вычислений и аккуратной эффективной реализации, поэтому настоящие модели мы будем тренировать уже на PyTorch в следующем задании."
   ]
  },
  {
   "cell_type": "markdown",
   "metadata": {},
   "source": [
    "## Итак, оверфитим маленький набор данных\n"
   ]
  },
  {
   "cell_type": "code",
   "execution_count": 48,
   "metadata": {
    "collapsed": false
   },
   "outputs": [
    {
     "ename": "Exception",
     "evalue": "Not implemented!",
     "output_type": "error",
     "traceback": [
      "\u001b[0;31m---------------------------------------------------------------------------\u001b[0m",
      "\u001b[0;31mException\u001b[0m                                 Traceback (most recent call last)",
      "\u001b[0;32m<ipython-input-48-e20b22b877f7>\u001b[0m in \u001b[0;36m<module>\u001b[0;34m()\u001b[0m\n\u001b[1;32m      6\u001b[0m \u001b[0mtrainer\u001b[0m \u001b[0;34m=\u001b[0m \u001b[0mTrainer\u001b[0m\u001b[0;34m(\u001b[0m\u001b[0mmodel\u001b[0m\u001b[0;34m,\u001b[0m \u001b[0mdataset\u001b[0m\u001b[0;34m,\u001b[0m \u001b[0mMomentumSGD\u001b[0m\u001b[0;34m(\u001b[0m\u001b[0;34m)\u001b[0m\u001b[0;34m,\u001b[0m \u001b[0mlearning_rate\u001b[0m\u001b[0;34m=\u001b[0m\u001b[0;36m1e-5\u001b[0m\u001b[0;34m,\u001b[0m \u001b[0mnum_epochs\u001b[0m\u001b[0;34m=\u001b[0m\u001b[0;36m50\u001b[0m\u001b[0;34m,\u001b[0m \u001b[0mbatch_size\u001b[0m\u001b[0;34m=\u001b[0m\u001b[0;36m64\u001b[0m\u001b[0;34m)\u001b[0m\u001b[0;34m\u001b[0m\u001b[0m\n\u001b[1;32m      7\u001b[0m \u001b[0;34m\u001b[0m\u001b[0m\n\u001b[0;32m----> 8\u001b[0;31m \u001b[0mloss_history\u001b[0m\u001b[0;34m,\u001b[0m \u001b[0mtrain_history\u001b[0m\u001b[0;34m,\u001b[0m \u001b[0mval_history\u001b[0m \u001b[0;34m=\u001b[0m \u001b[0mtrainer\u001b[0m\u001b[0;34m.\u001b[0m\u001b[0mfit\u001b[0m\u001b[0;34m(\u001b[0m\u001b[0;34m)\u001b[0m\u001b[0;34m\u001b[0m\u001b[0m\n\u001b[0m",
      "\u001b[0;32m~/Desktop/workspace/dl_course/assignments/assignment3/trainer.py\u001b[0m in \u001b[0;36mfit\u001b[0;34m(self)\u001b[0m\n\u001b[1;32m    103\u001b[0m                 \u001b[0;32mfor\u001b[0m \u001b[0mparam_name\u001b[0m\u001b[0;34m,\u001b[0m \u001b[0mparam\u001b[0m \u001b[0;32min\u001b[0m \u001b[0mself\u001b[0m\u001b[0;34m.\u001b[0m\u001b[0mmodel\u001b[0m\u001b[0;34m.\u001b[0m\u001b[0mparams\u001b[0m\u001b[0;34m(\u001b[0m\u001b[0;34m)\u001b[0m\u001b[0;34m.\u001b[0m\u001b[0mitems\u001b[0m\u001b[0;34m(\u001b[0m\u001b[0;34m)\u001b[0m\u001b[0;34m:\u001b[0m\u001b[0;34m\u001b[0m\u001b[0m\n\u001b[1;32m    104\u001b[0m                     \u001b[0moptimizer\u001b[0m \u001b[0;34m=\u001b[0m \u001b[0mself\u001b[0m\u001b[0;34m.\u001b[0m\u001b[0moptimizers\u001b[0m\u001b[0;34m[\u001b[0m\u001b[0mparam_name\u001b[0m\u001b[0;34m]\u001b[0m\u001b[0;34m\u001b[0m\u001b[0m\n\u001b[0;32m--> 105\u001b[0;31m                     \u001b[0mparam\u001b[0m\u001b[0;34m.\u001b[0m\u001b[0mvalue\u001b[0m \u001b[0;34m=\u001b[0m \u001b[0moptimizer\u001b[0m\u001b[0;34m.\u001b[0m\u001b[0mupdate\u001b[0m\u001b[0;34m(\u001b[0m\u001b[0mparam\u001b[0m\u001b[0;34m.\u001b[0m\u001b[0mvalue\u001b[0m\u001b[0;34m,\u001b[0m \u001b[0mparam\u001b[0m\u001b[0;34m.\u001b[0m\u001b[0mgrad\u001b[0m\u001b[0;34m,\u001b[0m \u001b[0mself\u001b[0m\u001b[0;34m.\u001b[0m\u001b[0mlearning_rate\u001b[0m\u001b[0;34m)\u001b[0m\u001b[0;34m\u001b[0m\u001b[0m\n\u001b[0m\u001b[1;32m    106\u001b[0m \u001b[0;34m\u001b[0m\u001b[0m\n\u001b[1;32m    107\u001b[0m                 \u001b[0mbatch_losses\u001b[0m\u001b[0;34m.\u001b[0m\u001b[0mappend\u001b[0m\u001b[0;34m(\u001b[0m\u001b[0mloss\u001b[0m\u001b[0;34m)\u001b[0m\u001b[0;34m\u001b[0m\u001b[0m\n",
      "\u001b[0;32m~/Desktop/workspace/dl_course/assignments/assignment3/optim.py\u001b[0m in \u001b[0;36mupdate\u001b[0;34m(self, w, d_w, learning_rate)\u001b[0m\n\u001b[1;32m     27\u001b[0m         '''\n\u001b[1;32m     28\u001b[0m         \u001b[0;31m# TODO Copy from the previous assignment\u001b[0m\u001b[0;34m\u001b[0m\u001b[0;34m\u001b[0m\u001b[0m\n\u001b[0;32m---> 29\u001b[0;31m         \u001b[0;32mraise\u001b[0m \u001b[0mException\u001b[0m\u001b[0;34m(\u001b[0m\u001b[0;34m\"Not implemented!\"\u001b[0m\u001b[0;34m)\u001b[0m\u001b[0;34m\u001b[0m\u001b[0m\n\u001b[0m",
      "\u001b[0;31mException\u001b[0m: Not implemented!"
     ]
    }
   ],
   "source": [
    "data_size = 128\n",
    "model = ConvNet(input_shape=(32,32,3), n_output_classes=10, conv1_channels=2, conv2_channels=2)\n",
    "dataset = Dataset(train_X[:data_size], train_y[:data_size], val_X[:data_size], val_y[:data_size])\n",
    "# TODO: Change any hyperparamers or optimizators to reach 1.0 training accuracy in 50 epochs or less\n",
    "# Hint: If you have hard time finding the right parameters manually, try grid search or random search!\n",
    "trainer = Trainer(model, dataset, MomentumSGD(), learning_rate=1e-5, num_epochs=50, batch_size=64)\n",
    "\n",
    "loss_history, train_history, val_history = trainer.fit()"
   ]
  },
  {
   "cell_type": "code",
   "execution_count": null,
   "metadata": {
    "collapsed": true
   },
   "outputs": [],
   "source": [
    "plt.plot(train_history)\n",
    "plt.plot(val_history)"
   ]
  },
  {
   "cell_type": "markdown",
   "metadata": {},
   "source": [
    "Дальнейшие упражнения - уже на PyTorch, открывайте следующий notebook!\n",
    "\n",
    "![image.png](attachment:image.png)"
   ]
  },
  {
   "cell_type": "code",
   "execution_count": null,
   "metadata": {
    "collapsed": true
   },
   "outputs": [],
   "source": []
  }
 ],
 "metadata": {
  "anaconda-cloud": {},
  "kernelspec": {
   "display_name": "Python [py35]",
   "language": "python",
   "name": "Python [py35]"
  },
  "language_info": {
   "codemirror_mode": {
    "name": "ipython",
    "version": 3
   },
   "file_extension": ".py",
   "mimetype": "text/x-python",
   "name": "python",
   "nbconvert_exporter": "python",
   "pygments_lexer": "ipython3",
   "version": "3.5.6"
  }
 },
 "nbformat": 4,
 "nbformat_minor": 2
}
