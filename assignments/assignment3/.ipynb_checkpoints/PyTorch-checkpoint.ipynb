{
 "cells": [
  {
   "cell_type": "markdown",
   "metadata": {},
   "source": [
    "# Задание 2.2 - Введение в PyTorch\n",
    "\n",
    "Для этого задания потребуется установить версию PyTorch 1.0\n",
    "\n",
    "https://pytorch.org/get-started/locally/\n",
    "\n",
    "В этом задании мы познакомимся с основными компонентами PyTorch и натренируем несколько небольших моделей.<br>\n",
    "GPU нам пока не понадобится.\n",
    "\n",
    "Основные ссылки:  \n",
    "https://pytorch.org/tutorials/beginner/deep_learning_60min_blitz.html  \n",
    "https://pytorch.org/docs/stable/nn.html  \n",
    "https://pytorch.org/docs/stable/torchvision/index.html  "
   ]
  },
  {
   "cell_type": "code",
   "execution_count": 1,
   "metadata": {
    "collapsed": false,
    "scrolled": true
   },
   "outputs": [],
   "source": [
    "import matplotlib as mpl\n",
    "mpl.use('TkAgg')\n",
    "import torch\n",
    "import torch.nn as nn\n",
    "import torch.optim as optim\n",
    "import torchvision.datasets as dset\n",
    "from torch.utils.data.sampler import SubsetRandomSampler, Sampler\n",
    "\n",
    "from torchvision import transforms\n",
    "\n",
    "import matplotlib.pyplot as plt\n",
    "%matplotlib inline\n",
    "\n",
    "import numpy as np"
   ]
  },
  {
   "cell_type": "markdown",
   "metadata": {},
   "source": [
    "## Как всегда, начинаем с загрузки данных\n",
    "\n",
    "PyTorch поддерживает загрузку SVHN из коробки."
   ]
  },
  {
   "cell_type": "code",
   "execution_count": 2,
   "metadata": {
    "collapsed": true,
    "scrolled": true
   },
   "outputs": [],
   "source": [
    "# First, lets load the dataset\n",
    "data_train = dset.SVHN('./data/', split='train',\n",
    "                       transform=transforms.Compose([\n",
    "                           transforms.ToTensor(),\n",
    "                           transforms.Normalize(mean=[0.43,0.44,0.47],\n",
    "                                               std=[0.20,0.20,0.20])                           \n",
    "                       ])\n",
    "                      )\n",
    "data_test = dset.SVHN('./data/', split='test', \n",
    "                      transform=transforms.Compose([\n",
    "                           transforms.ToTensor(),\n",
    "                           transforms.Normalize(mean=[0.43,0.44,0.47],\n",
    "                                               std=[0.20,0.20,0.20])                           \n",
    "                       ]))"
   ]
  },
  {
   "cell_type": "markdown",
   "metadata": {},
   "source": [
    "Теперь мы разделим данные на training и validation с использованием классов `SubsetRandomSampler` и `DataLoader`.\n",
    "\n",
    "`DataLoader` подгружает данные, предоставляемые классом `Dataset`, во время тренировки и группирует их в батчи.\n",
    "Он дает возможность указать `Sampler`, который выбирает, какие примеры из датасета использовать для тренировки. Мы используем это, чтобы разделить данные на training и validation.\n",
    "\n",
    "Подробнее: https://pytorch.org/tutorials/beginner/data_loading_tutorial.html"
   ]
  },
  {
   "cell_type": "code",
   "execution_count": 3,
   "metadata": {
    "collapsed": true,
    "scrolled": true
   },
   "outputs": [],
   "source": [
    "batch_size = 64\n",
    "\n",
    "data_size = data_train.data.shape[0]\n",
    "validation_split = .2\n",
    "split = int(np.floor(validation_split * data_size))\n",
    "indices = list(range(data_size))\n",
    "np.random.shuffle(indices)\n",
    "\n",
    "train_indices, val_indices = indices[split:], indices[:split]\n",
    "\n",
    "train_sampler = SubsetRandomSampler(train_indices)\n",
    "val_sampler = SubsetRandomSampler(val_indices)\n",
    "\n",
    "train_loader = torch.utils.data.DataLoader(data_train, batch_size=batch_size, \n",
    "                                           sampler=train_sampler)\n",
    "val_loader = torch.utils.data.DataLoader(data_train, batch_size=batch_size,\n",
    "                                         sampler=val_sampler)"
   ]
  },
  {
   "cell_type": "markdown",
   "metadata": {},
   "source": [
    "В нашей задаче мы получаем на вход изображения, но работаем с ними как с одномерными массивами. Чтобы превратить многомерный массив в одномерный, мы воспользуемся очень простым вспомогательным модулем `Flattener`."
   ]
  },
  {
   "cell_type": "code",
   "execution_count": 4,
   "metadata": {
    "collapsed": false,
    "scrolled": true
   },
   "outputs": [
    {
     "name": "stdout",
     "output_type": "stream",
     "text": [
      "('SVHN data sample shape: ', torch.Size([3, 32, 32]))\n"
     ]
    }
   ],
   "source": [
    "sample, label = data_train[0]\n",
    "print(\"SVHN data sample shape: \", sample.shape)\n",
    "# As you can see, the data is shaped like an image\n",
    "\n",
    "# We'll use a special helper module to shape it into a tensor\n",
    "class Flattener(nn.Module):\n",
    "    def forward(self, x):\n",
    "        #print(x.shape)\n",
    "        batch_size, sizee1, sizee2, sizee3   = x.shape\n",
    "        return x.view(batch_size, -1)"
   ]
  },
  {
   "cell_type": "markdown",
   "metadata": {},
   "source": [
    "И наконец, мы создаем основные объекты PyTorch:\n",
    "- `nn_model` - собственно, модель с нейросетью\n",
    "- `loss` - функцию ошибки, в нашем случае `CrossEntropyLoss`\n",
    "- `optimizer` - алгоритм оптимизации, в нашем случае просто `SGD`"
   ]
  },
  {
   "cell_type": "code",
   "execution_count": 5,
   "metadata": {
    "collapsed": true,
    "scrolled": true
   },
   "outputs": [],
   "source": [
    "nn_model = nn.Sequential(\n",
    "            Flattener(),\n",
    "            nn.Linear(3*32*32, 100),\n",
    "            nn.ReLU(inplace=True),\n",
    "            nn.Linear(100, 10), \n",
    "         )\n",
    "nn_model.type(torch.FloatTensor)\n",
    "\n",
    "# We will minimize cross-entropy between the ground truth and\n",
    "# network predictions using an SGD optimizer\n",
    "loss = nn.CrossEntropyLoss().type(torch.FloatTensor)\n",
    "optimizer = optim.SGD(nn_model.parameters(), lr=1e-2, weight_decay=1e-1)"
   ]
  },
  {
   "cell_type": "markdown",
   "metadata": {},
   "source": [
    "## Тренируем!\n",
    "\n",
    "Ниже приведена функция `train_model`, реализующая основной цикл тренировки PyTorch.\n",
    "\n",
    "Каждую эпоху эта функция вызывает функцию `compute_accuracy`, которая вычисляет точность на validation, эту последнюю функцию предлагается реализовать вам."
   ]
  },
  {
   "cell_type": "code",
   "execution_count": 6,
   "metadata": {
    "collapsed": false,
    "scrolled": true
   },
   "outputs": [
    {
     "name": "stdout",
     "output_type": "stream",
     "text": [
      "Average loss: 1.824540, Train accuracy: 0.411272, Val accuracy: 0.549655\n",
      "Average loss: 1.456627, Train accuracy: 0.582756, Val accuracy: 0.600915\n",
      "Average loss: 1.379687, Train accuracy: 0.617411, Val accuracy: 0.621937\n"
     ]
    }
   ],
   "source": [
    "# This is how to implement the same main train loop in PyTorch. Pretty easy, right?\n",
    "\n",
    "def train_model(model, train_loader, val_loader, loss, optimizer, num_epochs, scheduler=None):    \n",
    "    loss_history = []\n",
    "    train_history = []\n",
    "    val_history = []\n",
    "    for epoch in range(num_epochs):\n",
    "        #if scheduler is not None:\n",
    "        #    scheduler.step()\n",
    "        model.train() # Enter train mode\n",
    "        \n",
    "        loss_accum = 0\n",
    "        correct_samples = 0\n",
    "        total_samples = 0\n",
    "        for i_step, (x, y) in enumerate(train_loader):\n",
    "            prediction = model(x)    \n",
    "            loss_value = loss(prediction, y)\n",
    "            optimizer.zero_grad()\n",
    "            loss_value.backward()\n",
    "            optimizer.step()\n",
    "            \n",
    "            _, indices = torch.max(prediction, 1)\n",
    "            correct_samples += torch.sum(indices == y)\n",
    "            total_samples += y.shape[0]\n",
    "            \n",
    "            loss_accum += loss_value\n",
    "\n",
    "        ave_loss = loss_accum / (i_step + 1)\n",
    "        train_accuracy = float(correct_samples) / total_samples\n",
    "        val_accuracy = compute_accuracy(model, val_loader)\n",
    "        if scheduler is not None:\n",
    "            scheduler.step()\n",
    "        \n",
    "        loss_history.append(float(ave_loss))\n",
    "        train_history.append(train_accuracy)\n",
    "        val_history.append(val_accuracy)\n",
    "        \n",
    "        print(\"Average loss: %f, Train accuracy: %f, Val accuracy: %f\" % (ave_loss, train_accuracy, val_accuracy))\n",
    "        \n",
    "    return loss_history, train_history, val_history\n",
    "        \n",
    "def compute_accuracy(model, loader):\n",
    "    \"\"\"\n",
    "    Computes accuracy on the dataset wrapped in a loader\n",
    "    \n",
    "    Returns: accuracy as a float value between 0 and 1\n",
    "    \"\"\"\n",
    "    model.eval() # Evaluation mode\n",
    "    # TODO: Implement the inference of the model on all of the batches from loader,\n",
    "    #       and compute the overall accuracy.\n",
    "    # Hint: PyTorch has the argmax function!\n",
    "    \n",
    "    #raise Exception(\"Not implemented\")\n",
    "    correct_samples = 0\n",
    "    total_samples = 0\n",
    "    for i, (x, y) in enumerate(loader):\n",
    "        prediction = model(x)\n",
    "        indices = torch.argmax(prediction, 1)\n",
    "        correct_samples += torch.sum(indices == y)\n",
    "        total_samples += y.shape[0]\n",
    "        \n",
    "    accuracy = float(correct_samples) / total_samples    \n",
    "    \n",
    "    \n",
    "    return accuracy\n",
    "\n",
    "loss_history, train_history, val_history = train_model(nn_model, train_loader, val_loader, loss, optimizer, 3)"
   ]
  },
  {
   "cell_type": "markdown",
   "metadata": {},
   "source": [
    "## После основного цикла\n",
    "\n",
    "Посмотрим на другие возможности и оптимизации, которые предоставляет PyTorch.\n",
    "\n",
    "Добавьте еще один скрытый слой размера 100 нейронов к модели"
   ]
  },
  {
   "cell_type": "code",
   "execution_count": 7,
   "metadata": {
    "collapsed": false,
    "scrolled": true
   },
   "outputs": [
    {
     "name": "stdout",
     "output_type": "stream",
     "text": [
      "Average loss: 2.191005, Train accuracy: 0.190834, Val accuracy: 0.213228\n",
      "Average loss: 2.048029, Train accuracy: 0.243985, Val accuracy: 0.295133\n",
      "Average loss: 1.854131, Train accuracy: 0.355305, Val accuracy: 0.406798\n",
      "Average loss: 1.719777, Train accuracy: 0.420554, Val accuracy: 0.433691\n",
      "Average loss: 1.684818, Train accuracy: 0.433539, Val accuracy: 0.454986\n"
     ]
    }
   ],
   "source": [
    "# Since it's so easy to add layers, let's add some!\n",
    "\n",
    "# TODO: Implement a model with 2 hidden layers of the size 100\n",
    "nn_model = nn.Sequential(\n",
    "            Flattener(),\n",
    "            nn.Linear(3*32*32, 100),\n",
    "            nn.ReLU(inplace=True),\n",
    "            nn.Linear(100, 100),\n",
    "            nn.ReLU(inplace=True),\n",
    "            nn.Linear(100, 10)\n",
    "       )\n",
    "nn_model.type(torch.FloatTensor)\n",
    "\n",
    "optimizer = optim.SGD(nn_model.parameters(), lr=1e-2, weight_decay=1e-1)\n",
    "loss_history, train_history, val_history = train_model(nn_model, train_loader, val_loader, loss, optimizer, 5)"
   ]
  },
  {
   "cell_type": "markdown",
   "metadata": {},
   "source": [
    "Добавьте слой с Batch Normalization"
   ]
  },
  {
   "cell_type": "code",
   "execution_count": 8,
   "metadata": {
    "collapsed": false,
    "scrolled": true
   },
   "outputs": [
    {
     "name": "stdout",
     "output_type": "stream",
     "text": [
      "Average loss: 2.082650, Train accuracy: 0.300140, Val accuracy: 0.438264\n",
      "Average loss: 1.781660, Train accuracy: 0.481487, Val accuracy: 0.556140\n",
      "Average loss: 1.632435, Train accuracy: 0.559090, Val accuracy: 0.607672\n",
      "Average loss: 1.541242, Train accuracy: 0.597226, Val accuracy: 0.619139\n",
      "Average loss: 1.481713, Train accuracy: 0.620329, Val accuracy: 0.615453\n"
     ]
    }
   ],
   "source": [
    "# We heard batch normalization is powerful, let's use it!\n",
    "# TODO: Add batch normalization after each of the hidden layers of the network, before or after non-linearity\n",
    "# Hint: check out torch.nn.BatchNorm1d\n",
    "\n",
    "nn_model = nn.Sequential(\n",
    "            Flattener(),\n",
    "            nn.Linear(3*32*32, 100),\n",
    "            nn.BatchNorm1d(100),\n",
    "            nn.ReLU(inplace=True),\n",
    "            nn.Linear(100, 100),\n",
    "            nn.BatchNorm1d(100),\n",
    "            nn.ReLU(inplace=True),\n",
    "            nn.Linear(100, 10)\n",
    "         )\n",
    "\n",
    "optimizer = optim.SGD(nn_model.parameters(), lr=1e-3, weight_decay=1e-1)\n",
    "loss_history, train_history, val_history = train_model(nn_model, train_loader, val_loader, loss, optimizer, 5)"
   ]
  },
  {
   "cell_type": "markdown",
   "metadata": {},
   "source": [
    "Добавьте уменьшение скорости обучения по ходу тренировки."
   ]
  },
  {
   "cell_type": "code",
   "execution_count": 9,
   "metadata": {
    "collapsed": false,
    "scrolled": true
   },
   "outputs": [
    {
     "name": "stdout",
     "output_type": "stream",
     "text": [
      "Average loss: 2.069163, Train accuracy: 0.307033, Val accuracy: 0.444953\n",
      "Average loss: 1.769290, Train accuracy: 0.472341, Val accuracy: 0.531500\n",
      "Average loss: 1.660892, Train accuracy: 0.528837, Val accuracy: 0.560713\n",
      "Average loss: 1.611037, Train accuracy: 0.551565, Val accuracy: 0.584943\n",
      "Average loss: 1.575614, Train accuracy: 0.570607, Val accuracy: 0.590676\n"
     ]
    }
   ],
   "source": [
    "# Learning rate annealing\n",
    "# Reduce your learning rate 2x every 2 epochs\n",
    "# Hint: look up learning rate schedulers in PyTorch. You might need to extend train_model function a little bit too!\n",
    "\n",
    "nn_model = nn.Sequential(\n",
    "            Flattener(),\n",
    "            nn.Linear(3*32*32, 100),\n",
    "            nn.BatchNorm1d(100),\n",
    "            nn.ReLU(inplace=True),\n",
    "            nn.Linear(100, 100),\n",
    "            nn.BatchNorm1d(100),\n",
    "            nn.ReLU(inplace=True),\n",
    "            nn.Linear(100, 10)\n",
    "         )\n",
    "\n",
    "optimizer = optim.SGD(nn_model.parameters(), lr=1e-3, weight_decay=1e-1)\n",
    "scheduler = optim.lr_scheduler.StepLR(optimizer, 2, gamma=0.5)\n",
    "\n",
    "loss_history, train_history, val_history = train_model(nn_model, train_loader, val_loader, loss, optimizer, 5, scheduler)"
   ]
  },
  {
   "cell_type": "markdown",
   "metadata": {},
   "source": [
    "# Визуализируем ошибки модели\n",
    "\n",
    "Попробуем посмотреть, на каких изображениях наша модель ошибается.\n",
    "Для этого мы получим все предсказания модели на validation set и сравним их с истинными метками (ground truth).\n",
    "\n",
    "Первая часть - реализовать код на PyTorch, который вычисляет все предсказания модели на validation set.  \n",
    "Чтобы это сделать мы приводим код `SubsetSampler`, который просто проходит по всем заданным индексам последовательно и составляет из них батчи. \n",
    "\n",
    "Реализуйте функцию `evaluate_model`, которая прогоняет модель через все сэмплы validation set и запоминает предсказания модели и истинные метки."
   ]
  },
  {
   "cell_type": "code",
   "execution_count": 10,
   "metadata": {
    "collapsed": true
   },
   "outputs": [],
   "source": [
    "class SubsetSampler(Sampler):\n",
    "    r\"\"\"Samples elements with given indices sequentially\n",
    "\n",
    "    Arguments:\n",
    "        indices (ndarray): indices of the samples to take\n",
    "    \"\"\"\n",
    "\n",
    "    def __init__(self, indices):\n",
    "        self.indices = indices\n",
    "\n",
    "    def __iter__(self):\n",
    "        return (self.indices[i] for i in range(len(self.indices)))\n",
    "\n",
    "    def __len__(self):\n",
    "        return len(self.indices)\n",
    "    \n",
    "    \n",
    "def evaluate_model(model, dataset, indices):\n",
    "    \"\"\"\n",
    "    Computes predictions and ground truth labels for the indices of the dataset\n",
    "    \n",
    "    Returns: \n",
    "    predictions: np array of ints - model predictions\n",
    "    grount_truth: np array of ints - actual labels of the dataset\n",
    "    \"\"\"\n",
    "    model.eval() # Evaluation mode\n",
    "    \n",
    "    # TODO: Evaluate model on the list of indices and capture predictions\n",
    "    # and ground truth labels\n",
    "    # Hint: SubsetSampler above could be useful!\n",
    "    \n",
    "    #raise Exception(\"Not implemented\")\n",
    "    \n",
    "    loader = torch.utils.data.DataLoader(dataset, batch_size=batch_size, sampler=SubsetSampler(indices))\n",
    "    \n",
    "    predictions = []\n",
    "    ground_truth = []\n",
    "    for i, (x, y) in enumerate(loader):\n",
    "        prediction = model(x)\n",
    "        indicees = torch.argmax(prediction, 1)\n",
    "        \n",
    "        predictions += list(indicees.numpy())\n",
    "        ground_truth += list(y.numpy())\n",
    "    \n",
    "    return predictions, ground_truth\n",
    "\n",
    "# Evaluate model on validation\n",
    "predictions, gt = evaluate_model(nn_model, data_train, val_indices)\n",
    "assert len(predictions) == len(val_indices)\n",
    "assert len(gt) == len(val_indices)\n",
    "assert gt[100] == data_train[val_indices[100]][1]\n",
    "assert np.any(np.not_equal(gt, predictions))"
   ]
  },
  {
   "cell_type": "markdown",
   "metadata": {},
   "source": [
    "## Confusion matrix\n",
    "Первая часть визуализации - вывести confusion matrix (https://en.wikipedia.org/wiki/Confusion_matrix ).\n",
    "\n",
    "Confusion matrix - это матрица, где каждой строке соответствуют классы предсказанный, а столбцу - классы истинных меток (ground truth). Число с координатами `i,j` - это количество сэмплов класса `j`, которые модель считает классом `i`.\n",
    "\n",
    "![image.png](attachment:image.png)\n",
    "\n",
    "Для того, чтобы облегчить вам задачу, ниже реализована функция `visualize_confusion_matrix` которая визуализирует такую матрицу.  \n",
    "Вам осталось реализовать функцию `build_confusion_matrix`, которая ее вычислит.\n",
    "\n",
    "Результатом должна быть матрица 10x10."
   ]
  },
  {
   "cell_type": "code",
   "execution_count": 11,
   "metadata": {
    "collapsed": false
   },
   "outputs": [
    {
     "data": {
      "image/png": "[encoded data removed]",
      "text/plain": [
       "<Figure size 1000x1000 with 2 Axes>"
      ]
     },
     "metadata": {},
     "output_type": "display_data"
    }
   ],
   "source": [
    "from sklearn import metrics\n",
    "def visualize_confusion_matrix(confusion_matrix):\n",
    "    \"\"\"\n",
    "    Visualizes confusion matrix\n",
    "    \n",
    "    confusion_matrix: np array of ints, x axis - predicted class, y axis - actual class\n",
    "                      [i][j] should have the count of samples that were predicted to be class i,\n",
    "                      but have j in the ground truth\n",
    "                     \n",
    "    \"\"\"\n",
    "    # Adapted from \n",
    "    # https://stackoverflow.com/questions/2897826/confusion-matrix-with-number-of-classified-misclassified-instances-on-it-python\n",
    "    assert confusion_matrix.shape[0] == confusion_matrix.shape[1]\n",
    "    size = confusion_matrix.shape[0]\n",
    "    fig = plt.figure(figsize=(10,10))\n",
    "    plt.title(\"Confusion matrix\")\n",
    "    plt.ylabel(\"predicted\")\n",
    "    plt.xlabel(\"ground truth\")\n",
    "    res = plt.imshow(confusion_matrix, cmap='GnBu', interpolation='nearest')\n",
    "    cb = fig.colorbar(res)\n",
    "    plt.xticks(np.arange(size))\n",
    "    plt.yticks(np.arange(size))\n",
    "    for i, row in enumerate(confusion_matrix):\n",
    "        for j, count in enumerate(row):\n",
    "            plt.text(j, i, count, fontsize=14, horizontalalignment='center', verticalalignment='center')\n",
    "    \n",
    "def build_confusion_matrix(predictions, ground_truth):\n",
    "    \"\"\"\n",
    "    Builds confusion matrix from predictions and ground truth\n",
    "\n",
    "    predictions: np array of ints, model predictions for all validation samples\n",
    "    ground_truth: np array of ints, ground truth for all validation samples\n",
    "    \n",
    "    Returns:\n",
    "    np array of ints, (10,10), counts of samples for predicted/ground_truth classes\n",
    "    \"\"\"\n",
    "    \n",
    "    #confusion_matrix = np.zeros((10,10), np.int)\n",
    "    \n",
    "    # TODO: Implement filling the prediction matrix\n",
    "    #return np.array([[40, 2, 3], [10, 50,0], [0, 2, 80]])\n",
    "    return metrics.confusion_matrix(ground_truth, predictions).T\n",
    "\n",
    "confusion_matrix = build_confusion_matrix(predictions, gt)\n",
    "visualize_confusion_matrix(confusion_matrix)"
   ]
  },
  {
   "cell_type": "markdown",
   "metadata": {},
   "source": [
    "Наконец, посмотрим на изображения, соответствующие некоторым элементам этой матрицы.\n",
    "\n",
    "Как и раньше, вам дана функция `visualize_images`, которой нужно воспрользоваться при реализации функции `visualize_predicted_actual`. Эта функция должна вывести несколько примеров, соответствующих заданному элементу матрицы.\n",
    "\n",
    "Визуализируйте наиболее частые ошибки и попробуйте понять, почему модель их совершает."
   ]
  },
  {
   "cell_type": "code",
   "execution_count": 12,
   "metadata": {
    "collapsed": false
   },
   "outputs": [
    {
     "data": {
      "text/plain": [
       "<Figure size 1000x200 with 0 Axes>"
      ]
     },
     "metadata": {},
     "output_type": "display_data"
    },
    {
     "data": {
      "text/plain": [
       "<Figure size 1000x200 with 0 Axes>"
      ]
     },
     "metadata": {},
     "output_type": "display_data"
    }
   ],
   "source": [
    "%matplotlib inline\n",
    "\n",
    "data_train_images = dset.SVHN('./data/', split='train')\n",
    "\n",
    "def visualize_images(indices, data, title='', max_num=10):\n",
    "    \"\"\"\n",
    "    Visualizes several images from the dataset\n",
    " \n",
    "    indices: array of indices to visualize\n",
    "    data: torch Dataset with the images\n",
    "    title: string, title of the plot\n",
    "    max_num: int, max number of images to display\n",
    "    \"\"\"\n",
    "    to_show = min(len(indices), max_num)\n",
    "    fig = plt.figure(figsize=(10,2))\n",
    "    fig.suptitle(title)\n",
    "    for i, index in enumerate(indices[:to_show]):\n",
    "        plt.subplot(1,to_show, i+1)\n",
    "        plt.axis('off')\n",
    "        sample = data[index][0]\n",
    "        plt.imshow(sample)\n",
    "        plt.show()\n",
    "        \n",
    "def visualize_predicted_actual(predicted_class, gt_class, predictions, groud_truth, val_indices, data):\n",
    "    \"\"\"\n",
    "    Visualizes images of a ground truth class which were predicted as the other class \n",
    "    \n",
    "    predicted: int 0-9, index of the predicted class\n",
    "    gt_class: int 0-9, index of the ground truth class\n",
    "    predictions: np array of ints, model predictions for all validation samples\n",
    "    ground_truth: np array of ints, ground truth for all validation samples\n",
    "    val_indices: np array of ints, indices of validation samples\n",
    "    \"\"\"\n",
    "\n",
    "    # TODO: Implement visualization using visualize_images above\n",
    "    # predictions and ground_truth are provided for validation set only, defined by val_indices\n",
    "    # Hint: numpy index arrays might be helpful\n",
    "    # https://docs.scipy.org/doc/numpy/user/basics.indexing.html#index-arrays\n",
    "    # Please make the title meaningful!\n",
    "    \n",
    "    #raise Exception(\"Not implemented\")\n",
    "    #title = \"Visualize: predicted_class is {predicted_class}, gt_class is {gt_class}\"\n",
    "    title = 'predicted: %s, actual: %s' % (predicted_class, gt_class)\n",
    "    indices = val_indices[(groud_truth == gt_class) & (predictions == predicted_class)]\n",
    "    \n",
    "    visualize_images(indices, data, title, max_num=10)\n",
    "\n",
    "\n",
    "visualize_predicted_actual(6, 8, predictions, gt, np.array(val_indices), data_train_images)\n",
    "visualize_predicted_actual(1, 7, predictions, gt, np.array(val_indices), data_train_images)"
   ]
  },
  {
   "cell_type": "code",
   "execution_count": null,
   "metadata": {
    "collapsed": true
   },
   "outputs": [],
   "source": []
  },
  {
   "cell_type": "markdown",
   "metadata": {},
   "source": [
    "# Переходим к свободным упражнениям!\n",
    "\n",
    "Натренируйте модель как можно лучше - экспериментируйте сами!\n",
    "Что следует обязательно попробовать:\n",
    "- перебор гиперпараметров с помощью валидационной выборки\n",
    "- другие оптимизаторы вместо SGD\n",
    "- изменение количества слоев и их размеров\n",
    "- наличие Batch Normalization\n",
    "\n",
    "Но ограничиваться этим не стоит!\n",
    "\n",
    "Точность на тестовой выборке должна быть доведена до **80%**"
   ]
  },
  {
   "cell_type": "code",
   "execution_count": null,
   "metadata": {
    "collapsed": true,
    "scrolled": true
   },
   "outputs": [],
   "source": [
    "# Experiment here!"
   ]
  },
  {
   "cell_type": "code",
   "execution_count": 13,
   "metadata": {
    "collapsed": false
   },
   "outputs": [
    {
     "name": "stdout",
     "output_type": "stream",
     "text": [
      "Test accuracy: 0.5582\n"
     ]
    }
   ],
   "source": [
    "# Как всегда, в конце проверяем на test set\n",
    "test_loader = torch.utils.data.DataLoader(data_test, batch_size=batch_size)\n",
    "test_accuracy = compute_accuracy(nn_model, test_loader)\n",
    "print(\"Test accuracy: %2.4f\" % test_accuracy)"
   ]
  },
  {
   "cell_type": "code",
   "execution_count": 14,
   "metadata": {
    "collapsed": false,
    "scrolled": true
   },
   "outputs": [
    {
     "name": "stdout",
     "output_type": "stream",
     "text": [
      "Average loss: 1.324747, Train accuracy: 0.572945, Val accuracy: 0.701317\n",
      "Average loss: 0.928750, Train accuracy: 0.708050, Val accuracy: 0.736946\n",
      "Average loss: 0.752471, Train accuracy: 0.766543, Val accuracy: 0.786772\n",
      "Average loss: 0.705842, Train accuracy: 0.781558, Val accuracy: 0.792096\n",
      "Average loss: 0.626837, Train accuracy: 0.805174, Val accuracy: 0.815030\n",
      "Average loss: 0.599587, Train accuracy: 0.814132, Val accuracy: 0.811276\n",
      "Average loss: 0.554763, Train accuracy: 0.829659, Val accuracy: 0.826087\n",
      "Average loss: 0.541286, Train accuracy: 0.832713, Val accuracy: 0.828135\n",
      "Average loss: 0.517548, Train accuracy: 0.840733, Val accuracy: 0.831547\n",
      "Average loss: 0.508581, Train accuracy: 0.842218, Val accuracy: 0.832503\n",
      "Average loss: 0.498405, Train accuracy: 0.847319, Val accuracy: 0.835028\n",
      "Average loss: 0.492711, Train accuracy: 0.847149, Val accuracy: 0.836530\n",
      "Average loss: 0.489456, Train accuracy: 0.849845, Val accuracy: 0.836257\n",
      "Average loss: 0.483939, Train accuracy: 0.850152, Val accuracy: 0.835916\n",
      "Average loss: 0.485340, Train accuracy: 0.850920, Val accuracy: 0.837212\n",
      "Average loss: 0.483394, Train accuracy: 0.851022, Val accuracy: 0.835916\n",
      "Average loss: 0.480651, Train accuracy: 0.852541, Val accuracy: 0.837485\n",
      "Average loss: 0.481863, Train accuracy: 0.850067, Val accuracy: 0.839055\n",
      "Average loss: 0.478491, Train accuracy: 0.852285, Val accuracy: 0.836257\n",
      "Average loss: 0.477849, Train accuracy: 0.853053, Val accuracy: 0.838578\n",
      "Average loss: 0.477900, Train accuracy: 0.852524, Val accuracy: 0.837963\n",
      "Average loss: 0.478070, Train accuracy: 0.852063, Val accuracy: 0.836393\n",
      "Average loss: 0.478050, Train accuracy: 0.851670, Val accuracy: 0.837417\n",
      "Average loss: 0.477515, Train accuracy: 0.852609, Val accuracy: 0.838919\n",
      "Average loss: 0.476498, Train accuracy: 0.852660, Val accuracy: 0.838714\n",
      "Average loss: 0.478405, Train accuracy: 0.853428, Val accuracy: 0.840216\n",
      "Average loss: 0.477605, Train accuracy: 0.852114, Val accuracy: 0.836735\n",
      "Average loss: 0.478401, Train accuracy: 0.851978, Val accuracy: 0.838305\n",
      "Average loss: 0.477890, Train accuracy: 0.852780, Val accuracy: 0.839260\n",
      "Average loss: 0.478700, Train accuracy: 0.852984, Val accuracy: 0.837417\n"
     ]
    }
   ],
   "source": [
    "import math\n",
    "\n",
    "batch_size = 64\n",
    "\n",
    "layer1 = 100\n",
    "layer2 = 100\n",
    "\n",
    "learning_rate = 1e-3\n",
    "reg_strength = 1e-4\n",
    "\n",
    "epochs = 30\n",
    "\n",
    "train_loader = torch.utils.data.DataLoader(data_train, batch_size=batch_size, sampler=train_sampler)\n",
    "val_loader = torch.utils.data.DataLoader(data_train, batch_size=batch_size, sampler=val_sampler)\n",
    "\n",
    "nn_model = nn.Sequential(\n",
    "    Flattener(),\n",
    "    \n",
    "    nn.Linear(3*32*32, layer1),    \n",
    "    nn.ReLU(inplace=True),\n",
    "    nn.BatchNorm1d(layer1),\n",
    "    \n",
    "    nn.Linear(layer1, layer2),    \n",
    "    nn.ReLU(inplace=True),\n",
    "    nn.BatchNorm1d(layer2),\n",
    "    \n",
    "    nn.Linear(layer2, 10)\n",
    ")\n",
    "\n",
    "\n",
    "nn_model.type(torch.FloatTensor)\n",
    "\n",
    "optimizer = optim.Adam(nn_model.parameters(), lr=learning_rate, weight_decay=reg_strength)\n",
    "#scheduler = optim.lr_scheduler.ReduceLROnPlateau(optimizer, factor=0.333, patience=3)\n",
    "scheduler = optim.lr_scheduler.StepLR(optimizer, 2, gamma=0.5)\n",
    "\n",
    "\n",
    "loss_history, train_history, val_history = train_model(nn_model, train_loader, val_loader, loss, optimizer, 30, scheduler)"
   ]
  },
  {
   "cell_type": "code",
   "execution_count": 16,
   "metadata": {
    "collapsed": true
   },
   "outputs": [],
   "source": [
    "def loss_accuracy_plot(loss_history, train_history, val_history):\n",
    "    plt.figure(figsize=(10, 7))\n",
    "    plt.subplot(211)\n",
    "    plt.title(\"Loss\")\n",
    "    plt.plot(loss_history)\n",
    "    plt.subplot(212)\n",
    "    plt.title(\"Train/validation accuracy\")\n",
    "    plt.plot(train_history, label=\"train\")\n",
    "    plt.plot(val_history, label=\"validation\")\n",
    "    plt.legend();"
   ]
  },
  {
   "cell_type": "code",
   "execution_count": 17,
   "metadata": {
    "collapsed": false
   },
   "outputs": [
    {
     "data": {
      "image/png": "[encoded data removed]",
      "text/plain": [
       "<Figure size 1000x700 with 2 Axes>"
      ]
     },
     "metadata": {},
     "output_type": "display_data"
    }
   ],
   "source": [
    "loss_accuracy_plot(loss_history, train_history, val_history)"
   ]
  },
  {
   "cell_type": "code",
   "execution_count": 18,
   "metadata": {
    "collapsed": false
   },
   "outputs": [
    {
     "name": "stdout",
     "output_type": "stream",
     "text": [
      "Test accuracy: 0.8105\n"
     ]
    }
   ],
   "source": [
    "test_loader = torch.utils.data.DataLoader(data_test, batch_size=batch_size)\n",
    "test_accuracy = compute_accuracy(nn_model, test_loader)\n",
    "print(\"Test accuracy: %2.4f\" % test_accuracy)"
   ]
  },
  {
   "cell_type": "code",
   "execution_count": 21,
   "metadata": {
    "collapsed": false
   },
   "outputs": [
    {
     "name": "stdout",
     "output_type": "stream",
     "text": [
      "Average loss: 1.329881, Train accuracy: 0.570880, Val accuracy: 0.685892\n",
      "Average loss: 0.944466, Train accuracy: 0.703682, Val accuracy: 0.714217\n",
      "Average loss: 0.830033, Train accuracy: 0.740487, Val accuracy: 0.766228\n",
      "Average loss: 0.760975, Train accuracy: 0.761407, Val accuracy: 0.783359\n",
      "Average loss: 0.712627, Train accuracy: 0.776917, Val accuracy: 0.794144\n",
      "Average loss: 0.677265, Train accuracy: 0.789151, Val accuracy: 0.786636\n",
      "Average loss: 0.653572, Train accuracy: 0.796011, Val accuracy: 0.806907\n",
      "Average loss: 0.633480, Train accuracy: 0.803689, Val accuracy: 0.802539\n",
      "Average loss: 0.626135, Train accuracy: 0.803826, Val accuracy: 0.807522\n",
      "Average loss: 0.603066, Train accuracy: 0.812016, Val accuracy: 0.813392\n",
      "Average loss: 0.597083, Train accuracy: 0.813040, Val accuracy: 0.804314\n",
      "Average loss: 0.577582, Train accuracy: 0.817988, Val accuracy: 0.824244\n",
      "Average loss: 0.575132, Train accuracy: 0.820001, Val accuracy: 0.813596\n",
      "Average loss: 0.564351, Train accuracy: 0.822646, Val accuracy: 0.815234\n",
      "Average loss: 0.555478, Train accuracy: 0.824864, Val accuracy: 0.815849\n",
      "Average loss: 0.549668, Train accuracy: 0.828499, Val accuracy: 0.817146\n",
      "Average loss: 0.545367, Train accuracy: 0.827867, Val accuracy: 0.823425\n",
      "Average loss: 0.540584, Train accuracy: 0.829676, Val accuracy: 0.819398\n",
      "Average loss: 0.527641, Train accuracy: 0.832611, Val accuracy: 0.818511\n",
      "Average loss: 0.536091, Train accuracy: 0.831075, Val accuracy: 0.818169\n",
      "Average loss: 0.523457, Train accuracy: 0.833686, Val accuracy: 0.827247\n",
      "Average loss: 0.518138, Train accuracy: 0.836024, Val accuracy: 0.826428\n",
      "Average loss: 0.519610, Train accuracy: 0.835000, Val accuracy: 0.828203\n",
      "Average loss: 0.515590, Train accuracy: 0.838088, Val accuracy: 0.822469\n",
      "Average loss: 0.512761, Train accuracy: 0.838276, Val accuracy: 0.826701\n",
      "Average loss: 0.510262, Train accuracy: 0.838225, Val accuracy: 0.820490\n",
      "Average loss: 0.502256, Train accuracy: 0.839965, Val accuracy: 0.825404\n",
      "Average loss: 0.501182, Train accuracy: 0.841177, Val accuracy: 0.819603\n",
      "Average loss: 0.498390, Train accuracy: 0.844248, Val accuracy: 0.818988\n",
      "Average loss: 0.498236, Train accuracy: 0.842678, Val accuracy: 0.819876\n"
     ]
    }
   ],
   "source": [
    "import math\n",
    "\n",
    "batch_size = 64\n",
    "\n",
    "layer1 = 100\n",
    "layer2 = 100\n",
    "\n",
    "learning_rate = 1e-3\n",
    "reg_strength = 1e-4\n",
    "\n",
    "epochs = 30\n",
    "\n",
    "train_loader = torch.utils.data.DataLoader(data_train, batch_size=batch_size, sampler=train_sampler)\n",
    "val_loader = torch.utils.data.DataLoader(data_train, batch_size=batch_size, sampler=val_sampler)\n",
    "\n",
    "nn_model = nn.Sequential(\n",
    "    Flattener(),\n",
    "    \n",
    "    nn.Linear(3*32*32, layer1),    \n",
    "    nn.ReLU(inplace=True),\n",
    "    nn.BatchNorm1d(layer1),\n",
    "    \n",
    "    nn.Linear(layer1, layer2),    \n",
    "    nn.ReLU(inplace=True),\n",
    "    nn.BatchNorm1d(layer2),\n",
    "    \n",
    "    nn.Linear(layer2, 10)\n",
    ")\n",
    "\n",
    "\n",
    "nn_model.type(torch.FloatTensor)\n",
    "\n",
    "optimizer = optim.Adam(nn_model.parameters(), lr=learning_rate, weight_decay=reg_strength)\n",
    "#scheduler = optim.lr_scheduler.ReduceLROnPlateau(optimizer, factor=0.333, patience=3)\n",
    "#scheduler = optim.lr_scheduler.StepLR(optimizer, 2, gamma=0.5)\n",
    "\n",
    "loss_history, train_history, val_history = train_model(nn_model, train_loader, val_loader, loss, optimizer, epochs)"
   ]
  },
  {
   "cell_type": "code",
   "execution_count": 22,
   "metadata": {
    "collapsed": false
   },
   "outputs": [
    {
     "name": "stdout",
     "output_type": "stream",
     "text": [
      "Test accuracy: 0.7898\n"
     ]
    }
   ],
   "source": [
    "test_loader = torch.utils.data.DataLoader(data_test, batch_size=batch_size)\n",
    "test_accuracy = compute_accuracy(nn_model, test_loader)\n",
    "print(\"Test accuracy: %2.4f\" % test_accuracy)"
   ]
  },
  {
   "cell_type": "code",
   "execution_count": 23,
   "metadata": {
    "collapsed": false
   },
   "outputs": [
    {
     "name": "stdout",
     "output_type": "stream",
     "text": [
      "Average loss: 1.328445, Train accuracy: 0.567945, Val accuracy: 0.682343\n",
      "Average loss: 0.932926, Train accuracy: 0.708784, Val accuracy: 0.752577\n",
      "Average loss: 0.818037, Train accuracy: 0.743746, Val accuracy: 0.775442\n",
      "Average loss: 0.754434, Train accuracy: 0.763983, Val accuracy: 0.778855\n",
      "Average loss: 0.707101, Train accuracy: 0.778726, Val accuracy: 0.788956\n",
      "Average loss: 0.674996, Train accuracy: 0.788127, Val accuracy: 0.786090\n",
      "Average loss: 0.655204, Train accuracy: 0.794953, Val accuracy: 0.796874\n",
      "Average loss: 0.630183, Train accuracy: 0.803740, Val accuracy: 0.808409\n",
      "Average loss: 0.613772, Train accuracy: 0.807443, Val accuracy: 0.804450\n",
      "Average loss: 0.603864, Train accuracy: 0.809781, Val accuracy: 0.816600\n",
      "Average loss: 0.589817, Train accuracy: 0.814098, Val accuracy: 0.809638\n",
      "Average loss: 0.583798, Train accuracy: 0.815889, Val accuracy: 0.799399\n",
      "Average loss: 0.569220, Train accuracy: 0.820257, Val accuracy: 0.820490\n",
      "Average loss: 0.570157, Train accuracy: 0.819302, Val accuracy: 0.818374\n",
      "Average loss: 0.557001, Train accuracy: 0.824762, Val accuracy: 0.814142\n",
      "Average loss: 0.548390, Train accuracy: 0.828959, Val accuracy: 0.822606\n",
      "Average loss: 0.545575, Train accuracy: 0.828277, Val accuracy: 0.806430\n",
      "Average loss: 0.537276, Train accuracy: 0.830239, Val accuracy: 0.818852\n",
      "Average loss: 0.538551, Train accuracy: 0.829233, Val accuracy: 0.823766\n",
      "Average loss: 0.534209, Train accuracy: 0.830666, Val accuracy: 0.822333\n",
      "Average loss: 0.521726, Train accuracy: 0.835631, Val accuracy: 0.825404\n",
      "Average loss: 0.520541, Train accuracy: 0.834795, Val accuracy: 0.823835\n",
      "Average loss: 0.520437, Train accuracy: 0.835358, Val accuracy: 0.823425\n",
      "Average loss: 0.511376, Train accuracy: 0.839402, Val accuracy: 0.822606\n",
      "Average loss: 0.510812, Train accuracy: 0.838242, Val accuracy: 0.827862\n",
      "Average loss: 0.507854, Train accuracy: 0.839573, Val accuracy: 0.819057\n",
      "Average loss: 0.506074, Train accuracy: 0.839010, Val accuracy: 0.826360\n",
      "Average loss: 0.499412, Train accuracy: 0.841962, Val accuracy: 0.818647\n",
      "Average loss: 0.498319, Train accuracy: 0.842491, Val accuracy: 0.818238\n",
      "Average loss: 0.499121, Train accuracy: 0.843975, Val accuracy: 0.826019\n"
     ]
    }
   ],
   "source": [
    "import math\n",
    "\n",
    "batch_size = 64\n",
    "\n",
    "layer1 = 100\n",
    "layer2 = 100\n",
    "\n",
    "learning_rate = 1e-3\n",
    "reg_strength = 1e-4\n",
    "\n",
    "epochs = 30\n",
    "\n",
    "train_loader = torch.utils.data.DataLoader(data_train, batch_size=batch_size, sampler=train_sampler)\n",
    "val_loader = torch.utils.data.DataLoader(data_train, batch_size=batch_size, sampler=val_sampler)\n",
    "\n",
    "nn_model = nn.Sequential(\n",
    "    Flattener(),\n",
    "    \n",
    "    nn.Linear(3*32*32, layer1),    \n",
    "    nn.ReLU(inplace=True),\n",
    "    nn.BatchNorm1d(layer1),\n",
    "    \n",
    "    nn.Linear(layer1, layer2),    \n",
    "    nn.ReLU(inplace=True),\n",
    "    nn.BatchNorm1d(layer2),\n",
    "    \n",
    "    nn.Linear(layer2, 10)\n",
    ")\n",
    "\n",
    "\n",
    "nn_model.type(torch.FloatTensor)\n",
    "\n",
    "optimizer = optim.Adam(nn_model.parameters(), lr=learning_rate, weight_decay=reg_strength)\n",
    "#scheduler = optim.lr_scheduler.ReduceLROnPlateau(optimizer, factor=0.333, patience=3)\n",
    "scheduler = optim.lr_scheduler.StepLR(optimizer, 2.5, gamma=0.5)\n",
    "\n",
    "loss_history, train_history, val_history = train_model(nn_model, train_loader, val_loader, loss, optimizer, epochs)"
   ]
  },
  {
   "cell_type": "code",
   "execution_count": 24,
   "metadata": {
    "collapsed": false
   },
   "outputs": [
    {
     "name": "stdout",
     "output_type": "stream",
     "text": [
      "Test accuracy: 0.7987\n"
     ]
    }
   ],
   "source": [
    "test_loader = torch.utils.data.DataLoader(data_test, batch_size=batch_size)\n",
    "test_accuracy = compute_accuracy(nn_model, test_loader)\n",
    "print(\"Test accuracy: %2.4f\" % test_accuracy)"
   ]
  },
  {
   "cell_type": "code",
   "execution_count": 27,
   "metadata": {
    "collapsed": false
   },
   "outputs": [
    {
     "name": "stdout",
     "output_type": "stream",
     "text": [
      "Average loss: 1.334085, Train accuracy: 0.560984, Val accuracy: 0.702341\n",
      "Average loss: 0.926822, Train accuracy: 0.707351, Val accuracy: 0.741315\n",
      "Average loss: 0.805695, Train accuracy: 0.745640, Val accuracy: 0.772370\n",
      "Average loss: 0.738411, Train accuracy: 0.766389, Val accuracy: 0.782336\n",
      "Average loss: 0.681694, Train accuracy: 0.784288, Val accuracy: 0.793802\n",
      "Average loss: 0.649069, Train accuracy: 0.794919, Val accuracy: 0.791618\n",
      "Average loss: 0.621694, Train accuracy: 0.802751, Val accuracy: 0.797898\n",
      "Average loss: 0.600829, Train accuracy: 0.811077, Val accuracy: 0.816327\n",
      "Average loss: 0.578603, Train accuracy: 0.817271, Val accuracy: 0.812777\n",
      "Average loss: 0.563662, Train accuracy: 0.821008, Val accuracy: 0.824108\n",
      "Average loss: 0.547425, Train accuracy: 0.826281, Val accuracy: 0.805815\n",
      "Average loss: 0.530530, Train accuracy: 0.832952, Val accuracy: 0.822947\n",
      "Average loss: 0.523126, Train accuracy: 0.833618, Val accuracy: 0.815507\n",
      "Average loss: 0.510858, Train accuracy: 0.837440, Val accuracy: 0.831070\n",
      "Average loss: 0.502354, Train accuracy: 0.838805, Val accuracy: 0.826838\n",
      "Average loss: 0.497120, Train accuracy: 0.840460, Val accuracy: 0.815507\n",
      "Average loss: 0.479880, Train accuracy: 0.847388, Val accuracy: 0.829977\n",
      "Average loss: 0.479668, Train accuracy: 0.847149, Val accuracy: 0.825131\n",
      "Average loss: 0.470702, Train accuracy: 0.849913, Val accuracy: 0.828339\n",
      "Average loss: 0.470100, Train accuracy: 0.848940, Val accuracy: 0.829909\n",
      "Average loss: 0.462833, Train accuracy: 0.852831, Val accuracy: 0.839874\n",
      "Average loss: 0.452652, Train accuracy: 0.853343, Val accuracy: 0.833527\n",
      "Average loss: 0.448418, Train accuracy: 0.855237, Val accuracy: 0.828749\n",
      "Average loss: 0.441748, Train accuracy: 0.859417, Val accuracy: 0.832639\n",
      "Average loss: 0.440362, Train accuracy: 0.857625, Val accuracy: 0.836052\n",
      "Average loss: 0.433202, Train accuracy: 0.859315, Val accuracy: 0.834278\n",
      "Average loss: 0.430147, Train accuracy: 0.860850, Val accuracy: 0.833663\n",
      "Average loss: 0.419689, Train accuracy: 0.865406, Val accuracy: 0.828885\n",
      "Average loss: 0.421411, Train accuracy: 0.863666, Val accuracy: 0.837076\n",
      "Average loss: 0.417076, Train accuracy: 0.863871, Val accuracy: 0.826565\n"
     ]
    }
   ],
   "source": [
    "import math\n",
    "\n",
    "batch_size = 64\n",
    "\n",
    "layer1 = 100\n",
    "layer2 = 100\n",
    "\n",
    "learning_rate = 1e-3\n",
    "reg_strength = 1e-4\n",
    "\n",
    "epochs = 30\n",
    "\n",
    "train_loader = torch.utils.data.DataLoader(data_train, batch_size=batch_size, sampler=train_sampler)\n",
    "val_loader = torch.utils.data.DataLoader(data_train, batch_size=batch_size, sampler=val_sampler)\n",
    "\n",
    "nn_model = nn.Sequential(\n",
    "    Flattener(),\n",
    "    \n",
    "    nn.Linear(3*32*32, layer1),    \n",
    "    nn.ReLU(inplace=True),\n",
    "    nn.BatchNorm1d(layer1),\n",
    "    \n",
    "    nn.Linear(100, 200),  # was added layer\n",
    "    nn.BatchNorm1d(200), \n",
    "    nn.ReLU(inplace=True),\n",
    "    \n",
    "    nn.Linear(200, layer2),    \n",
    "    nn.ReLU(inplace=True),\n",
    "    nn.BatchNorm1d(layer2),\n",
    "    \n",
    "    nn.Linear(layer2, 10)\n",
    ")\n",
    "\n",
    "nn_model.type(torch.FloatTensor)\n",
    "\n",
    "optimizer = optim.Adam(nn_model.parameters(), lr=learning_rate, weight_decay=reg_strength)\n",
    "#scheduler = optim.lr_scheduler.ReduceLROnPlateau(optimizer, factor=0.333, patience=3)\n",
    "scheduler = optim.lr_scheduler.StepLR(optimizer, 2, gamma=0.5)\n",
    "\n",
    "loss_history, train_history, val_history = train_model(nn_model, train_loader, val_loader, loss, optimizer, epochs)"
   ]
  },
  {
   "cell_type": "code",
   "execution_count": 28,
   "metadata": {
    "collapsed": false
   },
   "outputs": [
    {
     "name": "stdout",
     "output_type": "stream",
     "text": [
      "Test accuracy: 0.7961\n"
     ]
    }
   ],
   "source": [
    "test_loader = torch.utils.data.DataLoader(data_test, batch_size=batch_size)\n",
    "test_accuracy = compute_accuracy(nn_model, test_loader)\n",
    "print(\"Test accuracy: %2.4f\" % test_accuracy)"
   ]
  },
  {
   "cell_type": "code",
   "execution_count": null,
   "metadata": {
    "collapsed": false
   },
   "outputs": [
    {
     "name": "stdout",
     "output_type": "stream",
     "text": [
      "Average loss: 2.130143, Train accuracy: 0.272037, Val accuracy: 0.443110\n",
      "Average loss: 1.746936, Train accuracy: 0.503549, Val accuracy: 0.572384\n",
      "Average loss: 1.499441, Train accuracy: 0.595809, Val accuracy: 0.637909\n",
      "Average loss: 1.336147, Train accuracy: 0.644149, Val accuracy: 0.678111\n",
      "Average loss: 1.219045, Train accuracy: 0.673481, Val accuracy: 0.694355\n",
      "Average loss: 1.130136, Train accuracy: 0.694639, Val accuracy: 0.711078\n",
      "Average loss: 1.057136, Train accuracy: 0.711275, Val accuracy: 0.728346\n",
      "Average loss: 0.998472, Train accuracy: 0.721974, Val accuracy: 0.739745\n",
      "Average loss: 0.947325, Train accuracy: 0.733730, Val accuracy: 0.751758\n",
      "Average loss: 0.903649, Train accuracy: 0.742279, Val accuracy: 0.759607\n",
      "Average loss: 0.865377, Train accuracy: 0.751425, Val accuracy: 0.767593\n",
      "Average loss: 0.833287, Train accuracy: 0.758523, Val accuracy: 0.768070\n",
      "Average loss: 0.805257, Train accuracy: 0.765928, Val accuracy: 0.777148\n",
      "Average loss: 0.777307, Train accuracy: 0.773402, Val accuracy: 0.783496\n",
      "Average loss: 0.757223, Train accuracy: 0.777258, Val accuracy: 0.784452\n",
      "Average loss: 0.731125, Train accuracy: 0.785483, Val accuracy: 0.784179\n",
      "Average loss: 0.715726, Train accuracy: 0.788435, Val accuracy: 0.793802\n",
      "Average loss: 0.700418, Train accuracy: 0.791182, Val accuracy: 0.796806\n",
      "Average loss: 0.686653, Train accuracy: 0.795328, Val accuracy: 0.802812\n",
      "Average loss: 0.666605, Train accuracy: 0.801061, Val accuracy: 0.801857\n",
      "Average loss: 0.656435, Train accuracy: 0.803791, Val accuracy: 0.807522\n",
      "Average loss: 0.642522, Train accuracy: 0.806863, Val accuracy: 0.809842\n",
      "Average loss: 0.633471, Train accuracy: 0.808962, Val accuracy: 0.810525\n",
      "Average loss: 0.623343, Train accuracy: 0.813125, Val accuracy: 0.813323\n",
      "Average loss: 0.616002, Train accuracy: 0.813108, Val accuracy: 0.812641\n",
      "Average loss: 0.606818, Train accuracy: 0.816196, Val accuracy: 0.813596\n",
      "Average loss: 0.598787, Train accuracy: 0.817595, Val accuracy: 0.818511\n",
      "Average loss: 0.589453, Train accuracy: 0.821230, Val accuracy: 0.820081\n",
      "Average loss: 0.581028, Train accuracy: 0.822919, Val accuracy: 0.815234\n",
      "Average loss: 0.572978, Train accuracy: 0.825257, Val accuracy: 0.822674\n",
      "Average loss: 0.565851, Train accuracy: 0.827202, Val accuracy: 0.823493\n",
      "Average loss: 0.560702, Train accuracy: 0.829233, Val accuracy: 0.824108\n",
      "Average loss: 0.556357, Train accuracy: 0.828942, Val accuracy: 0.826633\n",
      "Average loss: 0.547523, Train accuracy: 0.833857, Val accuracy: 0.822606\n",
      "Average loss: 0.543570, Train accuracy: 0.832662, Val accuracy: 0.822538\n",
      "Average loss: 0.537282, Train accuracy: 0.834522, Val accuracy: 0.826770\n",
      "Average loss: 0.531753, Train accuracy: 0.837235, Val accuracy: 0.828817\n",
      "Average loss: 0.524799, Train accuracy: 0.838600, Val accuracy: 0.827862\n",
      "Average loss: 0.523913, Train accuracy: 0.838276, Val accuracy: 0.829841\n",
      "Average loss: 0.518293, Train accuracy: 0.841927, Val accuracy: 0.822538\n",
      "Average loss: 0.512061, Train accuracy: 0.842610, Val accuracy: 0.832230\n",
      "Average loss: 0.511408, Train accuracy: 0.841450, Val accuracy: 0.829773\n",
      "Average loss: 0.503834, Train accuracy: 0.845494, Val accuracy: 0.832503\n",
      "Average loss: 0.498795, Train accuracy: 0.845135, Val accuracy: 0.833595\n",
      "Average loss: 0.494572, Train accuracy: 0.846569, Val accuracy: 0.832981\n",
      "Average loss: 0.494367, Train accuracy: 0.847882, Val accuracy: 0.831684\n",
      "Average loss: 0.489295, Train accuracy: 0.848975, Val accuracy: 0.835506\n",
      "Average loss: 0.485655, Train accuracy: 0.848957, Val accuracy: 0.832366\n",
      "Average loss: 0.480115, Train accuracy: 0.853036, Val accuracy: 0.834482\n",
      "Average loss: 0.483513, Train accuracy: 0.850459, Val accuracy: 0.831957\n",
      "Average loss: 0.475849, Train accuracy: 0.851943, Val accuracy: 0.837759\n",
      "Average loss: 0.470792, Train accuracy: 0.854878, Val accuracy: 0.833595\n",
      "Average loss: 0.468911, Train accuracy: 0.855168, Val accuracy: 0.835984\n",
      "Average loss: 0.464036, Train accuracy: 0.855783, Val accuracy: 0.835779\n",
      "Average loss: 0.460570, Train accuracy: 0.857335, Val accuracy: 0.837417\n",
      "Average loss: 0.458804, Train accuracy: 0.857608, Val accuracy: 0.833936\n",
      "Average loss: 0.457479, Train accuracy: 0.859468, Val accuracy: 0.837554\n",
      "Average loss: 0.450598, Train accuracy: 0.861414, Val accuracy: 0.835097\n",
      "Average loss: 0.449366, Train accuracy: 0.860424, Val accuracy: 0.835097\n",
      "Average loss: 0.446622, Train accuracy: 0.860526, Val accuracy: 0.837281\n",
      "Average loss: 0.448000, Train accuracy: 0.860117, Val accuracy: 0.840693\n",
      "Average loss: 0.442805, Train accuracy: 0.862420, Val accuracy: 0.841103\n",
      "Average loss: 0.440592, Train accuracy: 0.863905, Val accuracy: 0.838032\n",
      "Average loss: 0.436676, Train accuracy: 0.864127, Val accuracy: 0.839738\n",
      "Average loss: 0.437191, Train accuracy: 0.864502, Val accuracy: 0.843492\n",
      "Average loss: 0.433961, Train accuracy: 0.865406, Val accuracy: 0.841513\n",
      "Average loss: 0.434829, Train accuracy: 0.863785, Val accuracy: 0.839533\n",
      "Average loss: 0.426864, Train accuracy: 0.868529, Val accuracy: 0.843833\n",
      "Average loss: 0.426551, Train accuracy: 0.867369, Val accuracy: 0.835438\n",
      "Average loss: 0.424049, Train accuracy: 0.867897, Val accuracy: 0.840557\n",
      "Average loss: 0.421751, Train accuracy: 0.868904, Val accuracy: 0.842263\n",
      "Average loss: 0.420138, Train accuracy: 0.869194, Val accuracy: 0.841444\n",
      "Average loss: 0.416887, Train accuracy: 0.870474, Val accuracy: 0.843697\n",
      "Average loss: 0.413835, Train accuracy: 0.871447, Val accuracy: 0.842605\n",
      "Average loss: 0.414636, Train accuracy: 0.871549, Val accuracy: 0.844311\n",
      "Average loss: 0.412107, Train accuracy: 0.870901, Val accuracy: 0.838578\n",
      "Average loss: 0.405795, Train accuracy: 0.873443, Val accuracy: 0.843219\n",
      "Average loss: 0.405489, Train accuracy: 0.874859, Val accuracy: 0.840830\n",
      "Average loss: 0.404104, Train accuracy: 0.874347, Val accuracy: 0.843697\n",
      "Average loss: 0.404204, Train accuracy: 0.873511, Val accuracy: 0.846836\n",
      "Average loss: 0.398456, Train accuracy: 0.876361, Val accuracy: 0.847246\n",
      "Average loss: 0.399134, Train accuracy: 0.875456, Val accuracy: 0.846836\n",
      "Average loss: 0.396641, Train accuracy: 0.875661, Val accuracy: 0.843765\n",
      "Average loss: 0.398542, Train accuracy: 0.875917, Val accuracy: 0.845198\n",
      "Average loss: 0.395112, Train accuracy: 0.877726, Val accuracy: 0.846905\n",
      "Average loss: 0.391694, Train accuracy: 0.878152, Val accuracy: 0.842809\n",
      "Average loss: 0.391455, Train accuracy: 0.876907, Val accuracy: 0.848679\n",
      "Average loss: 0.389349, Train accuracy: 0.877948, Val accuracy: 0.846427\n",
      "Average loss: 0.390433, Train accuracy: 0.878067, Val accuracy: 0.845608\n",
      "Average loss: 0.383110, Train accuracy: 0.880319, Val accuracy: 0.844857\n",
      "Average loss: 0.382379, Train accuracy: 0.879159, Val accuracy: 0.845676\n",
      "Average loss: 0.378915, Train accuracy: 0.882777, Val accuracy: 0.843151\n",
      "Average loss: 0.378944, Train accuracy: 0.881394, Val accuracy: 0.843697\n",
      "Average loss: 0.380320, Train accuracy: 0.881889, Val accuracy: 0.849703\n",
      "Average loss: 0.376223, Train accuracy: 0.882299, Val accuracy: 0.846154\n",
      "Average loss: 0.376340, Train accuracy: 0.882896, Val accuracy: 0.847041\n",
      "Average loss: 0.375280, Train accuracy: 0.882469, Val accuracy: 0.843492\n",
      "Average loss: 0.372847, Train accuracy: 0.883357, Val accuracy: 0.844652\n",
      "Average loss: 0.372947, Train accuracy: 0.883834, Val accuracy: 0.849567\n",
      "Average loss: 0.369973, Train accuracy: 0.884432, Val accuracy: 0.848475\n",
      "Average loss: 0.368381, Train accuracy: 0.885165, Val accuracy: 0.846563\n",
      "Average loss: 0.365665, Train accuracy: 0.885404, Val accuracy: 0.846700\n",
      "Average loss: 0.365533, Train accuracy: 0.885558, Val accuracy: 0.839601\n",
      "Average loss: 0.361021, Train accuracy: 0.888151, Val accuracy: 0.848065\n",
      "Average loss: 0.358904, Train accuracy: 0.887930, Val accuracy: 0.843628\n",
      "Average loss: 0.362069, Train accuracy: 0.886650, Val accuracy: 0.846905\n",
      "Average loss: 0.360389, Train accuracy: 0.888271, Val accuracy: 0.848748\n",
      "Average loss: 0.357992, Train accuracy: 0.888919, Val accuracy: 0.843560\n",
      "Average loss: 0.356430, Train accuracy: 0.888373, Val accuracy: 0.847109\n",
      "Average loss: 0.355663, Train accuracy: 0.888271, Val accuracy: 0.847109\n",
      "Average loss: 0.352044, Train accuracy: 0.890762, Val accuracy: 0.843287\n",
      "Average loss: 0.352307, Train accuracy: 0.888885, Val accuracy: 0.849703\n",
      "Average loss: 0.351909, Train accuracy: 0.890711, Val accuracy: 0.843424\n",
      "Average loss: 0.351992, Train accuracy: 0.890267, Val accuracy: 0.851614\n",
      "Average loss: 0.350251, Train accuracy: 0.889533, Val accuracy: 0.847655\n",
      "Average loss: 0.347226, Train accuracy: 0.891120, Val accuracy: 0.850181\n",
      "Average loss: 0.347294, Train accuracy: 0.891206, Val accuracy: 0.850113\n",
      "Average loss: 0.348943, Train accuracy: 0.890182, Val accuracy: 0.848543\n",
      "Average loss: 0.344973, Train accuracy: 0.891172, Val accuracy: 0.849021\n",
      "Average loss: 0.342512, Train accuracy: 0.893031, Val accuracy: 0.850795\n",
      "Average loss: 0.342224, Train accuracy: 0.892025, Val accuracy: 0.847109\n",
      "Average loss: 0.341322, Train accuracy: 0.893236, Val accuracy: 0.844311\n",
      "Average loss: 0.336802, Train accuracy: 0.896171, Val accuracy: 0.846086\n",
      "Average loss: 0.336692, Train accuracy: 0.895028, Val accuracy: 0.846632\n",
      "Average loss: 0.334683, Train accuracy: 0.894704, Val accuracy: 0.843560\n",
      "Average loss: 0.333156, Train accuracy: 0.895676, Val accuracy: 0.846154\n",
      "Average loss: 0.334590, Train accuracy: 0.894891, Val accuracy: 0.849635\n",
      "Average loss: 0.335432, Train accuracy: 0.894209, Val accuracy: 0.847792\n",
      "Average loss: 0.330139, Train accuracy: 0.895557, Val accuracy: 0.852638\n",
      "Average loss: 0.333994, Train accuracy: 0.895284, Val accuracy: 0.847041\n"
     ]
    }
   ],
   "source": [
    "nn_model = nn.Sequential(\n",
    "            Flattener(),\n",
    "            nn.Linear(3*32*32, 100), \n",
    "            nn.BatchNorm1d(100), \n",
    "            nn.ReLU(inplace=True), \n",
    "            \n",
    "            nn.Linear(100, 100), \n",
    "            nn.BatchNorm1d(100), \n",
    "            nn.ReLU(inplace=True), \n",
    "            nn.Linear(100, 10),\n",
    "         )\n",
    "\n",
    "num_epochs = 100  # have been increased the num_epochs\n",
    "optimizer = optim.Adam(nn_model.parameters(), lr=1e-5, weight_decay=0) \n",
    "scheduler = optim.lr_scheduler.StepLR(optimizer, step_size=15, gamma=0.5)\n",
    "\n",
    "loss_history, train_history, val_history = train_model(nn_model, train_loader, val_loader, loss, \n",
    "                                                       optimizer, 70, scheduler)"
   ]
  },
  {
   "cell_type": "code",
   "execution_count": null,
   "metadata": {
    "collapsed": false
   },
   "outputs": [],
   "source": [
    "test_loader = torch.utils.data.DataLoader(data_test, batch_size=batch_size)\n",
    "test_accuracy = compute_accuracy(nn_model, test_loader)\n",
    "print(\"Test accuracy: %2.4f\" % test_accuracy)"
   ]
  },
  {
   "cell_type": "code",
   "execution_count": null,
   "metadata": {
    "collapsed": true
   },
   "outputs": [],
   "source": []
  }
 ],
 "metadata": {
  "anaconda-cloud": {},
  "kernelspec": {
   "display_name": "Python [anaconda]",
   "language": "python",
   "name": "Python [anaconda]"
  },
  "language_info": {
   "codemirror_mode": {
    "name": "ipython",
    "version": 2
   },
   "file_extension": ".py",
   "mimetype": "text/x-python",
   "name": "python",
   "nbconvert_exporter": "python",
   "pygments_lexer": "ipython2",
   "version": "2.7.6"
  }
 },
 "nbformat": 4,
 "nbformat_minor": 2
}
