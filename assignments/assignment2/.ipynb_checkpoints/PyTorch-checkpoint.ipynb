{
 "cells": [
  {
   "cell_type": "markdown",
   "metadata": {},
   "source": [
    "# Задание 2.2 - Введение в PyTorch\n",
    "\n",
    "Для этого задания потребуется установить версию PyTorch 1.0\n",
    "\n",
    "https://pytorch.org/get-started/locally/\n",
    "\n",
    "В этом задании мы познакомимся с основными компонентами PyTorch и натренируем несколько небольших моделей.<br>\n",
    "GPU нам пока не понадобится.\n",
    "\n",
    "Основные ссылки:  \n",
    "https://pytorch.org/tutorials/beginner/deep_learning_60min_blitz.html  \n",
    "https://pytorch.org/docs/stable/nn.html  \n",
    "https://pytorch.org/docs/stable/torchvision/index.html  "
   ]
  },
  {
   "cell_type": "code",
   "execution_count": 1,
   "metadata": {
    "collapsed": false,
    "scrolled": true
   },
   "outputs": [],
   "source": [
    "import matplotlib as mpl\n",
    "mpl.use('TkAgg')\n",
    "import torch\n",
    "import torch.nn as nn\n",
    "import torch.optim as optim\n",
    "import torchvision.datasets as dset\n",
    "from torch.utils.data.sampler import SubsetRandomSampler, Sampler\n",
    "\n",
    "from torchvision import transforms\n",
    "\n",
    "import matplotlib.pyplot as plt\n",
    "%matplotlib inline\n",
    "\n",
    "import numpy as np"
   ]
  },
  {
   "cell_type": "markdown",
   "metadata": {},
   "source": [
    "## Как всегда, начинаем с загрузки данных\n",
    "\n",
    "PyTorch поддерживает загрузку SVHN из коробки."
   ]
  },
  {
   "cell_type": "code",
   "execution_count": 2,
   "metadata": {
    "collapsed": true,
    "scrolled": true
   },
   "outputs": [],
   "source": [
    "# First, lets load the dataset\n",
    "data_train = dset.SVHN('./data/', split='train',\n",
    "                       transform=transforms.Compose([\n",
    "                           transforms.ToTensor(),\n",
    "                           transforms.Normalize(mean=[0.43,0.44,0.47],\n",
    "                                               std=[0.20,0.20,0.20])                           \n",
    "                       ])\n",
    "                      )\n",
    "data_test = dset.SVHN('./data/', split='test', \n",
    "                      transform=transforms.Compose([\n",
    "                           transforms.ToTensor(),\n",
    "                           transforms.Normalize(mean=[0.43,0.44,0.47],\n",
    "                                               std=[0.20,0.20,0.20])                           \n",
    "                       ]))"
   ]
  },
  {
   "cell_type": "markdown",
   "metadata": {},
   "source": [
    "Теперь мы разделим данные на training и validation с использованием классов `SubsetRandomSampler` и `DataLoader`.\n",
    "\n",
    "`DataLoader` подгружает данные, предоставляемые классом `Dataset`, во время тренировки и группирует их в батчи.\n",
    "Он дает возможность указать `Sampler`, который выбирает, какие примеры из датасета использовать для тренировки. Мы используем это, чтобы разделить данные на training и validation.\n",
    "\n",
    "Подробнее: https://pytorch.org/tutorials/beginner/data_loading_tutorial.html"
   ]
  },
  {
   "cell_type": "code",
   "execution_count": 3,
   "metadata": {
    "collapsed": true,
    "scrolled": true
   },
   "outputs": [],
   "source": [
    "batch_size = 64\n",
    "\n",
    "data_size = data_train.data.shape[0]\n",
    "validation_split = .2\n",
    "split = int(np.floor(validation_split * data_size))\n",
    "indices = list(range(data_size))\n",
    "np.random.shuffle(indices)\n",
    "\n",
    "train_indices, val_indices = indices[split:], indices[:split]\n",
    "\n",
    "train_sampler = SubsetRandomSampler(train_indices)\n",
    "val_sampler = SubsetRandomSampler(val_indices)\n",
    "\n",
    "train_loader = torch.utils.data.DataLoader(data_train, batch_size=batch_size, \n",
    "                                           sampler=train_sampler)\n",
    "val_loader = torch.utils.data.DataLoader(data_train, batch_size=batch_size,\n",
    "                                         sampler=val_sampler)"
   ]
  },
  {
   "cell_type": "markdown",
   "metadata": {},
   "source": [
    "В нашей задаче мы получаем на вход изображения, но работаем с ними как с одномерными массивами. Чтобы превратить многомерный массив в одномерный, мы воспользуемся очень простым вспомогательным модулем `Flattener`."
   ]
  },
  {
   "cell_type": "code",
   "execution_count": 4,
   "metadata": {
    "collapsed": false,
    "scrolled": true
   },
   "outputs": [
    {
     "name": "stdout",
     "output_type": "stream",
     "text": [
      "('SVHN data sample shape: ', torch.Size([3, 32, 32]))\n"
     ]
    }
   ],
   "source": [
    "sample, label = data_train[0]\n",
    "print(\"SVHN data sample shape: \", sample.shape)\n",
    "# As you can see, the data is shaped like an image\n",
    "\n",
    "# We'll use a special helper module to shape it into a tensor\n",
    "class Flattener(nn.Module):\n",
    "    def forward(self, x):\n",
    "        #print(x.shape)\n",
    "        batch_size, sizee1, sizee2, sizee3   = x.shape\n",
    "        return x.view(batch_size, -1)"
   ]
  },
  {
   "cell_type": "markdown",
   "metadata": {},
   "source": [
    "И наконец, мы создаем основные объекты PyTorch:\n",
    "- `nn_model` - собственно, модель с нейросетью\n",
    "- `loss` - функцию ошибки, в нашем случае `CrossEntropyLoss`\n",
    "- `optimizer` - алгоритм оптимизации, в нашем случае просто `SGD`"
   ]
  },
  {
   "cell_type": "code",
   "execution_count": 5,
   "metadata": {
    "collapsed": true,
    "scrolled": true
   },
   "outputs": [],
   "source": [
    "nn_model = nn.Sequential(\n",
    "            Flattener(),\n",
    "            nn.Linear(3*32*32, 100),\n",
    "            nn.ReLU(inplace=True),\n",
    "            nn.Linear(100, 10), \n",
    "         )\n",
    "nn_model.type(torch.FloatTensor)\n",
    "\n",
    "# We will minimize cross-entropy between the ground truth and\n",
    "# network predictions using an SGD optimizer\n",
    "loss = nn.CrossEntropyLoss().type(torch.FloatTensor)\n",
    "optimizer = optim.SGD(nn_model.parameters(), lr=1e-2, weight_decay=1e-1)"
   ]
  },
  {
   "cell_type": "markdown",
   "metadata": {},
   "source": [
    "## Тренируем!\n",
    "\n",
    "Ниже приведена функция `train_model`, реализующая основной цикл тренировки PyTorch.\n",
    "\n",
    "Каждую эпоху эта функция вызывает функцию `compute_accuracy`, которая вычисляет точность на validation, эту последнюю функцию предлагается реализовать вам."
   ]
  },
  {
   "cell_type": "code",
   "execution_count": 6,
   "metadata": {
    "collapsed": false,
    "scrolled": true
   },
   "outputs": [
    {
     "name": "stdout",
     "output_type": "stream",
     "text": [
      "Average loss: 1.815116, Train accuracy: 0.418455, Val accuracy: 0.543649\n",
      "Average loss: 1.453724, Train accuracy: 0.584616, Val accuracy: 0.579141\n",
      "Average loss: 1.380227, Train accuracy: 0.619237, Val accuracy: 0.618047\n"
     ]
    }
   ],
   "source": [
    "# This is how to implement the same main train loop in PyTorch. Pretty easy, right?\n",
    "\n",
    "def train_model(model, train_loader, val_loader, loss, optimizer, num_epochs, scheduler=None):    \n",
    "    loss_history = []\n",
    "    train_history = []\n",
    "    val_history = []\n",
    "    for epoch in range(num_epochs):\n",
    "        #if scheduler is not None:\n",
    "        #    scheduler.step()\n",
    "        model.train() # Enter train mode\n",
    "        \n",
    "        loss_accum = 0\n",
    "        correct_samples = 0\n",
    "        total_samples = 0\n",
    "        for i_step, (x, y) in enumerate(train_loader):\n",
    "            prediction = model(x)    \n",
    "            loss_value = loss(prediction, y)\n",
    "            optimizer.zero_grad()\n",
    "            loss_value.backward()\n",
    "            optimizer.step()\n",
    "            \n",
    "            _, indices = torch.max(prediction, 1)\n",
    "            correct_samples += torch.sum(indices == y)\n",
    "            total_samples += y.shape[0]\n",
    "            \n",
    "            loss_accum += loss_value\n",
    "\n",
    "        ave_loss = loss_accum / (i_step + 1)\n",
    "        train_accuracy = float(correct_samples) / total_samples\n",
    "        val_accuracy = compute_accuracy(model, val_loader)\n",
    "        if scheduler is not None:\n",
    "            scheduler.step()\n",
    "        \n",
    "        loss_history.append(float(ave_loss))\n",
    "        train_history.append(train_accuracy)\n",
    "        val_history.append(val_accuracy)\n",
    "        \n",
    "        print(\"Average loss: %f, Train accuracy: %f, Val accuracy: %f\" % (ave_loss, train_accuracy, val_accuracy))\n",
    "        \n",
    "    return loss_history, train_history, val_history\n",
    "        \n",
    "def compute_accuracy(model, loader):\n",
    "    \"\"\"\n",
    "    Computes accuracy on the dataset wrapped in a loader\n",
    "    \n",
    "    Returns: accuracy as a float value between 0 and 1\n",
    "    \"\"\"\n",
    "    model.eval() # Evaluation mode\n",
    "    # TODO: Implement the inference of the model on all of the batches from loader,\n",
    "    #       and compute the overall accuracy.\n",
    "    # Hint: PyTorch has the argmax function!\n",
    "    \n",
    "    #raise Exception(\"Not implemented\")\n",
    "    correct_samples = 0\n",
    "    total_samples = 0\n",
    "    for i, (x, y) in enumerate(loader):\n",
    "        prediction = model(x)\n",
    "        indices = torch.argmax(prediction, 1)\n",
    "        correct_samples += torch.sum(indices == y)\n",
    "        total_samples += y.shape[0]\n",
    "        \n",
    "    accuracy = float(correct_samples) / total_samples    \n",
    "    \n",
    "    \n",
    "    return accuracy\n",
    "\n",
    "loss_history, train_history, val_history = train_model(nn_model, train_loader, val_loader, loss, optimizer, 3)"
   ]
  },
  {
   "cell_type": "markdown",
   "metadata": {},
   "source": [
    "## После основного цикла\n",
    "\n",
    "Посмотрим на другие возможности и оптимизации, которые предоставляет PyTorch.\n",
    "\n",
    "Добавьте еще один скрытый слой размера 100 нейронов к модели"
   ]
  },
  {
   "cell_type": "code",
   "execution_count": 7,
   "metadata": {
    "collapsed": false,
    "scrolled": true
   },
   "outputs": [
    {
     "name": "stdout",
     "output_type": "stream",
     "text": [
      "Average loss: 2.172481, Train accuracy: 0.202198, Val accuracy: 0.230155\n",
      "Average loss: 2.030510, Train accuracy: 0.261134, Val accuracy: 0.273633\n",
      "Average loss: 1.856683, Train accuracy: 0.346671, Val accuracy: 0.388301\n",
      "Average loss: 1.717221, Train accuracy: 0.418524, Val accuracy: 0.422702\n",
      "Average loss: 1.681129, Train accuracy: 0.435194, Val accuracy: 0.445430\n"
     ]
    }
   ],
   "source": [
    "# Since it's so easy to add layers, let's add some!\n",
    "\n",
    "# TODO: Implement a model with 2 hidden layers of the size 100\n",
    "nn_model = nn.Sequential(\n",
    "            Flattener(),\n",
    "            nn.Linear(3*32*32, 100),\n",
    "            nn.ReLU(inplace=True),\n",
    "            nn.Linear(100, 100),\n",
    "            nn.ReLU(inplace=True),\n",
    "            nn.Linear(100, 10)\n",
    "       )\n",
    "nn_model.type(torch.FloatTensor)\n",
    "\n",
    "optimizer = optim.SGD(nn_model.parameters(), lr=1e-2, weight_decay=1e-1)\n",
    "loss_history, train_history, val_history = train_model(nn_model, train_loader, val_loader, loss, optimizer, 5)"
   ]
  },
  {
   "cell_type": "markdown",
   "metadata": {},
   "source": [
    "Добавьте слой с Batch Normalization"
   ]
  },
  {
   "cell_type": "code",
   "execution_count": 8,
   "metadata": {
    "collapsed": false,
    "scrolled": true
   },
   "outputs": [
    {
     "name": "stdout",
     "output_type": "stream",
     "text": [
      "Average loss: 2.064162, Train accuracy: 0.314319, Val accuracy: 0.437035\n",
      "Average loss: 1.773059, Train accuracy: 0.477221, Val accuracy: 0.521671\n",
      "Average loss: 1.628223, Train accuracy: 0.548169, Val accuracy: 0.576889\n",
      "Average loss: 1.538976, Train accuracy: 0.583933, Val accuracy: 0.587741\n",
      "Average loss: 1.476934, Train accuracy: 0.609767, Val accuracy: 0.618729\n"
     ]
    }
   ],
   "source": [
    "# We heard batch normalization is powerful, let's use it!\n",
    "# TODO: Add batch normalization after each of the hidden layers of the network, before or after non-linearity\n",
    "# Hint: check out torch.nn.BatchNorm1d\n",
    "\n",
    "nn_model = nn.Sequential(\n",
    "            Flattener(),\n",
    "            nn.Linear(3*32*32, 100),\n",
    "            nn.BatchNorm1d(100),\n",
    "            nn.ReLU(inplace=True),\n",
    "            nn.Linear(100, 100),\n",
    "            nn.BatchNorm1d(100),\n",
    "            nn.ReLU(inplace=True),\n",
    "            nn.Linear(100, 10)\n",
    "         )\n",
    "\n",
    "optimizer = optim.SGD(nn_model.parameters(), lr=1e-3, weight_decay=1e-1)\n",
    "loss_history, train_history, val_history = train_model(nn_model, train_loader, val_loader, loss, optimizer, 5)"
   ]
  },
  {
   "cell_type": "markdown",
   "metadata": {},
   "source": [
    "Добавьте уменьшение скорости обучения по ходу тренировки."
   ]
  },
  {
   "cell_type": "code",
   "execution_count": 9,
   "metadata": {
    "collapsed": false,
    "scrolled": true
   },
   "outputs": [
    {
     "name": "stdout",
     "output_type": "stream",
     "text": [
      "Average loss: 2.042554, Train accuracy: 0.317613, Val accuracy: 0.444816\n",
      "Average loss: 1.743377, Train accuracy: 0.494250, Val accuracy: 0.549314\n",
      "Average loss: 1.621431, Train accuracy: 0.562878, Val accuracy: 0.593407\n",
      "Average loss: 1.563551, Train accuracy: 0.584991, Val accuracy: 0.616204\n",
      "Average loss: 1.525620, Train accuracy: 0.604119, Val accuracy: 0.623916\n"
     ]
    }
   ],
   "source": [
    "# Learning rate annealing\n",
    "# Reduce your learning rate 2x every 2 epochs\n",
    "# Hint: look up learning rate schedulers in PyTorch. You might need to extend train_model function a little bit too!\n",
    "\n",
    "nn_model = nn.Sequential(\n",
    "            Flattener(),\n",
    "            nn.Linear(3*32*32, 100),\n",
    "            nn.BatchNorm1d(100),\n",
    "            nn.ReLU(inplace=True),\n",
    "            nn.Linear(100, 100),\n",
    "            nn.BatchNorm1d(100),\n",
    "            nn.ReLU(inplace=True),\n",
    "            nn.Linear(100, 10)\n",
    "         )\n",
    "\n",
    "optimizer = optim.SGD(nn_model.parameters(), lr=1e-3, weight_decay=1e-1)\n",
    "scheduler = optim.lr_scheduler.StepLR(optimizer, 2, gamma=0.5)\n",
    "\n",
    "loss_history, train_history, val_history = train_model(nn_model, train_loader, val_loader, loss, optimizer, 5, scheduler)"
   ]
  },
  {
   "cell_type": "markdown",
   "metadata": {},
   "source": [
    "# Визуализируем ошибки модели\n",
    "\n",
    "Попробуем посмотреть, на каких изображениях наша модель ошибается.\n",
    "Для этого мы получим все предсказания модели на validation set и сравним их с истинными метками (ground truth).\n",
    "\n",
    "Первая часть - реализовать код на PyTorch, который вычисляет все предсказания модели на validation set.  \n",
    "Чтобы это сделать мы приводим код `SubsetSampler`, который просто проходит по всем заданным индексам последовательно и составляет из них батчи. \n",
    "\n",
    "Реализуйте функцию `evaluate_model`, которая прогоняет модель через все сэмплы validation set и запоминает предсказания модели и истинные метки."
   ]
  },
  {
   "cell_type": "code",
   "execution_count": 10,
   "metadata": {
    "collapsed": true
   },
   "outputs": [],
   "source": [
    "class SubsetSampler(Sampler):\n",
    "    r\"\"\"Samples elements with given indices sequentially\n",
    "\n",
    "    Arguments:\n",
    "        indices (ndarray): indices of the samples to take\n",
    "    \"\"\"\n",
    "\n",
    "    def __init__(self, indices):\n",
    "        self.indices = indices\n",
    "\n",
    "    def __iter__(self):\n",
    "        return (self.indices[i] for i in range(len(self.indices)))\n",
    "\n",
    "    def __len__(self):\n",
    "        return len(self.indices)\n",
    "    \n",
    "    \n",
    "def evaluate_model(model, dataset, indices):\n",
    "    \"\"\"\n",
    "    Computes predictions and ground truth labels for the indices of the dataset\n",
    "    \n",
    "    Returns: \n",
    "    predictions: np array of ints - model predictions\n",
    "    grount_truth: np array of ints - actual labels of the dataset\n",
    "    \"\"\"\n",
    "    model.eval() # Evaluation mode\n",
    "    \n",
    "    # TODO: Evaluate model on the list of indices and capture predictions\n",
    "    # and ground truth labels\n",
    "    # Hint: SubsetSampler above could be useful!\n",
    "    \n",
    "    #raise Exception(\"Not implemented\")\n",
    "    \n",
    "    loader = torch.utils.data.DataLoader(dataset, batch_size=batch_size, sampler=SubsetSampler(indices))\n",
    "    \n",
    "    predictions = []\n",
    "    ground_truth = []\n",
    "    for i, (x, y) in enumerate(loader):\n",
    "        prediction = model(x)\n",
    "        indicees = torch.argmax(prediction, 1)\n",
    "        \n",
    "        predictions += list(indicees.numpy())\n",
    "        ground_truth += list(y.numpy())\n",
    "    \n",
    "    return predictions, ground_truth\n",
    "\n",
    "# Evaluate model on validation\n",
    "predictions, gt = evaluate_model(nn_model, data_train, val_indices)\n",
    "assert len(predictions) == len(val_indices)\n",
    "assert len(gt) == len(val_indices)\n",
    "assert gt[100] == data_train[val_indices[100]][1]\n",
    "assert np.any(np.not_equal(gt, predictions))"
   ]
  },
  {
   "cell_type": "markdown",
   "metadata": {},
   "source": [
    "## Confusion matrix\n",
    "Первая часть визуализации - вывести confusion matrix (https://en.wikipedia.org/wiki/Confusion_matrix ).\n",
    "\n",
    "Confusion matrix - это матрица, где каждой строке соответствуют классы предсказанный, а столбцу - классы истинных меток (ground truth). Число с координатами `i,j` - это количество сэмплов класса `j`, которые модель считает классом `i`.\n",
    "\n",
    "![image.png](attachment:image.png)\n",
    "\n",
    "Для того, чтобы облегчить вам задачу, ниже реализована функция `visualize_confusion_matrix` которая визуализирует такую матрицу.  \n",
    "Вам осталось реализовать функцию `build_confusion_matrix`, которая ее вычислит.\n",
    "\n",
    "Результатом должна быть матрица 10x10."
   ]
  },
  {
   "cell_type": "code",
   "execution_count": 11,
   "metadata": {
    "collapsed": false
   },
   "outputs": [
    {
     "data": {
      "image/png": "[encoded data removed]",
      "text/plain": [
       "<Figure size 1000x1000 with 2 Axes>"
      ]
     },
     "metadata": {},
     "output_type": "display_data"
    }
   ],
   "source": [
    "from sklearn import metrics\n",
    "def visualize_confusion_matrix(confusion_matrix):\n",
    "    \"\"\"\n",
    "    Visualizes confusion matrix\n",
    "    \n",
    "    confusion_matrix: np array of ints, x axis - predicted class, y axis - actual class\n",
    "                      [i][j] should have the count of samples that were predicted to be class i,\n",
    "                      but have j in the ground truth\n",
    "                     \n",
    "    \"\"\"\n",
    "    # Adapted from \n",
    "    # https://stackoverflow.com/questions/2897826/confusion-matrix-with-number-of-classified-misclassified-instances-on-it-python\n",
    "    assert confusion_matrix.shape[0] == confusion_matrix.shape[1]\n",
    "    size = confusion_matrix.shape[0]\n",
    "    fig = plt.figure(figsize=(10,10))\n",
    "    plt.title(\"Confusion matrix\")\n",
    "    plt.ylabel(\"predicted\")\n",
    "    plt.xlabel(\"ground truth\")\n",
    "    res = plt.imshow(confusion_matrix, cmap='GnBu', interpolation='nearest')\n",
    "    cb = fig.colorbar(res)\n",
    "    plt.xticks(np.arange(size))\n",
    "    plt.yticks(np.arange(size))\n",
    "    for i, row in enumerate(confusion_matrix):\n",
    "        for j, count in enumerate(row):\n",
    "            plt.text(j, i, count, fontsize=14, horizontalalignment='center', verticalalignment='center')\n",
    "    \n",
    "def build_confusion_matrix(predictions, ground_truth):\n",
    "    \"\"\"\n",
    "    Builds confusion matrix from predictions and ground truth\n",
    "\n",
    "    predictions: np array of ints, model predictions for all validation samples\n",
    "    ground_truth: np array of ints, ground truth for all validation samples\n",
    "    \n",
    "    Returns:\n",
    "    np array of ints, (10,10), counts of samples for predicted/ground_truth classes\n",
    "    \"\"\"\n",
    "    \n",
    "    #confusion_matrix = np.zeros((10,10), np.int)\n",
    "    \n",
    "    # TODO: Implement filling the prediction matrix\n",
    "    #return np.array([[40, 2, 3], [10, 50,0], [0, 2, 80]])\n",
    "    return metrics.confusion_matrix(ground_truth, predictions).T\n",
    "\n",
    "confusion_matrix = build_confusion_matrix(predictions, gt)\n",
    "visualize_confusion_matrix(confusion_matrix)"
   ]
  },
  {
   "cell_type": "markdown",
   "metadata": {},
   "source": [
    "Наконец, посмотрим на изображения, соответствующие некоторым элементам этой матрицы.\n",
    "\n",
    "Как и раньше, вам дана функция `visualize_images`, которой нужно воспрользоваться при реализации функции `visualize_predicted_actual`. Эта функция должна вывести несколько примеров, соответствующих заданному элементу матрицы.\n",
    "\n",
    "Визуализируйте наиболее частые ошибки и попробуйте понять, почему модель их совершает."
   ]
  },
  {
   "cell_type": "code",
   "execution_count": 12,
   "metadata": {
    "collapsed": false
   },
   "outputs": [
    {
     "data": {
      "text/plain": [
       "<Figure size 1000x200 with 0 Axes>"
      ]
     },
     "metadata": {},
     "output_type": "display_data"
    },
    {
     "data": {
      "text/plain": [
       "<Figure size 1000x200 with 0 Axes>"
      ]
     },
     "metadata": {},
     "output_type": "display_data"
    }
   ],
   "source": [
    "%matplotlib inline\n",
    "\n",
    "data_train_images = dset.SVHN('./data/', split='train')\n",
    "\n",
    "def visualize_images(indices, data, title='', max_num=10):\n",
    "    \"\"\"\n",
    "    Visualizes several images from the dataset\n",
    " \n",
    "    indices: array of indices to visualize\n",
    "    data: torch Dataset with the images\n",
    "    title: string, title of the plot\n",
    "    max_num: int, max number of images to display\n",
    "    \"\"\"\n",
    "    to_show = min(len(indices), max_num)\n",
    "    fig = plt.figure(figsize=(10,2))\n",
    "    fig.suptitle(title)\n",
    "    for i, index in enumerate(indices[:to_show]):\n",
    "        plt.subplot(1,to_show, i+1)\n",
    "        plt.axis('off')\n",
    "        sample = data[index][0]\n",
    "        plt.imshow(sample)\n",
    "        plt.show()\n",
    "        \n",
    "def visualize_predicted_actual(predicted_class, gt_class, predictions, groud_truth, val_indices, data):\n",
    "    \"\"\"\n",
    "    Visualizes images of a ground truth class which were predicted as the other class \n",
    "    \n",
    "    predicted: int 0-9, index of the predicted class\n",
    "    gt_class: int 0-9, index of the ground truth class\n",
    "    predictions: np array of ints, model predictions for all validation samples\n",
    "    ground_truth: np array of ints, ground truth for all validation samples\n",
    "    val_indices: np array of ints, indices of validation samples\n",
    "    \"\"\"\n",
    "\n",
    "    # TODO: Implement visualization using visualize_images above\n",
    "    # predictions and ground_truth are provided for validation set only, defined by val_indices\n",
    "    # Hint: numpy index arrays might be helpful\n",
    "    # https://docs.scipy.org/doc/numpy/user/basics.indexing.html#index-arrays\n",
    "    # Please make the title meaningful!\n",
    "    \n",
    "    #raise Exception(\"Not implemented\")\n",
    "    #title = \"Visualize: predicted_class is {predicted_class}, gt_class is {gt_class}\"\n",
    "    title = 'predicted: %s, actual: %s' % (predicted_class, gt_class)\n",
    "    indices = val_indices[(groud_truth == gt_class) & (predictions == predicted_class)]\n",
    "    \n",
    "    visualize_images(indices, data, title, max_num=10)\n",
    "\n",
    "\n",
    "visualize_predicted_actual(6, 8, predictions, gt, np.array(val_indices), data_train_images)\n",
    "visualize_predicted_actual(1, 7, predictions, gt, np.array(val_indices), data_train_images)"
   ]
  },
  {
   "cell_type": "code",
   "execution_count": null,
   "metadata": {
    "collapsed": true
   },
   "outputs": [],
   "source": []
  },
  {
   "cell_type": "markdown",
   "metadata": {},
   "source": [
    "# Переходим к свободным упражнениям!\n",
    "\n",
    "Натренируйте модель как можно лучше - экспериментируйте сами!\n",
    "Что следует обязательно попробовать:\n",
    "- перебор гиперпараметров с помощью валидационной выборки\n",
    "- другие оптимизаторы вместо SGD\n",
    "- изменение количества слоев и их размеров\n",
    "- наличие Batch Normalization\n",
    "\n",
    "Но ограничиваться этим не стоит!\n",
    "\n",
    "Точность на тестовой выборке должна быть доведена до **80%**"
   ]
  },
  {
   "cell_type": "code",
   "execution_count": null,
   "metadata": {
    "collapsed": true,
    "scrolled": true
   },
   "outputs": [],
   "source": [
    "# Experiment here!"
   ]
  },
  {
   "cell_type": "code",
   "execution_count": 14,
   "metadata": {
    "collapsed": false
   },
   "outputs": [
    {
     "name": "stdout",
     "output_type": "stream",
     "text": [
      "Test accuracy: 0.6052\n"
     ]
    }
   ],
   "source": [
    "# Как всегда, в конце проверяем на test set\n",
    "test_loader = torch.utils.data.DataLoader(data_test, batch_size=batch_size)\n",
    "test_accuracy = compute_accuracy(nn_model, test_loader)\n",
    "print(\"Test accuracy: %2.4f\" % test_accuracy)"
   ]
  },
  {
   "cell_type": "code",
   "execution_count": 19,
   "metadata": {
    "collapsed": false
   },
   "outputs": [
    {
     "name": "stdout",
     "output_type": "stream",
     "text": [
      "Average loss: 1.312075, Train accuracy: 0.577125, Val accuracy: 0.697290\n",
      "Average loss: 0.927433, Train accuracy: 0.709398, Val accuracy: 0.750597\n",
      "Average loss: 0.756680, Train accuracy: 0.764546, Val accuracy: 0.781858\n",
      "Average loss: 0.704736, Train accuracy: 0.780722, Val accuracy: 0.785544\n",
      "Average loss: 0.623102, Train accuracy: 0.809661, Val accuracy: 0.810730\n",
      "Average loss: 0.598146, Train accuracy: 0.814285, Val accuracy: 0.817692\n",
      "Average loss: 0.550543, Train accuracy: 0.829591, Val accuracy: 0.822811\n",
      "Average loss: 0.538959, Train accuracy: 0.832867, Val accuracy: 0.822060\n",
      "Average loss: 0.516575, Train accuracy: 0.840631, Val accuracy: 0.830933\n",
      "Average loss: 0.507958, Train accuracy: 0.844333, Val accuracy: 0.830933\n",
      "Average loss: 0.498538, Train accuracy: 0.846023, Val accuracy: 0.830592\n",
      "Average loss: 0.493955, Train accuracy: 0.849145, Val accuracy: 0.832025\n",
      "Average loss: 0.485487, Train accuracy: 0.850869, Val accuracy: 0.831889\n",
      "Average loss: 0.486789, Train accuracy: 0.850903, Val accuracy: 0.832162\n",
      "Average loss: 0.480927, Train accuracy: 0.851619, Val accuracy: 0.833731\n",
      "Average loss: 0.481916, Train accuracy: 0.851619, Val accuracy: 0.832708\n",
      "Average loss: 0.480348, Train accuracy: 0.852592, Val accuracy: 0.833936\n",
      "Average loss: 0.475640, Train accuracy: 0.853360, Val accuracy: 0.832844\n",
      "Average loss: 0.478338, Train accuracy: 0.852660, Val accuracy: 0.833185\n",
      "Average loss: 0.476120, Train accuracy: 0.853735, Val accuracy: 0.831343\n",
      "Average loss: 0.475980, Train accuracy: 0.852694, Val accuracy: 0.834209\n",
      "Average loss: 0.475438, Train accuracy: 0.854281, Val accuracy: 0.832571\n",
      "Average loss: 0.477069, Train accuracy: 0.853411, Val accuracy: 0.833049\n",
      "Average loss: 0.475550, Train accuracy: 0.853496, Val accuracy: 0.832366\n",
      "Average loss: 0.475183, Train accuracy: 0.853479, Val accuracy: 0.832776\n",
      "Average loss: 0.477285, Train accuracy: 0.853616, Val accuracy: 0.833254\n",
      "Average loss: 0.477295, Train accuracy: 0.853138, Val accuracy: 0.832435\n",
      "Average loss: 0.476711, Train accuracy: 0.854059, Val accuracy: 0.833458\n",
      "Average loss: 0.476658, Train accuracy: 0.853189, Val accuracy: 0.832639\n",
      "Average loss: 0.476934, Train accuracy: 0.854093, Val accuracy: 0.833527\n"
     ]
    }
   ],
   "source": [
    "import math\n",
    "\n",
    "batch_size = 64\n",
    "\n",
    "layer1 = 100\n",
    "layer2 = 100\n",
    "\n",
    "learning_rate = 1e-3\n",
    "reg_strength = 1e-4\n",
    "\n",
    "epochs = 30\n",
    "\n",
    "train_loader = torch.utils.data.DataLoader(data_train, batch_size=batch_size, sampler=train_sampler)\n",
    "val_loader = torch.utils.data.DataLoader(data_train, batch_size=batch_size, sampler=val_sampler)\n",
    "\n",
    "nn_model = nn.Sequential(\n",
    "    Flattener(),\n",
    "    \n",
    "    nn.Linear(3*32*32, layer1),    \n",
    "    nn.ReLU(inplace=True),\n",
    "    nn.BatchNorm1d(layer1),\n",
    "    \n",
    "    nn.Linear(layer1, layer2),    \n",
    "    nn.ReLU(inplace=True),\n",
    "    nn.BatchNorm1d(layer2),\n",
    "    \n",
    "    nn.Linear(layer2, 10)\n",
    ")\n",
    "\n",
    "\n",
    "nn_model.type(torch.FloatTensor)\n",
    "\n",
    "optimizer = optim.Adam(nn_model.parameters(), lr=learning_rate, weight_decay=reg_strength)\n",
    "#scheduler = optim.lr_scheduler.ReduceLROnPlateau(optimizer, factor=0.333, patience=3)\n",
    "scheduler = optim.lr_scheduler.StepLR(optimizer, 2, gamma=0.5)\n",
    "\n",
    "loss_history, train_history, val_history = train_model(nn_model, train_loader, val_loader, loss, optimizer, 30, scheduler)"
   ]
  },
  {
   "cell_type": "code",
   "execution_count": 20,
   "metadata": {
    "collapsed": false
   },
   "outputs": [
    {
     "name": "stdout",
     "output_type": "stream",
     "text": [
      "Test accuracy: 0.8097\n"
     ]
    }
   ],
   "source": [
    "test_loader = torch.utils.data.DataLoader(data_test, batch_size=batch_size)\n",
    "test_accuracy = compute_accuracy(nn_model, test_loader)\n",
    "print(\"Test accuracy: %2.4f\" % test_accuracy)"
   ]
  },
  {
   "cell_type": "code",
   "execution_count": 21,
   "metadata": {
    "collapsed": false
   },
   "outputs": [
    {
     "name": "stdout",
     "output_type": "stream",
     "text": [
      "Average loss: 1.329881, Train accuracy: 0.570880, Val accuracy: 0.685892\n",
      "Average loss: 0.944466, Train accuracy: 0.703682, Val accuracy: 0.714217\n",
      "Average loss: 0.830033, Train accuracy: 0.740487, Val accuracy: 0.766228\n",
      "Average loss: 0.760975, Train accuracy: 0.761407, Val accuracy: 0.783359\n",
      "Average loss: 0.712627, Train accuracy: 0.776917, Val accuracy: 0.794144\n",
      "Average loss: 0.677265, Train accuracy: 0.789151, Val accuracy: 0.786636\n",
      "Average loss: 0.653572, Train accuracy: 0.796011, Val accuracy: 0.806907\n",
      "Average loss: 0.633480, Train accuracy: 0.803689, Val accuracy: 0.802539\n",
      "Average loss: 0.626135, Train accuracy: 0.803826, Val accuracy: 0.807522\n",
      "Average loss: 0.603066, Train accuracy: 0.812016, Val accuracy: 0.813392\n",
      "Average loss: 0.597083, Train accuracy: 0.813040, Val accuracy: 0.804314\n",
      "Average loss: 0.577582, Train accuracy: 0.817988, Val accuracy: 0.824244\n",
      "Average loss: 0.575132, Train accuracy: 0.820001, Val accuracy: 0.813596\n",
      "Average loss: 0.564351, Train accuracy: 0.822646, Val accuracy: 0.815234\n",
      "Average loss: 0.555478, Train accuracy: 0.824864, Val accuracy: 0.815849\n",
      "Average loss: 0.549668, Train accuracy: 0.828499, Val accuracy: 0.817146\n",
      "Average loss: 0.545367, Train accuracy: 0.827867, Val accuracy: 0.823425\n",
      "Average loss: 0.540584, Train accuracy: 0.829676, Val accuracy: 0.819398\n",
      "Average loss: 0.527641, Train accuracy: 0.832611, Val accuracy: 0.818511\n",
      "Average loss: 0.536091, Train accuracy: 0.831075, Val accuracy: 0.818169\n",
      "Average loss: 0.523457, Train accuracy: 0.833686, Val accuracy: 0.827247\n",
      "Average loss: 0.518138, Train accuracy: 0.836024, Val accuracy: 0.826428\n",
      "Average loss: 0.519610, Train accuracy: 0.835000, Val accuracy: 0.828203\n",
      "Average loss: 0.515590, Train accuracy: 0.838088, Val accuracy: 0.822469\n",
      "Average loss: 0.512761, Train accuracy: 0.838276, Val accuracy: 0.826701\n",
      "Average loss: 0.510262, Train accuracy: 0.838225, Val accuracy: 0.820490\n",
      "Average loss: 0.502256, Train accuracy: 0.839965, Val accuracy: 0.825404\n",
      "Average loss: 0.501182, Train accuracy: 0.841177, Val accuracy: 0.819603\n",
      "Average loss: 0.498390, Train accuracy: 0.844248, Val accuracy: 0.818988\n",
      "Average loss: 0.498236, Train accuracy: 0.842678, Val accuracy: 0.819876\n"
     ]
    }
   ],
   "source": [
    "import math\n",
    "\n",
    "batch_size = 64\n",
    "\n",
    "layer1 = 100\n",
    "layer2 = 100\n",
    "\n",
    "learning_rate = 1e-3\n",
    "reg_strength = 1e-4\n",
    "\n",
    "epochs = 30\n",
    "\n",
    "train_loader = torch.utils.data.DataLoader(data_train, batch_size=batch_size, sampler=train_sampler)\n",
    "val_loader = torch.utils.data.DataLoader(data_train, batch_size=batch_size, sampler=val_sampler)\n",
    "\n",
    "nn_model = nn.Sequential(\n",
    "    Flattener(),\n",
    "    \n",
    "    nn.Linear(3*32*32, layer1),    \n",
    "    nn.ReLU(inplace=True),\n",
    "    nn.BatchNorm1d(layer1),\n",
    "    \n",
    "    nn.Linear(layer1, layer2),    \n",
    "    nn.ReLU(inplace=True),\n",
    "    nn.BatchNorm1d(layer2),\n",
    "    \n",
    "    nn.Linear(layer2, 10)\n",
    ")\n",
    "\n",
    "\n",
    "nn_model.type(torch.FloatTensor)\n",
    "\n",
    "optimizer = optim.Adam(nn_model.parameters(), lr=learning_rate, weight_decay=reg_strength)\n",
    "#scheduler = optim.lr_scheduler.ReduceLROnPlateau(optimizer, factor=0.333, patience=3)\n",
    "#scheduler = optim.lr_scheduler.StepLR(optimizer, 2, gamma=0.5)\n",
    "\n",
    "loss_history, train_history, val_history = train_model(nn_model, train_loader, val_loader, loss, optimizer, epochs)"
   ]
  },
  {
   "cell_type": "code",
   "execution_count": 22,
   "metadata": {
    "collapsed": false
   },
   "outputs": [
    {
     "name": "stdout",
     "output_type": "stream",
     "text": [
      "Test accuracy: 0.7898\n"
     ]
    }
   ],
   "source": [
    "test_loader = torch.utils.data.DataLoader(data_test, batch_size=batch_size)\n",
    "test_accuracy = compute_accuracy(nn_model, test_loader)\n",
    "print(\"Test accuracy: %2.4f\" % test_accuracy)"
   ]
  },
  {
   "cell_type": "code",
   "execution_count": 23,
   "metadata": {
    "collapsed": false
   },
   "outputs": [
    {
     "name": "stdout",
     "output_type": "stream",
     "text": [
      "Average loss: 1.328445, Train accuracy: 0.567945, Val accuracy: 0.682343\n",
      "Average loss: 0.932926, Train accuracy: 0.708784, Val accuracy: 0.752577\n",
      "Average loss: 0.818037, Train accuracy: 0.743746, Val accuracy: 0.775442\n",
      "Average loss: 0.754434, Train accuracy: 0.763983, Val accuracy: 0.778855\n",
      "Average loss: 0.707101, Train accuracy: 0.778726, Val accuracy: 0.788956\n",
      "Average loss: 0.674996, Train accuracy: 0.788127, Val accuracy: 0.786090\n",
      "Average loss: 0.655204, Train accuracy: 0.794953, Val accuracy: 0.796874\n",
      "Average loss: 0.630183, Train accuracy: 0.803740, Val accuracy: 0.808409\n",
      "Average loss: 0.613772, Train accuracy: 0.807443, Val accuracy: 0.804450\n",
      "Average loss: 0.603864, Train accuracy: 0.809781, Val accuracy: 0.816600\n",
      "Average loss: 0.589817, Train accuracy: 0.814098, Val accuracy: 0.809638\n",
      "Average loss: 0.583798, Train accuracy: 0.815889, Val accuracy: 0.799399\n",
      "Average loss: 0.569220, Train accuracy: 0.820257, Val accuracy: 0.820490\n",
      "Average loss: 0.570157, Train accuracy: 0.819302, Val accuracy: 0.818374\n",
      "Average loss: 0.557001, Train accuracy: 0.824762, Val accuracy: 0.814142\n",
      "Average loss: 0.548390, Train accuracy: 0.828959, Val accuracy: 0.822606\n",
      "Average loss: 0.545575, Train accuracy: 0.828277, Val accuracy: 0.806430\n",
      "Average loss: 0.537276, Train accuracy: 0.830239, Val accuracy: 0.818852\n",
      "Average loss: 0.538551, Train accuracy: 0.829233, Val accuracy: 0.823766\n",
      "Average loss: 0.534209, Train accuracy: 0.830666, Val accuracy: 0.822333\n",
      "Average loss: 0.521726, Train accuracy: 0.835631, Val accuracy: 0.825404\n",
      "Average loss: 0.520541, Train accuracy: 0.834795, Val accuracy: 0.823835\n",
      "Average loss: 0.520437, Train accuracy: 0.835358, Val accuracy: 0.823425\n",
      "Average loss: 0.511376, Train accuracy: 0.839402, Val accuracy: 0.822606\n",
      "Average loss: 0.510812, Train accuracy: 0.838242, Val accuracy: 0.827862\n",
      "Average loss: 0.507854, Train accuracy: 0.839573, Val accuracy: 0.819057\n",
      "Average loss: 0.506074, Train accuracy: 0.839010, Val accuracy: 0.826360\n",
      "Average loss: 0.499412, Train accuracy: 0.841962, Val accuracy: 0.818647\n",
      "Average loss: 0.498319, Train accuracy: 0.842491, Val accuracy: 0.818238\n",
      "Average loss: 0.499121, Train accuracy: 0.843975, Val accuracy: 0.826019\n"
     ]
    }
   ],
   "source": [
    "import math\n",
    "\n",
    "batch_size = 64\n",
    "\n",
    "layer1 = 100\n",
    "layer2 = 100\n",
    "\n",
    "learning_rate = 1e-3\n",
    "reg_strength = 1e-4\n",
    "\n",
    "epochs = 30\n",
    "\n",
    "train_loader = torch.utils.data.DataLoader(data_train, batch_size=batch_size, sampler=train_sampler)\n",
    "val_loader = torch.utils.data.DataLoader(data_train, batch_size=batch_size, sampler=val_sampler)\n",
    "\n",
    "nn_model = nn.Sequential(\n",
    "    Flattener(),\n",
    "    \n",
    "    nn.Linear(3*32*32, layer1),    \n",
    "    nn.ReLU(inplace=True),\n",
    "    nn.BatchNorm1d(layer1),\n",
    "    \n",
    "    nn.Linear(layer1, layer2),    \n",
    "    nn.ReLU(inplace=True),\n",
    "    nn.BatchNorm1d(layer2),\n",
    "    \n",
    "    nn.Linear(layer2, 10)\n",
    ")\n",
    "\n",
    "\n",
    "nn_model.type(torch.FloatTensor)\n",
    "\n",
    "optimizer = optim.Adam(nn_model.parameters(), lr=learning_rate, weight_decay=reg_strength)\n",
    "#scheduler = optim.lr_scheduler.ReduceLROnPlateau(optimizer, factor=0.333, patience=3)\n",
    "scheduler = optim.lr_scheduler.StepLR(optimizer, 2.5, gamma=0.5)\n",
    "\n",
    "loss_history, train_history, val_history = train_model(nn_model, train_loader, val_loader, loss, optimizer, epochs)"
   ]
  },
  {
   "cell_type": "code",
   "execution_count": 24,
   "metadata": {
    "collapsed": false
   },
   "outputs": [
    {
     "name": "stdout",
     "output_type": "stream",
     "text": [
      "Test accuracy: 0.7987\n"
     ]
    }
   ],
   "source": [
    "test_loader = torch.utils.data.DataLoader(data_test, batch_size=batch_size)\n",
    "test_accuracy = compute_accuracy(nn_model, test_loader)\n",
    "print(\"Test accuracy: %2.4f\" % test_accuracy)"
   ]
  },
  {
   "cell_type": "code",
   "execution_count": 25,
   "metadata": {
    "collapsed": false
   },
   "outputs": [
    {
     "name": "stdout",
     "output_type": "stream",
     "text": [
      "Average loss: 1.322767, Train accuracy: 0.574020, Val accuracy: 0.698109\n",
      "Average loss: 0.929569, Train accuracy: 0.706873, Val accuracy: 0.740905\n",
      "Average loss: 0.816744, Train accuracy: 0.742484, Val accuracy: 0.773804\n",
      "Average loss: 0.755479, Train accuracy: 0.763830, Val accuracy: 0.745615\n",
      "Average loss: 0.707738, Train accuracy: 0.777668, Val accuracy: 0.788274\n",
      "Average loss: 0.677371, Train accuracy: 0.788401, Val accuracy: 0.787114\n",
      "Average loss: 0.652920, Train accuracy: 0.795806, Val accuracy: 0.800014\n",
      "Average loss: 0.629614, Train accuracy: 0.803194, Val accuracy: 0.809228\n",
      "Average loss: 0.606868, Train accuracy: 0.808962, Val accuracy: 0.815917\n",
      "Average loss: 0.598696, Train accuracy: 0.813193, Val accuracy: 0.812436\n",
      "Average loss: 0.583275, Train accuracy: 0.816094, Val accuracy: 0.818579\n",
      "Average loss: 0.574467, Train accuracy: 0.820411, Val accuracy: 0.821923\n",
      "Average loss: 0.564294, Train accuracy: 0.823550, Val accuracy: 0.816600\n",
      "Average loss: 0.558237, Train accuracy: 0.824523, Val accuracy: 0.816190\n",
      "Average loss: 0.552315, Train accuracy: 0.826059, Val accuracy: 0.826633\n",
      "Average loss: 0.541638, Train accuracy: 0.831280, Val accuracy: 0.821787\n",
      "Average loss: 0.533974, Train accuracy: 0.831911, Val accuracy: 0.810934\n",
      "Average loss: 0.530957, Train accuracy: 0.831109, Val accuracy: 0.824517\n",
      "Average loss: 0.524213, Train accuracy: 0.834778, Val accuracy: 0.823015\n",
      "Average loss: 0.523757, Train accuracy: 0.834659, Val accuracy: 0.829773\n",
      "Average loss: 0.513402, Train accuracy: 0.839112, Val accuracy: 0.829841\n",
      "Average loss: 0.509578, Train accuracy: 0.839726, Val accuracy: 0.826633\n",
      "Average loss: 0.506663, Train accuracy: 0.839283, Val accuracy: 0.817214\n",
      "Average loss: 0.505672, Train accuracy: 0.841245, Val accuracy: 0.825404\n",
      "Average loss: 0.497801, Train accuracy: 0.844402, Val accuracy: 0.813460\n",
      "Average loss: 0.501187, Train accuracy: 0.840699, Val accuracy: 0.830524\n",
      "Average loss: 0.496810, Train accuracy: 0.843600, Val accuracy: 0.820012\n",
      "Average loss: 0.496084, Train accuracy: 0.843600, Val accuracy: 0.819466\n",
      "Average loss: 0.492206, Train accuracy: 0.843924, Val accuracy: 0.815439\n",
      "Average loss: 0.496142, Train accuracy: 0.843207, Val accuracy: 0.827793\n",
      "Average loss: 0.484564, Train accuracy: 0.846569, Val accuracy: 0.828476\n",
      "Average loss: 0.485919, Train accuracy: 0.846296, Val accuracy: 0.828612\n",
      "Average loss: 0.485602, Train accuracy: 0.844009, Val accuracy: 0.822196\n",
      "Average loss: 0.483239, Train accuracy: 0.848292, Val accuracy: 0.823630\n",
      "Average loss: 0.484379, Train accuracy: 0.846227, Val accuracy: 0.827793\n",
      "Average loss: 0.476484, Train accuracy: 0.848497, Val accuracy: 0.834892\n",
      "Average loss: 0.478920, Train accuracy: 0.848804, Val accuracy: 0.835097\n",
      "Average loss: 0.477369, Train accuracy: 0.847934, Val accuracy: 0.835233\n",
      "Average loss: 0.474390, Train accuracy: 0.850186, Val accuracy: 0.827111\n",
      "Average loss: 0.475285, Train accuracy: 0.850169, Val accuracy: 0.830933\n",
      "Average loss: 0.474416, Train accuracy: 0.849299, Val accuracy: 0.829022\n",
      "Average loss: 0.465355, Train accuracy: 0.852541, Val accuracy: 0.819535\n",
      "Average loss: 0.466841, Train accuracy: 0.851619, Val accuracy: 0.822811\n",
      "Average loss: 0.471449, Train accuracy: 0.850374, Val accuracy: 0.829022\n",
      "Average loss: 0.466258, Train accuracy: 0.853411, Val accuracy: 0.829295\n",
      "Average loss: 0.463146, Train accuracy: 0.852507, Val accuracy: 0.823971\n",
      "Average loss: 0.460392, Train accuracy: 0.853445, Val accuracy: 0.835916\n",
      "Average loss: 0.459836, Train accuracy: 0.854332, Val accuracy: 0.835097\n",
      "Average loss: 0.463454, Train accuracy: 0.852814, Val accuracy: 0.827998\n",
      "Average loss: 0.461368, Train accuracy: 0.852370, Val accuracy: 0.831616\n"
     ]
    }
   ],
   "source": [
    "import math\n",
    "\n",
    "batch_size = 64\n",
    "\n",
    "layer1 = 100\n",
    "layer2 = 100\n",
    "\n",
    "learning_rate = 1e-3\n",
    "reg_strength = 1e-4\n",
    "\n",
    "epochs = 30\n",
    "\n",
    "train_loader = torch.utils.data.DataLoader(data_train, batch_size=batch_size, sampler=train_sampler)\n",
    "val_loader = torch.utils.data.DataLoader(data_train, batch_size=batch_size, sampler=val_sampler)\n",
    "\n",
    "nn_model = nn.Sequential(\n",
    "    Flattener(),\n",
    "    \n",
    "    nn.Linear(3*32*32, layer1),    \n",
    "    nn.ReLU(inplace=True),\n",
    "    nn.BatchNorm1d(layer1),\n",
    "    \n",
    "    nn.Linear(100, 200),  # was added layer\n",
    "    nn.BatchNorm1d(200), \n",
    "    nn.ReLU(inplace=True),\n",
    "    \n",
    "    nn.Linear(200, layer2),    \n",
    "    nn.ReLU(inplace=True),\n",
    "    nn.BatchNorm1d(layer2),\n",
    "    \n",
    "    nn.Linear(layer2, 10)\n",
    ")\n",
    "\n",
    "\n",
    "nn_model.type(torch.FloatTensor)\n",
    "\n",
    "optimizer = optim.Adam(nn_model.parameters(), lr=learning_rate, weight_decay=reg_strength)\n",
    "#scheduler = optim.lr_scheduler.ReduceLROnPlateau(optimizer, factor=0.333, patience=3)\n",
    "scheduler = optim.lr_scheduler.StepLR(optimizer, 2, gamma=0.5)\n",
    "\n",
    "loss_history, train_history, val_history = train_model(nn_model, train_loader, val_loader, loss, optimizer, epochs)"
   ]
  },
  {
   "cell_type": "code",
   "execution_count": 26,
   "metadata": {
    "collapsed": false
   },
   "outputs": [
    {
     "name": "stdout",
     "output_type": "stream",
     "text": [
      "Test accuracy: 0.8026\n"
     ]
    }
   ],
   "source": [
    "test_loader = torch.utils.data.DataLoader(data_test, batch_size=batch_size)\n",
    "test_accuracy = compute_accuracy(nn_model, test_loader)\n",
    "print(\"Test accuracy: %2.4f\" % test_accuracy)"
   ]
  },
  {
   "cell_type": "code",
   "execution_count": null,
   "metadata": {
    "collapsed": true
   },
   "outputs": [],
   "source": []
  }
 ],
 "metadata": {
  "anaconda-cloud": {},
  "kernelspec": {
   "display_name": "Python [anaconda]",
   "language": "python",
   "name": "Python [anaconda]"
  },
  "language_info": {
   "codemirror_mode": {
    "name": "ipython",
    "version": 2
   },
   "file_extension": ".py",
   "mimetype": "text/x-python",
   "name": "python",
   "nbconvert_exporter": "python",
   "pygments_lexer": "ipython2",
   "version": "2.7.6"
  }
 },
 "nbformat": 4,
 "nbformat_minor": 2
}
