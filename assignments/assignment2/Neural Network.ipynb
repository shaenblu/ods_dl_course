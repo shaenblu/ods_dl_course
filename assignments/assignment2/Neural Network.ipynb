{
 "cells": [
  {
   "cell_type": "markdown",
   "metadata": {},
   "source": [
    "# Задание 2.1 - Нейронные сети\n",
    "\n",
    "В этом задании вы реализуете и натренируете настоящую нейроную сеть своими руками!\n",
    "\n",
    "В некотором смысле это будет расширением прошлого задания - нам нужно просто составить несколько линейных классификаторов вместе!\n",
    "\n",
    "<img src=\"https://i.redd.it/n9fgba8b0qr01.png\" alt=\"Stack_more_layers\" width=\"400px\"/>"
   ]
  },
  {
   "cell_type": "code",
   "execution_count": 2,
   "metadata": {
    "collapsed": true
   },
   "outputs": [],
   "source": [
    "import numpy as np\n",
    "import matplotlib.pyplot as plt\n",
    "\n",
    "%matplotlib inline\n",
    "\n",
    "%load_ext autoreload\n",
    "%autoreload 2"
   ]
  },
  {
   "cell_type": "code",
   "execution_count": 3,
   "metadata": {
    "collapsed": true
   },
   "outputs": [],
   "source": [
    "from dataset import load_svhn, random_split_train_val\n",
    "from gradient_check import check_layer_gradient, check_layer_param_gradient, check_model_gradient\n",
    "from layers import FullyConnectedLayer, ReLULayer\n",
    "from model import TwoLayerNet\n",
    "from trainer import Trainer, Dataset\n",
    "from optim import SGD, MomentumSGD\n",
    "from metrics import multiclass_accuracy"
   ]
  },
  {
   "cell_type": "markdown",
   "metadata": {},
   "source": [
    "# Загружаем данные\n",
    "\n",
    "И разделяем их на training и validation."
   ]
  },
  {
   "cell_type": "code",
   "execution_count": 4,
   "metadata": {
    "collapsed": true
   },
   "outputs": [],
   "source": [
    "def prepare_for_neural_network(train_X, test_X):\n",
    "    train_flat = train_X.reshape(train_X.shape[0], -1).astype(np.float) / 255.0\n",
    "    test_flat = test_X.reshape(test_X.shape[0], -1).astype(np.float) / 255.0\n",
    "    \n",
    "    # Subtract mean\n",
    "    mean_image = np.mean(train_flat, axis = 0)\n",
    "    train_flat -= mean_image\n",
    "    test_flat -= mean_image\n",
    "    \n",
    "    return train_flat, test_flat\n",
    "    \n",
    "train_X, train_y, test_X, test_y = load_svhn(\"data\", max_train=10000, max_test=1000)    \n",
    "train_X, test_X = prepare_for_neural_network(train_X, test_X)\n",
    "# Split train into train and val\n",
    "train_X, train_y, val_X, val_y = random_split_train_val(train_X, train_y, num_val = 1000)"
   ]
  },
  {
   "cell_type": "markdown",
   "metadata": {},
   "source": [
    "# Как всегда, начинаем с кирпичиков\n",
    "\n",
    "Мы будем реализовывать необходимые нам слои по очереди. Каждый слой должен реализовать:\n",
    "- прямой проход (forward pass), который генерирует выход слоя по входу и запоминает необходимые данные\n",
    "- обратный проход (backward pass), который получает градиент по выходу слоя и вычисляет градиент по входу и по параметрам\n",
    "\n",
    "Начнем с ReLU, у которого параметров нет."
   ]
  },
  {
   "cell_type": "code",
   "execution_count": 5,
   "metadata": {
    "collapsed": false,
    "scrolled": false
   },
   "outputs": [
    {
     "name": "stdout",
     "output_type": "stream",
     "text": [
      "Gradient check passed!\n"
     ]
    }
   ],
   "source": [
    "# TODO: Implement ReLULayer layer in layers.py\n",
    "# Note: you'll need to copy implementation of the gradient_check function from the previous assignment\n",
    "\n",
    "X = np.array([[1,-2,3],\n",
    "              [-1, 2, 0.1]\n",
    "              ])\n",
    "\n",
    "assert check_layer_gradient(ReLULayer(), X)"
   ]
  },
  {
   "cell_type": "markdown",
   "metadata": {},
   "source": [
    "А теперь реализуем полносвязный слой (fully connected layer), у которого будет два массива параметров: W (weights) и B (bias).\n",
    "\n",
    "Все параметры наши слои будут использовать для параметров специальный класс `Param`, в котором будут храниться значения параметров и градиенты этих параметров, вычисляемые во время обратного прохода.\n",
    "\n",
    "Это даст возможность аккумулировать (суммировать) градиенты из разных частей функции потерь, например, из cross-entropy loss и regularization loss."
   ]
  },
  {
   "cell_type": "code",
   "execution_count": 6,
   "metadata": {
    "collapsed": false
   },
   "outputs": [
    {
     "name": "stdout",
     "output_type": "stream",
     "text": [
      "Gradient check passed!\n",
      "Gradient check passed!\n",
      "Gradient check passed!\n"
     ]
    }
   ],
   "source": [
    "# TODO: Implement FullyConnected layer forward and backward methods\n",
    "assert check_layer_gradient(FullyConnectedLayer(3, 4), X)\n",
    "# TODO: Implement storing gradients for W and B\n",
    "assert check_layer_param_gradient(FullyConnectedLayer(3, 4), X, 'W')\n",
    "assert check_layer_param_gradient(FullyConnectedLayer(3, 4), X, 'B')"
   ]
  },
  {
   "cell_type": "markdown",
   "metadata": {},
   "source": [
    "## Создаем нейронную сеть\n",
    "\n",
    "Теперь мы реализуем простейшую нейронную сеть с двумя полносвязным слоями и нелинейностью ReLU. Реализуйте функцию `compute_loss_and_gradients`, она должна запустить прямой и обратный проход через оба слоя для вычисления градиентов.\n",
    "\n",
    "Не забудьте реализовать очистку градиентов в начале функции."
   ]
  },
  {
   "cell_type": "code",
   "execution_count": 7,
   "metadata": {
    "collapsed": false
   },
   "outputs": [
    {
     "name": "stdout",
     "output_type": "stream",
     "text": [
      "Checking gradient for W1\n",
      "Gradient check passed!\n",
      "Checking gradient for B2\n",
      "Gradient check passed!\n",
      "Checking gradient for B1\n",
      "Gradient check passed!\n",
      "Checking gradient for W2\n",
      "Gradient check passed!\n"
     ]
    },
    {
     "data": {
      "text/plain": [
       "True"
      ]
     },
     "execution_count": 7,
     "metadata": {},
     "output_type": "execute_result"
    }
   ],
   "source": [
    "# TODO: In model.py, implement compute_loss_and_gradients function\n",
    "model = TwoLayerNet(n_input = train_X.shape[1], n_output = 10, hidden_layer_size = 3, reg = 0)\n",
    "loss = model.compute_loss_and_gradients(train_X[:2], train_y[:2])\n",
    "\n",
    "# TODO Now implement backward pass and aggregate all of the params\n",
    "check_model_gradient(model, train_X[:2], train_y[:2])"
   ]
  },
  {
   "cell_type": "markdown",
   "metadata": {},
   "source": [
    "Теперь добавьте к модели регуляризацию - она должна прибавляться к loss и делать свой вклад в градиенты."
   ]
  },
  {
   "cell_type": "code",
   "execution_count": 8,
   "metadata": {
    "collapsed": false
   },
   "outputs": [
    {
     "name": "stdout",
     "output_type": "stream",
     "text": [
      "Checking gradient for W1\n",
      "Gradient check passed!\n",
      "Checking gradient for B2\n",
      "Gradient check passed!\n",
      "Checking gradient for B1\n",
      "Gradient check passed!\n",
      "Checking gradient for W2\n",
      "Gradient check passed!\n"
     ]
    },
    {
     "data": {
      "text/plain": [
       "True"
      ]
     },
     "execution_count": 8,
     "metadata": {},
     "output_type": "execute_result"
    }
   ],
   "source": [
    "# TODO Now implement l2 regularization in the forward and backward pass\n",
    "model_with_reg = TwoLayerNet(n_input = train_X.shape[1], n_output = 10, hidden_layer_size = 3, reg = 1e1)\n",
    "loss_with_reg = model_with_reg.compute_loss_and_gradients(train_X[:2], train_y[:2])\n",
    "assert loss_with_reg > loss and not np.isclose(loss_with_reg, loss), \\\n",
    "    \"Loss with regularization (%2.4f) should be higher than without it (%2.4f)!\" % (loss, loss_with_reg)\n",
    "\n",
    "check_model_gradient(model_with_reg, train_X[:2], train_y[:2])"
   ]
  },
  {
   "cell_type": "markdown",
   "metadata": {},
   "source": [
    "Также реализуем функцию предсказания (вычисления значения) модели на новых данных.\n",
    "\n",
    "Какое значение точности мы ожидаем увидеть до начала тренировки?"
   ]
  },
  {
   "cell_type": "code",
   "execution_count": 9,
   "metadata": {
    "collapsed": false
   },
   "outputs": [
    {
     "data": {
      "text/plain": [
       "0.1"
      ]
     },
     "execution_count": 9,
     "metadata": {},
     "output_type": "execute_result"
    }
   ],
   "source": [
    "# Finally, implement predict function!\n",
    "\n",
    "# TODO: Implement predict function\n",
    "# What would be the value we expect?\n",
    "multiclass_accuracy(model_with_reg.predict(train_X[:30]), train_y[:30]) "
   ]
  },
  {
   "cell_type": "markdown",
   "metadata": {},
   "source": [
    "# Допишем код для процесса тренировки\n",
    "\n",
    "Если все реализовано корректно, значение функции ошибки должно уменьшаться с каждой эпохой, пусть и медленно. Не беспокойтесь пока про validation accuracy."
   ]
  },
  {
   "cell_type": "code",
   "execution_count": 10,
   "metadata": {
    "collapsed": false
   },
   "outputs": [
    {
     "name": "stdout",
     "output_type": "stream",
     "text": [
      "Loss: 2.302491, Train accuracy: 0.196667, val accuracy: 0.206000\n",
      "Loss: 2.302451, Train accuracy: 0.196667, val accuracy: 0.206000\n",
      "Loss: 2.302476, Train accuracy: 0.148222, val accuracy: 0.140000\n",
      "Loss: 2.302536, Train accuracy: 0.196667, val accuracy: 0.206000\n",
      "Loss: 2.302488, Train accuracy: 0.196667, val accuracy: 0.206000\n",
      "Loss: 2.302381, Train accuracy: 0.196667, val accuracy: 0.206000\n",
      "Loss: 2.302578, Train accuracy: 0.196667, val accuracy: 0.206000\n",
      "Loss: 2.302424, Train accuracy: 0.196667, val accuracy: 0.206000\n",
      "Loss: 2.302486, Train accuracy: 0.196667, val accuracy: 0.206000\n",
      "Loss: 2.302473, Train accuracy: 0.196667, val accuracy: 0.206000\n",
      "Loss: 2.302535, Train accuracy: 0.196667, val accuracy: 0.206000\n",
      "Loss: 2.302558, Train accuracy: 0.196667, val accuracy: 0.206000\n",
      "Loss: 2.302561, Train accuracy: 0.196667, val accuracy: 0.206000\n",
      "Loss: 2.302531, Train accuracy: 0.196667, val accuracy: 0.206000\n",
      "Loss: 2.302597, Train accuracy: 0.196667, val accuracy: 0.206000\n",
      "Loss: 2.302473, Train accuracy: 0.196667, val accuracy: 0.206000\n",
      "Loss: 2.302530, Train accuracy: 0.196667, val accuracy: 0.206000\n",
      "Loss: 2.302513, Train accuracy: 0.148222, val accuracy: 0.140000\n",
      "Loss: 2.302480, Train accuracy: 0.196667, val accuracy: 0.206000\n",
      "Loss: 2.302503, Train accuracy: 0.196667, val accuracy: 0.206000\n"
     ]
    }
   ],
   "source": [
    "model = TwoLayerNet(n_input = train_X.shape[1], n_output = 10, hidden_layer_size = 100, reg = 1e1)\n",
    "dataset = Dataset(train_X, train_y, val_X, val_y)\n",
    "trainer = Trainer(model, dataset, SGD(), learning_rate = 1e-2)\n",
    "\n",
    "# TODO Implement missing pieces in Trainer.fit function\n",
    "# You should expect loss to go down every epoch, even if it's slow\n",
    "loss_history, train_history, val_history = trainer.fit()"
   ]
  },
  {
   "cell_type": "code",
   "execution_count": 11,
   "metadata": {
    "collapsed": false
   },
   "outputs": [
    {
     "data": {
      "text/plain": [
       "[<matplotlib.lines.Line2D at 0xb1e629ba8>]"
      ]
     },
     "execution_count": 11,
     "metadata": {},
     "output_type": "execute_result"
    },
    {
     "data": {
      "image/png": "[encoded data removed]",
      "text/plain": [
       "<Figure size 432x288 with 1 Axes>"
      ]
     },
     "metadata": {
      "needs_background": "light"
     },
     "output_type": "display_data"
    }
   ],
   "source": [
    "plt.plot(train_history)\n",
    "plt.plot(val_history)"
   ]
  },
  {
   "cell_type": "markdown",
   "metadata": {},
   "source": [
    "# Улучшаем процесс тренировки\n",
    "\n",
    "Мы реализуем несколько ключевых оптимизаций, необходимых для тренировки современных нейросетей."
   ]
  },
  {
   "cell_type": "markdown",
   "metadata": {},
   "source": [
    "## Уменьшение скорости обучения (learning rate decay)\n",
    "\n",
    "Одна из необходимых оптимизаций во время тренировки нейронных сетей - постепенное уменьшение скорости обучения по мере тренировки.\n",
    "\n",
    "Один из стандартных методов - уменьшение скорости обучения (learning rate) каждые N эпох на коэффициент d (часто называемый decay). Значения N и d, как всегда, являются гиперпараметрами и должны подбираться на основе эффективности на проверочных данных (validation data). \n",
    "\n",
    "В нашем случае N будет равным 1."
   ]
  },
  {
   "cell_type": "code",
   "execution_count": 12,
   "metadata": {
    "collapsed": false
   },
   "outputs": [
    {
     "name": "stdout",
     "output_type": "stream",
     "text": [
      "Loss: 2.302239, Train accuracy: 0.196667, val accuracy: 0.206000\n",
      "Loss: 2.308332, Train accuracy: 0.196667, val accuracy: 0.206000\n",
      "Loss: 2.289100, Train accuracy: 0.196667, val accuracy: 0.206000\n",
      "Loss: 2.306072, Train accuracy: 0.196667, val accuracy: 0.206000\n",
      "Loss: 2.250868, Train accuracy: 0.196667, val accuracy: 0.206000\n",
      "Loss: 2.291086, Train accuracy: 0.196667, val accuracy: 0.206000\n",
      "Loss: 2.212819, Train accuracy: 0.196667, val accuracy: 0.206000\n",
      "Loss: 2.325159, Train accuracy: 0.196667, val accuracy: 0.206000\n",
      "Loss: 2.290994, Train accuracy: 0.196667, val accuracy: 0.206000\n",
      "Loss: 2.313145, Train accuracy: 0.196667, val accuracy: 0.206000\n",
      "Loss: 2.238692, Train accuracy: 0.196667, val accuracy: 0.206000\n",
      "Loss: 2.286604, Train accuracy: 0.196667, val accuracy: 0.206000\n",
      "Loss: 2.355889, Train accuracy: 0.196667, val accuracy: 0.206000\n",
      "Loss: 2.233891, Train accuracy: 0.196667, val accuracy: 0.206000\n",
      "Loss: 2.379898, Train accuracy: 0.196667, val accuracy: 0.206000\n",
      "Loss: 2.259309, Train accuracy: 0.196667, val accuracy: 0.206000\n",
      "Loss: 2.315171, Train accuracy: 0.196667, val accuracy: 0.206000\n",
      "Loss: 2.272651, Train accuracy: 0.196667, val accuracy: 0.206000\n",
      "Loss: 2.288477, Train accuracy: 0.196667, val accuracy: 0.206000\n",
      "Loss: 2.297109, Train accuracy: 0.196667, val accuracy: 0.206000\n"
     ]
    }
   ],
   "source": [
    "# TODO Implement learning rate decay inside Trainer.fit method\n",
    "# Decay should happen once per epoch\n",
    "\n",
    "model = TwoLayerNet(n_input = train_X.shape[1], n_output = 10, hidden_layer_size = 100, reg = 1e-1)\n",
    "dataset = Dataset(train_X, train_y, val_X, val_y)\n",
    "trainer = Trainer(model, dataset, SGD(), learning_rate_decay=0.99)\n",
    "\n",
    "initial_learning_rate = trainer.learning_rate\n",
    "loss_history, train_history, val_history = trainer.fit()\n",
    "\n",
    "assert trainer.learning_rate < initial_learning_rate, \"Learning rate should've been reduced\"\n",
    "assert trainer.learning_rate > 0.5*initial_learning_rate, \"Learning rate shouldn'tve been reduced that much!\""
   ]
  },
  {
   "cell_type": "markdown",
   "metadata": {},
   "source": [
    "# Накопление импульса (Momentum SGD)\n",
    "\n",
    "Другой большой класс оптимизаций - использование более эффективных методов градиентного спуска. Мы реализуем один из них - накопление импульса (Momentum SGD).\n",
    "\n",
    "Этот метод хранит скорость движения, использует градиент для ее изменения на каждом шаге, и изменяет веса пропорционально значению скорости.\n",
    "(Физическая аналогия: Вместо скорости градиенты теперь будут задавать ускорение, но будет присутствовать сила трения.)\n",
    "\n",
    "```\n",
    "velocity = momentum * velocity - learning_rate * gradient \n",
    "w = w + velocity\n",
    "```\n",
    "\n",
    "`momentum` здесь коэффициент затухания, который тоже является гиперпараметром (к счастью, для него часто есть хорошее значение по умолчанию, типичный диапазон -- 0.8-0.99).\n",
    "\n",
    "Несколько полезных ссылок, где метод разбирается более подробно:  \n",
    "http://cs231n.github.io/neural-networks-3/#sgd  \n",
    "https://distill.pub/2017/momentum/"
   ]
  },
  {
   "cell_type": "code",
   "execution_count": 13,
   "metadata": {
    "collapsed": false
   },
   "outputs": [
    {
     "name": "stdout",
     "output_type": "stream",
     "text": [
      "Loss: 2.328003, Train accuracy: 0.196667, val accuracy: 0.206000\n",
      "Loss: 2.322595, Train accuracy: 0.196667, val accuracy: 0.206000\n",
      "Loss: 2.320111, Train accuracy: 0.196667, val accuracy: 0.206000\n",
      "Loss: 2.311517, Train accuracy: 0.196667, val accuracy: 0.206000\n",
      "Loss: 2.309783, Train accuracy: 0.196667, val accuracy: 0.206000\n",
      "Loss: 2.312030, Train accuracy: 0.196667, val accuracy: 0.206000\n",
      "Loss: 2.305316, Train accuracy: 0.196667, val accuracy: 0.206000\n",
      "Loss: 2.305544, Train accuracy: 0.196667, val accuracy: 0.206000\n",
      "Loss: 2.302871, Train accuracy: 0.196667, val accuracy: 0.206000\n",
      "Loss: 2.303209, Train accuracy: 0.196667, val accuracy: 0.206000\n",
      "Loss: 2.301828, Train accuracy: 0.196667, val accuracy: 0.206000\n",
      "Loss: 2.305645, Train accuracy: 0.196667, val accuracy: 0.206000\n",
      "Loss: 2.297752, Train accuracy: 0.196667, val accuracy: 0.206000\n",
      "Loss: 2.302125, Train accuracy: 0.196667, val accuracy: 0.206000\n",
      "Loss: 2.301015, Train accuracy: 0.196667, val accuracy: 0.206000\n",
      "Loss: 2.298528, Train accuracy: 0.196667, val accuracy: 0.206000\n",
      "Loss: 2.298850, Train accuracy: 0.196667, val accuracy: 0.206000\n",
      "Loss: 2.294343, Train accuracy: 0.196667, val accuracy: 0.206000\n",
      "Loss: 2.292257, Train accuracy: 0.196667, val accuracy: 0.206000\n",
      "Loss: 2.303052, Train accuracy: 0.196667, val accuracy: 0.206000\n"
     ]
    }
   ],
   "source": [
    "# TODO: Implement MomentumSGD.update function in optim.py\n",
    "\n",
    "model = TwoLayerNet(n_input = train_X.shape[1], n_output = 10, hidden_layer_size = 100, reg = 1e-1)\n",
    "dataset = Dataset(train_X, train_y, val_X, val_y)\n",
    "trainer = Trainer(model, dataset, MomentumSGD(), learning_rate=1e-4, learning_rate_decay=0.99)\n",
    "\n",
    "# You should see even better results than before!\n",
    "loss_history, train_history, val_history = trainer.fit()"
   ]
  },
  {
   "cell_type": "markdown",
   "metadata": {},
   "source": [
    "# Ну что, давайте уже тренировать сеть!"
   ]
  },
  {
   "cell_type": "markdown",
   "metadata": {},
   "source": [
    "## Последний тест - переобучимся (overfit) на маленьком наборе данных\n",
    "\n",
    "Хороший способ проверить, все ли реализовано корректно - переобучить сеть на маленьком наборе данных.  \n",
    "Наша модель обладает достаточной мощностью, чтобы приблизить маленький набор данных идеально, поэтому мы ожидаем, что на нем мы быстро дойдем до 100% точности на тренировочном наборе. \n",
    "\n",
    "Если этого не происходит, то где-то была допущена ошибка!"
   ]
  },
  {
   "cell_type": "code",
   "execution_count": 14,
   "metadata": {
    "collapsed": false
   },
   "outputs": [
    {
     "name": "stdout",
     "output_type": "stream",
     "text": [
      "Loss: 2.339515, Train accuracy: 0.266667, val accuracy: 0.066667\n",
      "Loss: 2.324188, Train accuracy: 0.266667, val accuracy: 0.066667\n",
      "Loss: 2.312022, Train accuracy: 0.200000, val accuracy: 0.066667\n",
      "Loss: 2.329603, Train accuracy: 0.200000, val accuracy: 0.133333\n",
      "Loss: 2.312070, Train accuracy: 0.200000, val accuracy: 0.066667\n",
      "Loss: 2.316725, Train accuracy: 0.200000, val accuracy: 0.066667\n",
      "Loss: 2.277508, Train accuracy: 0.266667, val accuracy: 0.066667\n",
      "Loss: 2.233979, Train accuracy: 0.400000, val accuracy: 0.000000\n",
      "Loss: 2.162042, Train accuracy: 0.400000, val accuracy: 0.000000\n",
      "Loss: 2.025126, Train accuracy: 0.400000, val accuracy: 0.000000\n",
      "Loss: 1.906637, Train accuracy: 0.400000, val accuracy: 0.000000\n",
      "Loss: 2.266989, Train accuracy: 0.333333, val accuracy: 0.000000\n",
      "Loss: 1.674035, Train accuracy: 0.333333, val accuracy: 0.000000\n",
      "Loss: 2.259103, Train accuracy: 0.333333, val accuracy: 0.000000\n",
      "Loss: 1.959786, Train accuracy: 0.333333, val accuracy: 0.000000\n",
      "Loss: 1.663200, Train accuracy: 0.333333, val accuracy: 0.000000\n",
      "Loss: 2.053776, Train accuracy: 0.333333, val accuracy: 0.000000\n",
      "Loss: 1.405266, Train accuracy: 0.333333, val accuracy: 0.000000\n",
      "Loss: 1.508166, Train accuracy: 0.333333, val accuracy: 0.000000\n",
      "Loss: 1.805723, Train accuracy: 0.333333, val accuracy: 0.000000\n",
      "Loss: 2.004494, Train accuracy: 0.333333, val accuracy: 0.000000\n",
      "Loss: 1.568804, Train accuracy: 0.333333, val accuracy: 0.000000\n",
      "Loss: 1.967230, Train accuracy: 0.333333, val accuracy: 0.000000\n",
      "Loss: 1.877235, Train accuracy: 0.400000, val accuracy: 0.000000\n",
      "Loss: 1.256787, Train accuracy: 0.400000, val accuracy: 0.000000\n",
      "Loss: 2.086463, Train accuracy: 0.466667, val accuracy: 0.000000\n",
      "Loss: 1.735391, Train accuracy: 0.466667, val accuracy: 0.000000\n",
      "Loss: 2.160559, Train accuracy: 0.466667, val accuracy: 0.000000\n",
      "Loss: 2.015526, Train accuracy: 0.466667, val accuracy: 0.000000\n",
      "Loss: 1.343634, Train accuracy: 0.466667, val accuracy: 0.000000\n",
      "Loss: 1.818964, Train accuracy: 0.533333, val accuracy: 0.000000\n",
      "Loss: 1.652249, Train accuracy: 0.533333, val accuracy: 0.000000\n",
      "Loss: 1.403237, Train accuracy: 0.466667, val accuracy: 0.000000\n",
      "Loss: 1.937808, Train accuracy: 0.533333, val accuracy: 0.000000\n",
      "Loss: 1.686796, Train accuracy: 0.533333, val accuracy: 0.000000\n",
      "Loss: 2.028998, Train accuracy: 0.533333, val accuracy: 0.000000\n",
      "Loss: 1.096828, Train accuracy: 0.533333, val accuracy: 0.000000\n",
      "Loss: 1.632072, Train accuracy: 0.600000, val accuracy: 0.000000\n",
      "Loss: 1.729369, Train accuracy: 0.533333, val accuracy: 0.000000\n",
      "Loss: 1.901766, Train accuracy: 0.666667, val accuracy: 0.000000\n",
      "Loss: 2.487938, Train accuracy: 0.600000, val accuracy: 0.000000\n",
      "Loss: 1.128484, Train accuracy: 0.600000, val accuracy: 0.000000\n",
      "Loss: 1.691020, Train accuracy: 0.600000, val accuracy: 0.000000\n",
      "Loss: 1.764817, Train accuracy: 0.600000, val accuracy: 0.000000\n",
      "Loss: 1.478626, Train accuracy: 0.600000, val accuracy: 0.000000\n",
      "Loss: 1.944383, Train accuracy: 0.600000, val accuracy: 0.066667\n",
      "Loss: 1.355046, Train accuracy: 0.666667, val accuracy: 0.000000\n",
      "Loss: 1.683233, Train accuracy: 0.666667, val accuracy: 0.000000\n",
      "Loss: 1.686358, Train accuracy: 0.733333, val accuracy: 0.000000\n",
      "Loss: 1.385972, Train accuracy: 0.733333, val accuracy: 0.066667\n",
      "Loss: 1.637424, Train accuracy: 0.666667, val accuracy: 0.000000\n",
      "Loss: 1.663101, Train accuracy: 0.733333, val accuracy: 0.000000\n",
      "Loss: 1.618008, Train accuracy: 0.733333, val accuracy: 0.000000\n",
      "Loss: 1.877425, Train accuracy: 0.733333, val accuracy: 0.000000\n",
      "Loss: 1.584734, Train accuracy: 0.733333, val accuracy: 0.000000\n",
      "Loss: 1.663872, Train accuracy: 0.733333, val accuracy: 0.000000\n",
      "Loss: 1.076790, Train accuracy: 0.666667, val accuracy: 0.000000\n",
      "Loss: 0.997796, Train accuracy: 0.733333, val accuracy: 0.000000\n",
      "Loss: 1.555090, Train accuracy: 0.733333, val accuracy: 0.000000\n",
      "Loss: 1.028639, Train accuracy: 0.733333, val accuracy: 0.000000\n",
      "Loss: 2.067681, Train accuracy: 0.733333, val accuracy: 0.000000\n",
      "Loss: 1.652520, Train accuracy: 0.733333, val accuracy: 0.000000\n",
      "Loss: 1.364377, Train accuracy: 0.733333, val accuracy: 0.000000\n",
      "Loss: 1.377750, Train accuracy: 0.733333, val accuracy: 0.000000\n",
      "Loss: 1.995498, Train accuracy: 0.733333, val accuracy: 0.066667\n",
      "Loss: 1.314331, Train accuracy: 0.733333, val accuracy: 0.066667\n",
      "Loss: 1.276717, Train accuracy: 0.733333, val accuracy: 0.000000\n",
      "Loss: 0.919653, Train accuracy: 0.733333, val accuracy: 0.000000\n",
      "Loss: 1.182884, Train accuracy: 0.733333, val accuracy: 0.000000\n",
      "Loss: 1.782662, Train accuracy: 0.733333, val accuracy: 0.066667\n",
      "Loss: 1.634202, Train accuracy: 0.733333, val accuracy: 0.000000\n",
      "Loss: 1.235411, Train accuracy: 0.733333, val accuracy: 0.000000\n",
      "Loss: 1.582038, Train accuracy: 0.800000, val accuracy: 0.000000\n",
      "Loss: 1.745388, Train accuracy: 0.800000, val accuracy: 0.000000\n",
      "Loss: 1.283189, Train accuracy: 0.800000, val accuracy: 0.000000\n",
      "Loss: 1.808222, Train accuracy: 0.800000, val accuracy: 0.000000\n",
      "Loss: 2.045547, Train accuracy: 0.800000, val accuracy: 0.000000\n",
      "Loss: 1.390223, Train accuracy: 0.800000, val accuracy: 0.066667\n",
      "Loss: 0.981153, Train accuracy: 0.800000, val accuracy: 0.066667\n",
      "Loss: 1.647631, Train accuracy: 0.800000, val accuracy: 0.066667\n",
      "Loss: 1.655900, Train accuracy: 0.800000, val accuracy: 0.066667\n",
      "Loss: 1.155740, Train accuracy: 0.800000, val accuracy: 0.000000\n",
      "Loss: 1.305531, Train accuracy: 0.800000, val accuracy: 0.000000\n",
      "Loss: 1.564083, Train accuracy: 0.800000, val accuracy: 0.000000\n",
      "Loss: 0.947727, Train accuracy: 0.800000, val accuracy: 0.000000\n",
      "Loss: 1.267408, Train accuracy: 0.800000, val accuracy: 0.066667\n",
      "Loss: 1.300756, Train accuracy: 0.800000, val accuracy: 0.066667\n",
      "Loss: 0.932287, Train accuracy: 0.800000, val accuracy: 0.000000\n",
      "Loss: 1.379658, Train accuracy: 0.800000, val accuracy: 0.066667\n",
      "Loss: 1.717858, Train accuracy: 0.800000, val accuracy: 0.000000\n",
      "Loss: 1.388081, Train accuracy: 0.800000, val accuracy: 0.066667\n",
      "Loss: 1.648459, Train accuracy: 0.800000, val accuracy: 0.066667\n",
      "Loss: 1.559791, Train accuracy: 0.800000, val accuracy: 0.000000\n",
      "Loss: 1.215647, Train accuracy: 0.800000, val accuracy: 0.000000\n",
      "Loss: 1.300102, Train accuracy: 0.800000, val accuracy: 0.000000\n",
      "Loss: 1.291681, Train accuracy: 0.800000, val accuracy: 0.000000\n",
      "Loss: 1.025718, Train accuracy: 0.800000, val accuracy: 0.066667\n",
      "Loss: 1.726563, Train accuracy: 0.800000, val accuracy: 0.066667\n",
      "Loss: 1.287155, Train accuracy: 0.800000, val accuracy: 0.000000\n",
      "Loss: 1.616040, Train accuracy: 0.800000, val accuracy: 0.066667\n",
      "Loss: 1.935106, Train accuracy: 0.800000, val accuracy: 0.066667\n",
      "Loss: 1.345902, Train accuracy: 0.800000, val accuracy: 0.066667\n",
      "Loss: 1.941323, Train accuracy: 0.866667, val accuracy: 0.066667\n",
      "Loss: 1.130955, Train accuracy: 0.866667, val accuracy: 0.066667\n",
      "Loss: 1.328271, Train accuracy: 0.866667, val accuracy: 0.000000\n",
      "Loss: 1.278687, Train accuracy: 0.866667, val accuracy: 0.000000\n",
      "Loss: 1.426480, Train accuracy: 0.866667, val accuracy: 0.000000\n",
      "Loss: 1.603676, Train accuracy: 0.866667, val accuracy: 0.000000\n",
      "Loss: 1.220900, Train accuracy: 0.866667, val accuracy: 0.066667\n",
      "Loss: 1.225858, Train accuracy: 0.866667, val accuracy: 0.000000\n",
      "Loss: 1.647074, Train accuracy: 0.866667, val accuracy: 0.066667\n",
      "Loss: 1.249827, Train accuracy: 0.866667, val accuracy: 0.000000\n",
      "Loss: 1.065933, Train accuracy: 0.866667, val accuracy: 0.066667\n",
      "Loss: 1.311285, Train accuracy: 0.866667, val accuracy: 0.066667\n",
      "Loss: 1.394974, Train accuracy: 0.866667, val accuracy: 0.000000\n",
      "Loss: 1.381958, Train accuracy: 0.933333, val accuracy: 0.066667\n",
      "Loss: 1.507334, Train accuracy: 0.866667, val accuracy: 0.000000\n",
      "Loss: 1.364148, Train accuracy: 0.866667, val accuracy: 0.066667\n",
      "Loss: 1.624832, Train accuracy: 0.866667, val accuracy: 0.000000\n",
      "Loss: 1.688127, Train accuracy: 0.866667, val accuracy: 0.000000\n",
      "Loss: 1.199394, Train accuracy: 0.866667, val accuracy: 0.000000\n",
      "Loss: 1.747265, Train accuracy: 0.933333, val accuracy: 0.000000\n",
      "Loss: 1.187615, Train accuracy: 0.866667, val accuracy: 0.000000\n",
      "Loss: 1.717135, Train accuracy: 0.933333, val accuracy: 0.000000\n",
      "Loss: 1.383422, Train accuracy: 0.933333, val accuracy: 0.000000\n",
      "Loss: 1.117606, Train accuracy: 0.933333, val accuracy: 0.000000\n",
      "Loss: 1.177302, Train accuracy: 0.933333, val accuracy: 0.000000\n",
      "Loss: 1.130658, Train accuracy: 0.933333, val accuracy: 0.000000\n",
      "Loss: 0.977260, Train accuracy: 0.866667, val accuracy: 0.000000\n",
      "Loss: 1.743633, Train accuracy: 0.933333, val accuracy: 0.000000\n",
      "Loss: 1.696995, Train accuracy: 0.933333, val accuracy: 0.000000\n",
      "Loss: 1.392860, Train accuracy: 0.933333, val accuracy: 0.000000\n",
      "Loss: 1.192365, Train accuracy: 0.933333, val accuracy: 0.000000\n",
      "Loss: 1.162658, Train accuracy: 0.933333, val accuracy: 0.000000\n",
      "Loss: 1.268564, Train accuracy: 1.000000, val accuracy: 0.000000\n",
      "Loss: 1.380295, Train accuracy: 1.000000, val accuracy: 0.000000\n",
      "Loss: 1.216389, Train accuracy: 1.000000, val accuracy: 0.000000\n",
      "Loss: 1.484830, Train accuracy: 1.000000, val accuracy: 0.000000\n",
      "Loss: 1.368515, Train accuracy: 1.000000, val accuracy: 0.000000\n",
      "Loss: 1.086129, Train accuracy: 1.000000, val accuracy: 0.000000\n",
      "Loss: 1.535074, Train accuracy: 1.000000, val accuracy: 0.000000\n",
      "Loss: 1.401894, Train accuracy: 1.000000, val accuracy: 0.000000\n",
      "Loss: 1.195483, Train accuracy: 1.000000, val accuracy: 0.000000\n",
      "Loss: 1.536462, Train accuracy: 1.000000, val accuracy: 0.000000\n",
      "Loss: 1.383212, Train accuracy: 1.000000, val accuracy: 0.000000\n",
      "Loss: 1.469463, Train accuracy: 1.000000, val accuracy: 0.000000\n",
      "Loss: 1.311500, Train accuracy: 1.000000, val accuracy: 0.000000\n",
      "Loss: 1.361495, Train accuracy: 1.000000, val accuracy: 0.000000\n",
      "Loss: 1.549090, Train accuracy: 1.000000, val accuracy: 0.000000\n",
      "Loss: 1.499534, Train accuracy: 1.000000, val accuracy: 0.000000\n"
     ]
    }
   ],
   "source": [
    "data_size = 15\n",
    "model = TwoLayerNet(n_input = train_X.shape[1], n_output = 10, hidden_layer_size = 100, reg = 1e-1)\n",
    "dataset = Dataset(train_X[:data_size], train_y[:data_size], val_X[:data_size], val_y[:data_size])\n",
    "trainer = Trainer(model, dataset, SGD(), learning_rate=1e-1, num_epochs=150, batch_size=5)\n",
    "\n",
    "# You should expect this to reach 1.0 training accuracy \n",
    "loss_history, train_history, val_history = trainer.fit()"
   ]
  },
  {
   "cell_type": "markdown",
   "metadata": {},
   "source": [
    "Теперь найдем гипепараметры, для которых этот процесс сходится быстрее.\n",
    "Если все реализовано корректно, то существуют параметры, при которых процесс сходится в **20** эпох или еще быстрее.\n",
    "Найдите их!"
   ]
  },
  {
   "cell_type": "code",
   "execution_count": 102,
   "metadata": {
    "collapsed": false
   },
   "outputs": [
    {
     "name": "stdout",
     "output_type": "stream",
     "text": [
      "Loss: 2.302475, Train accuracy: 0.333333, val accuracy: 0.066667\n",
      "Loss: 2.300168, Train accuracy: 0.266667, val accuracy: 0.000000\n",
      "Loss: 2.295515, Train accuracy: 0.266667, val accuracy: 0.000000\n",
      "Loss: 2.286145, Train accuracy: 0.400000, val accuracy: 0.000000\n",
      "Loss: 2.259617, Train accuracy: 0.400000, val accuracy: 0.000000\n",
      "Loss: 2.158430, Train accuracy: 0.333333, val accuracy: 0.000000\n",
      "Loss: 1.883044, Train accuracy: 0.333333, val accuracy: 0.000000\n",
      "Loss: 1.679490, Train accuracy: 0.266667, val accuracy: 0.000000\n",
      "Loss: 1.814899, Train accuracy: 0.333333, val accuracy: 0.133333\n",
      "Loss: 1.657372, Train accuracy: 0.466667, val accuracy: 0.000000\n",
      "Loss: 1.260702, Train accuracy: 0.533333, val accuracy: 0.000000\n",
      "Loss: 1.095951, Train accuracy: 0.666667, val accuracy: 0.066667\n",
      "Loss: 0.862792, Train accuracy: 0.733333, val accuracy: 0.000000\n",
      "Loss: 0.726604, Train accuracy: 0.733333, val accuracy: 0.066667\n",
      "Loss: 0.540594, Train accuracy: 0.933333, val accuracy: 0.066667\n",
      "Loss: 0.385022, Train accuracy: 1.000000, val accuracy: 0.066667\n",
      "Loss: 0.250876, Train accuracy: 1.000000, val accuracy: 0.066667\n",
      "Loss: 0.117250, Train accuracy: 1.000000, val accuracy: 0.000000\n",
      "Loss: 0.037399, Train accuracy: 1.000000, val accuracy: 0.000000\n",
      "Loss: 0.029851, Train accuracy: 1.000000, val accuracy: 0.000000\n"
     ]
    }
   ],
   "source": [
    "# Now, tweak some hyper parameters and make it train to 1.0 accuracy in 20 epochs or less\n",
    "\n",
    "model = TwoLayerNet(n_input = train_X.shape[1], n_output = 10, hidden_layer_size = 100, reg = 1e-4)\n",
    "dataset = Dataset(train_X[:data_size], train_y[:data_size], val_X[:data_size], val_y[:data_size])\n",
    "# TODO: Change any hyperparamers or optimizators to reach training accuracy in 20 epochs\n",
    "trainer = Trainer(model, dataset, MomentumSGD(momentum=0.9), learning_rate=4e-1, num_epochs=20, batch_size=20)\n",
    "\n",
    "loss_history, train_history, val_history = trainer.fit()\n",
    "\n"
   ]
  },
  {
   "cell_type": "markdown",
   "metadata": {},
   "source": [
    "# Итак, основное мероприятие!\n",
    "\n",
    "Натренируйте лучшую нейросеть! Можно добавлять и изменять параметры, менять количество нейронов в слоях сети и как угодно экспериментировать. \n",
    "\n",
    "Добейтесь точности лучше **60%** на validation set."
   ]
  },
  {
   "cell_type": "code",
   "execution_count": 1,
   "metadata": {
    "collapsed": false,
    "scrolled": true
   },
   "outputs": [
    {
     "ename": "TypeError",
     "evalue": "a float is required",
     "output_type": "error",
     "traceback": [
      "\u001b[0;31m---------------------------------------------------------------------------\u001b[0m",
      "\u001b[0;31mTypeError\u001b[0m                                 Traceback (most recent call last)",
      "\u001b[0;32m<ipython-input-1-167b1f217e7a>\u001b[0m in \u001b[0;36m<module>\u001b[0;34m()\u001b[0m\n\u001b[1;32m     20\u001b[0m \u001b[0;31m# Save loss/train/history of the best classifier to the variables above\u001b[0m\u001b[0;34m\u001b[0m\u001b[0;34m\u001b[0m\u001b[0m\n\u001b[1;32m     21\u001b[0m \u001b[0;34m\u001b[0m\u001b[0m\n\u001b[0;32m---> 22\u001b[0;31m \u001b[0mprint\u001b[0m\u001b[0;34m(\u001b[0m\u001b[0;34m'best validation accuracy achieved: %f'\u001b[0m \u001b[0;34m%\u001b[0m \u001b[0mbest_val_accuracy\u001b[0m\u001b[0;34m)\u001b[0m\u001b[0;34m\u001b[0m\u001b[0m\n\u001b[0m",
      "\u001b[0;31mTypeError\u001b[0m: a float is required"
     ]
    }
   ],
   "source": [
    "# Let's train the best one-hidden-layer network we can\n",
    "\n",
    "learning_rates = 1e-4\n",
    "reg_strength = 1e-3\n",
    "learning_rate_decay = 0.999\n",
    "hidden_layer_size = 128\n",
    "num_epochs = 200\n",
    "batch_size = 64\n",
    "\n",
    "best_classifier = None\n",
    "best_val_accuracy = None\n",
    "\n",
    "loss_history = []\n",
    "train_history = []\n",
    "val_history = []\n",
    "\n",
    "# TODO find the best hyperparameters to train the network\n",
    "# Don't hesitate to add new values to the arrays above, perform experiments, use any tricks you want\n",
    "# You should expect to get to at least 40% of valudation accuracy\n",
    "# Save loss/train/history of the best classifier to the variables above\n",
    "\n",
    "\n",
    "\n",
    "print('best validation accuracy achieved: %f' % best_val_accuracy)"
   ]
  },
  {
   "cell_type": "code",
   "execution_count": 119,
   "metadata": {
    "collapsed": false
   },
   "outputs": [
    {
     "name": "stdout",
     "output_type": "stream",
     "text": [
      "n_layers: 70.000000, learning_rate: 0.080000, reg_strength: 0.000270\n",
      "Loss: 1.877271, Train accuracy: 0.305889, val accuracy: 0.325000\n",
      "Loss: 1.584825, Train accuracy: 0.539222, val accuracy: 0.488000\n",
      "Loss: 1.452989, Train accuracy: 0.584889, val accuracy: 0.560000\n",
      "Loss: 1.802901, Train accuracy: 0.580667, val accuracy: 0.561000\n",
      "Loss: 1.102700, Train accuracy: 0.620222, val accuracy: 0.605000\n",
      "Loss: 1.606403, Train accuracy: 0.647556, val accuracy: 0.602000\n",
      "Loss: 0.892439, Train accuracy: 0.668778, val accuracy: 0.617000\n",
      "Loss: 1.445456, Train accuracy: 0.697444, val accuracy: 0.655000\n",
      "Loss: 1.164443, Train accuracy: 0.704333, val accuracy: 0.639000\n",
      "Loss: 1.259502, Train accuracy: 0.703222, val accuracy: 0.652000\n",
      "Loss: 1.852982, Train accuracy: 0.645667, val accuracy: 0.615000\n",
      "Loss: 1.495629, Train accuracy: 0.674444, val accuracy: 0.630000\n",
      "Loss: 1.900300, Train accuracy: 0.701778, val accuracy: 0.673000\n",
      "Loss: 0.921521, Train accuracy: 0.700889, val accuracy: 0.645000\n",
      "Loss: 1.487951, Train accuracy: 0.700556, val accuracy: 0.643000\n",
      "Loss: 1.369323, Train accuracy: 0.666444, val accuracy: 0.634000\n",
      "Loss: 1.376381, Train accuracy: 0.670778, val accuracy: 0.638000\n",
      "Loss: 1.312947, Train accuracy: 0.719889, val accuracy: 0.667000\n",
      "Loss: 1.127221, Train accuracy: 0.649222, val accuracy: 0.610000\n",
      "Loss: 1.785785, Train accuracy: 0.697444, val accuracy: 0.650000\n",
      "Loss: 1.363917, Train accuracy: 0.739667, val accuracy: 0.685000\n",
      "Loss: 1.339716, Train accuracy: 0.737667, val accuracy: 0.680000\n",
      "Loss: 1.663015, Train accuracy: 0.710444, val accuracy: 0.648000\n",
      "Loss: 1.441666, Train accuracy: 0.737889, val accuracy: 0.661000\n",
      "Loss: 1.384962, Train accuracy: 0.669000, val accuracy: 0.628000\n",
      "n_layers: 80.000000, learning_rate: 0.080000, reg_strength: 0.000270\n",
      "Loss: 1.752085, Train accuracy: 0.308111, val accuracy: 0.321000\n",
      "Loss: 1.663942, Train accuracy: 0.501000, val accuracy: 0.505000\n",
      "Loss: 1.167336, Train accuracy: 0.597444, val accuracy: 0.601000\n",
      "Loss: 1.280013, Train accuracy: 0.618778, val accuracy: 0.587000\n",
      "Loss: 1.395528, Train accuracy: 0.610333, val accuracy: 0.590000\n",
      "Loss: 1.502502, Train accuracy: 0.664889, val accuracy: 0.648000\n",
      "Loss: 1.313156, Train accuracy: 0.631333, val accuracy: 0.577000\n",
      "Loss: 1.386932, Train accuracy: 0.667778, val accuracy: 0.626000\n",
      "Loss: 1.755168, Train accuracy: 0.701000, val accuracy: 0.666000\n",
      "Loss: 1.404561, Train accuracy: 0.697222, val accuracy: 0.669000\n",
      "Loss: 1.137490, Train accuracy: 0.652444, val accuracy: 0.605000\n",
      "Loss: 1.069991, Train accuracy: 0.690889, val accuracy: 0.657000\n",
      "Loss: 1.501941, Train accuracy: 0.742778, val accuracy: 0.677000\n",
      "Loss: 1.328835, Train accuracy: 0.717778, val accuracy: 0.637000\n",
      "Loss: 1.580558, Train accuracy: 0.676556, val accuracy: 0.631000\n",
      "Loss: 1.175742, Train accuracy: 0.736778, val accuracy: 0.682000\n",
      "Loss: 1.527053, Train accuracy: 0.717333, val accuracy: 0.632000\n",
      "Loss: 1.344332, Train accuracy: 0.712222, val accuracy: 0.650000\n",
      "Loss: 1.413208, Train accuracy: 0.680222, val accuracy: 0.615000\n",
      "Loss: 1.885589, Train accuracy: 0.692333, val accuracy: 0.631000\n",
      "Loss: 1.096311, Train accuracy: 0.681556, val accuracy: 0.620000\n",
      "Loss: 2.272127, Train accuracy: 0.714111, val accuracy: 0.652000\n",
      "Loss: 1.643661, Train accuracy: 0.671667, val accuracy: 0.598000\n",
      "Loss: 1.176181, Train accuracy: 0.692667, val accuracy: 0.616000\n",
      "Loss: 1.385628, Train accuracy: 0.711000, val accuracy: 0.656000\n",
      "n_layers: 90.000000, learning_rate: 0.080000, reg_strength: 0.000270\n",
      "Loss: 1.949567, Train accuracy: 0.293667, val accuracy: 0.296000\n",
      "Loss: 1.754258, Train accuracy: 0.496667, val accuracy: 0.488000\n",
      "Loss: 1.599375, Train accuracy: 0.583000, val accuracy: 0.585000\n",
      "Loss: 0.839612, Train accuracy: 0.637667, val accuracy: 0.590000\n",
      "Loss: 1.809223, Train accuracy: 0.627000, val accuracy: 0.601000\n",
      "Loss: 1.888896, Train accuracy: 0.652000, val accuracy: 0.625000\n",
      "Loss: 1.288061, Train accuracy: 0.653667, val accuracy: 0.619000\n",
      "Loss: 1.708418, Train accuracy: 0.647556, val accuracy: 0.611000\n",
      "Loss: 1.293711, Train accuracy: 0.609556, val accuracy: 0.590000\n",
      "Loss: 1.085472, Train accuracy: 0.693778, val accuracy: 0.635000\n",
      "Loss: 0.914728, Train accuracy: 0.707556, val accuracy: 0.645000\n",
      "Loss: 1.564391, Train accuracy: 0.686889, val accuracy: 0.651000\n",
      "Loss: 0.880169, Train accuracy: 0.716111, val accuracy: 0.663000\n",
      "Loss: 1.879559, Train accuracy: 0.621111, val accuracy: 0.589000\n",
      "Loss: 2.198639, Train accuracy: 0.726111, val accuracy: 0.647000\n",
      "Loss: 1.946889, Train accuracy: 0.671889, val accuracy: 0.619000\n",
      "Loss: 1.339853, Train accuracy: 0.710778, val accuracy: 0.660000\n",
      "Loss: 2.310067, Train accuracy: 0.665000, val accuracy: 0.603000\n",
      "Loss: 1.579253, Train accuracy: 0.739889, val accuracy: 0.681000\n",
      "Loss: 1.009509, Train accuracy: 0.685444, val accuracy: 0.630000\n",
      "Loss: 1.026327, Train accuracy: 0.729333, val accuracy: 0.669000\n",
      "Loss: 1.587466, Train accuracy: 0.716222, val accuracy: 0.654000\n",
      "Loss: 1.201427, Train accuracy: 0.692889, val accuracy: 0.646000\n",
      "Loss: 1.015403, Train accuracy: 0.753556, val accuracy: 0.680000\n",
      "Loss: 1.767599, Train accuracy: 0.710444, val accuracy: 0.648000\n",
      "n_layers: 100.000000, learning_rate: 0.080000, reg_strength: 0.000270\n",
      "Loss: 1.894117, Train accuracy: 0.340222, val accuracy: 0.328000\n",
      "Loss: 1.299882, Train accuracy: 0.567667, val accuracy: 0.554000\n",
      "Loss: 1.302908, Train accuracy: 0.544889, val accuracy: 0.534000\n",
      "Loss: 1.088855, Train accuracy: 0.648222, val accuracy: 0.627000\n",
      "Loss: 2.075259, Train accuracy: 0.602778, val accuracy: 0.579000\n",
      "Loss: 1.948637, Train accuracy: 0.621667, val accuracy: 0.571000\n",
      "Loss: 1.368336, Train accuracy: 0.620778, val accuracy: 0.584000\n",
      "Loss: 1.554877, Train accuracy: 0.653333, val accuracy: 0.626000\n",
      "Loss: 1.186171, Train accuracy: 0.642111, val accuracy: 0.622000\n",
      "Loss: 1.531714, Train accuracy: 0.622889, val accuracy: 0.578000\n",
      "Loss: 1.262962, Train accuracy: 0.650111, val accuracy: 0.593000\n",
      "Loss: 1.610609, Train accuracy: 0.694556, val accuracy: 0.646000\n",
      "Loss: 2.039055, Train accuracy: 0.703444, val accuracy: 0.643000\n",
      "Loss: 1.294607, Train accuracy: 0.719222, val accuracy: 0.668000\n",
      "Loss: 1.263885, Train accuracy: 0.710889, val accuracy: 0.655000\n",
      "Loss: 1.059782, Train accuracy: 0.726556, val accuracy: 0.655000\n",
      "Loss: 2.283555, Train accuracy: 0.677222, val accuracy: 0.622000\n",
      "Loss: 1.405189, Train accuracy: 0.652000, val accuracy: 0.614000\n",
      "Loss: 1.538246, Train accuracy: 0.721667, val accuracy: 0.653000\n",
      "Loss: 1.386895, Train accuracy: 0.669667, val accuracy: 0.620000\n",
      "Loss: 2.141951, Train accuracy: 0.705444, val accuracy: 0.659000\n",
      "Loss: 2.125654, Train accuracy: 0.748000, val accuracy: 0.681000\n",
      "Loss: 0.939006, Train accuracy: 0.712556, val accuracy: 0.633000\n",
      "Loss: 1.238464, Train accuracy: 0.705333, val accuracy: 0.637000\n",
      "Loss: 2.047576, Train accuracy: 0.707222, val accuracy: 0.632000\n",
      "n_layers: 70.000000, learning_rate: 0.080000, reg_strength: -0.300000\n"
     ]
    },
    {
     "name": "stderr",
     "output_type": "stream",
     "text": [
      "/Users/gulnur/Desktop/workspace/dl_course/assignments/assignment2/layers.py:57: RuntimeWarning: divide by zero encountered in log\n",
      "  result = np.mean(-np.log(probs[rows, cols]))\n"
     ]
    },
    {
     "name": "stdout",
     "output_type": "stream",
     "text": [
      "Loss: inf, Train accuracy: 0.342111, val accuracy: 0.315000\n",
      "Loss: inf, Train accuracy: 0.370778, val accuracy: 0.360000\n",
      "Loss: inf, Train accuracy: 0.326111, val accuracy: 0.291000\n",
      "Loss: inf, Train accuracy: 0.337667, val accuracy: 0.342000\n",
      "Loss: inf, Train accuracy: 0.371889, val accuracy: 0.380000\n",
      "Loss: inf, Train accuracy: 0.424556, val accuracy: 0.404000\n",
      "Loss: inf, Train accuracy: 0.398556, val accuracy: 0.381000\n",
      "Loss: inf, Train accuracy: 0.427222, val accuracy: 0.403000\n",
      "Loss: inf, Train accuracy: 0.419333, val accuracy: 0.415000\n",
      "Loss: inf, Train accuracy: 0.432778, val accuracy: 0.410000\n",
      "Loss: inf, Train accuracy: 0.469778, val accuracy: 0.442000\n",
      "Loss: inf, Train accuracy: 0.417556, val accuracy: 0.382000\n",
      "Loss: inf, Train accuracy: 0.436000, val accuracy: 0.413000\n",
      "Loss: inf, Train accuracy: 0.415556, val accuracy: 0.384000\n"
     ]
    },
    {
     "name": "stderr",
     "output_type": "stream",
     "text": [
      "/Users/gulnur/anaconda/envs/py35/lib/python3.5/site-packages/numpy/core/fromnumeric.py:1468: RuntimeWarning: overflow encountered in reduce\n",
      "  return asanyarray(a).trace(offset=offset, axis1=axis1, axis2=axis2, dtype=dtype, out=out)\n",
      "/Users/gulnur/Desktop/workspace/dl_course/assignments/assignment2/model.py:73: RuntimeWarning: invalid value encountered in double_scalars\n",
      "  loss += l2_reg\n",
      "/Users/gulnur/Desktop/workspace/dl_course/assignments/assignment2/layers.py:24: RuntimeWarning: invalid value encountered in subtract\n",
      "  predictions_= predictions - maxim\n",
      "/Users/gulnur/Desktop/workspace/dl_course/assignments/assignment2/layers.py:139: RuntimeWarning: invalid value encountered in greater\n",
      "  self.d_out_result = np.greater(X, 0).astype(float)\n",
      "/Users/gulnur/Desktop/workspace/dl_course/assignments/assignment2/layers.py:140: RuntimeWarning: invalid value encountered in maximum\n",
      "  return np.maximum(X, 0)\n",
      "/Users/gulnur/anaconda/envs/py35/lib/python3.5/site-packages/numpy/core/fromnumeric.py:83: RuntimeWarning: invalid value encountered in reduce\n",
      "  return ufunc.reduce(obj, axis, dtype, out, **passkwargs)\n"
     ]
    },
    {
     "name": "stdout",
     "output_type": "stream",
     "text": [
      "Loss: nan, Train accuracy: 0.066333, val accuracy: 0.049000\n",
      "Loss: nan, Train accuracy: 0.066333, val accuracy: 0.049000\n",
      "Loss: nan, Train accuracy: 0.066333, val accuracy: 0.049000\n",
      "Loss: nan, Train accuracy: 0.066333, val accuracy: 0.049000\n",
      "Loss: nan, Train accuracy: 0.066333, val accuracy: 0.049000\n",
      "Loss: nan, Train accuracy: 0.066333, val accuracy: 0.049000\n",
      "Loss: nan, Train accuracy: 0.066333, val accuracy: 0.049000\n",
      "Loss: nan, Train accuracy: 0.066333, val accuracy: 0.049000\n",
      "Loss: nan, Train accuracy: 0.066333, val accuracy: 0.049000\n",
      "Loss: nan, Train accuracy: 0.066333, val accuracy: 0.049000\n",
      "Loss: nan, Train accuracy: 0.066333, val accuracy: 0.049000\n",
      "n_layers: 80.000000, learning_rate: 0.080000, reg_strength: -0.300000\n",
      "Loss: inf, Train accuracy: 0.249111, val accuracy: 0.221000\n",
      "Loss: inf, Train accuracy: 0.394778, val accuracy: 0.375000\n",
      "Loss: inf, Train accuracy: 0.389667, val accuracy: 0.366000\n",
      "Loss: inf, Train accuracy: 0.355556, val accuracy: 0.337000\n",
      "Loss: inf, Train accuracy: 0.384778, val accuracy: 0.377000\n",
      "Loss: inf, Train accuracy: 0.406667, val accuracy: 0.407000\n",
      "Loss: inf, Train accuracy: 0.483556, val accuracy: 0.457000\n",
      "Loss: inf, Train accuracy: 0.468333, val accuracy: 0.426000\n",
      "Loss: inf, Train accuracy: 0.491778, val accuracy: 0.462000\n",
      "Loss: inf, Train accuracy: 0.487222, val accuracy: 0.456000\n",
      "Loss: inf, Train accuracy: 0.512444, val accuracy: 0.445000\n",
      "Loss: inf, Train accuracy: 0.499889, val accuracy: 0.476000\n",
      "Loss: inf, Train accuracy: 0.488333, val accuracy: 0.476000\n",
      "Loss: inf, Train accuracy: 0.487333, val accuracy: 0.456000\n",
      "Loss: nan, Train accuracy: 0.066333, val accuracy: 0.049000\n",
      "Loss: nan, Train accuracy: 0.066333, val accuracy: 0.049000\n",
      "Loss: nan, Train accuracy: 0.066333, val accuracy: 0.049000\n",
      "Loss: nan, Train accuracy: 0.066333, val accuracy: 0.049000\n",
      "Loss: nan, Train accuracy: 0.066333, val accuracy: 0.049000\n",
      "Loss: nan, Train accuracy: 0.066333, val accuracy: 0.049000\n",
      "Loss: nan, Train accuracy: 0.066333, val accuracy: 0.049000\n",
      "Loss: nan, Train accuracy: 0.066333, val accuracy: 0.049000\n",
      "Loss: nan, Train accuracy: 0.066333, val accuracy: 0.049000\n",
      "Loss: nan, Train accuracy: 0.066333, val accuracy: 0.049000\n",
      "Loss: nan, Train accuracy: 0.066333, val accuracy: 0.049000\n",
      "n_layers: 90.000000, learning_rate: 0.080000, reg_strength: -0.300000\n",
      "Loss: inf, Train accuracy: 0.342667, val accuracy: 0.323000\n",
      "Loss: inf, Train accuracy: 0.421333, val accuracy: 0.384000\n",
      "Loss: inf, Train accuracy: 0.430889, val accuracy: 0.353000\n",
      "Loss: inf, Train accuracy: 0.350778, val accuracy: 0.335000\n",
      "Loss: inf, Train accuracy: 0.441667, val accuracy: 0.405000\n",
      "Loss: inf, Train accuracy: 0.439556, val accuracy: 0.410000\n",
      "Loss: inf, Train accuracy: 0.437556, val accuracy: 0.399000\n",
      "Loss: inf, Train accuracy: 0.454444, val accuracy: 0.413000\n",
      "Loss: inf, Train accuracy: 0.510889, val accuracy: 0.486000\n",
      "Loss: inf, Train accuracy: 0.540222, val accuracy: 0.502000\n",
      "Loss: inf, Train accuracy: 0.524889, val accuracy: 0.450000\n",
      "Loss: inf, Train accuracy: 0.503444, val accuracy: 0.478000\n",
      "Loss: inf, Train accuracy: 0.564778, val accuracy: 0.520000\n",
      "Loss: inf, Train accuracy: 0.531444, val accuracy: 0.457000\n",
      "Loss: nan, Train accuracy: 0.066333, val accuracy: 0.049000\n",
      "Loss: nan, Train accuracy: 0.066333, val accuracy: 0.049000\n",
      "Loss: nan, Train accuracy: 0.066333, val accuracy: 0.049000\n"
     ]
    },
    {
     "ename": "KeyboardInterrupt",
     "evalue": "",
     "output_type": "error",
     "traceback": [
      "\u001b[0;31m---------------------------------------------------------------------------\u001b[0m",
      "\u001b[0;31mKeyboardInterrupt\u001b[0m                         Traceback (most recent call last)",
      "\u001b[0;32m<ipython-input-119-f963dd38487d>\u001b[0m in \u001b[0;36m<module>\u001b[0;34m()\u001b[0m\n\u001b[1;32m     30\u001b[0m     \u001b[0mdataset\u001b[0m \u001b[0;34m=\u001b[0m \u001b[0mDataset\u001b[0m\u001b[0;34m(\u001b[0m\u001b[0mtrain_X\u001b[0m\u001b[0;34m,\u001b[0m \u001b[0mtrain_y\u001b[0m\u001b[0;34m,\u001b[0m \u001b[0mval_X\u001b[0m\u001b[0;34m,\u001b[0m \u001b[0mval_y\u001b[0m\u001b[0;34m)\u001b[0m\u001b[0;34m\u001b[0m\u001b[0m\n\u001b[1;32m     31\u001b[0m     \u001b[0mtrainer\u001b[0m \u001b[0;34m=\u001b[0m \u001b[0mTrainer\u001b[0m\u001b[0;34m(\u001b[0m\u001b[0mmodel\u001b[0m\u001b[0;34m,\u001b[0m \u001b[0mdataset\u001b[0m\u001b[0;34m,\u001b[0m \u001b[0mMomentumSGD\u001b[0m\u001b[0;34m(\u001b[0m\u001b[0;34m)\u001b[0m\u001b[0;34m,\u001b[0m \u001b[0mlearning_rate\u001b[0m\u001b[0;34m=\u001b[0m\u001b[0mlr\u001b[0m\u001b[0;34m,\u001b[0m \u001b[0mnum_epochs\u001b[0m\u001b[0;34m=\u001b[0m\u001b[0mnum_epochs\u001b[0m\u001b[0;34m,\u001b[0m \u001b[0mbatch_size\u001b[0m\u001b[0;34m=\u001b[0m\u001b[0mbatch_size\u001b[0m\u001b[0;34m)\u001b[0m\u001b[0;34m\u001b[0m\u001b[0m\n\u001b[0;32m---> 32\u001b[0;31m     \u001b[0mloss_hist\u001b[0m\u001b[0;34m,\u001b[0m \u001b[0mtrain_hist\u001b[0m\u001b[0;34m,\u001b[0m \u001b[0mval_hist\u001b[0m \u001b[0;34m=\u001b[0m \u001b[0mtrainer\u001b[0m\u001b[0;34m.\u001b[0m\u001b[0mfit\u001b[0m\u001b[0;34m(\u001b[0m\u001b[0;34m)\u001b[0m\u001b[0;34m\u001b[0m\u001b[0m\n\u001b[0m\u001b[1;32m     33\u001b[0m     \u001b[0maccuracy\u001b[0m \u001b[0;34m=\u001b[0m \u001b[0mval_hist\u001b[0m\u001b[0;34m[\u001b[0m\u001b[0;34m-\u001b[0m\u001b[0;36m1\u001b[0m\u001b[0;34m]\u001b[0m\u001b[0;34m\u001b[0m\u001b[0m\n\u001b[1;32m     34\u001b[0m     \u001b[0;32mif\u001b[0m \u001b[0;32mnot\u001b[0m \u001b[0mbest_val_accuracy\u001b[0m \u001b[0;32mor\u001b[0m \u001b[0maccuracy\u001b[0m \u001b[0;34m>\u001b[0m \u001b[0mbest_val_accuracy\u001b[0m\u001b[0;34m:\u001b[0m\u001b[0;34m\u001b[0m\u001b[0m\n",
      "\u001b[0;32m~/Desktop/workspace/dl_course/assignments/assignment2/trainer.py\u001b[0m in \u001b[0;36mfit\u001b[0;34m(self)\u001b[0m\n\u001b[1;32m    104\u001b[0m                 \u001b[0mX_batch\u001b[0m \u001b[0;34m=\u001b[0m \u001b[0mself\u001b[0m\u001b[0;34m.\u001b[0m\u001b[0mdataset\u001b[0m\u001b[0;34m.\u001b[0m\u001b[0mtrain_X\u001b[0m\u001b[0;34m[\u001b[0m\u001b[0mbatch_indices\u001b[0m\u001b[0;34m]\u001b[0m\u001b[0;34m\u001b[0m\u001b[0m\n\u001b[1;32m    105\u001b[0m                 \u001b[0my_batch\u001b[0m \u001b[0;34m=\u001b[0m \u001b[0mself\u001b[0m\u001b[0;34m.\u001b[0m\u001b[0mdataset\u001b[0m\u001b[0;34m.\u001b[0m\u001b[0mtrain_y\u001b[0m\u001b[0;34m[\u001b[0m\u001b[0mbatch_indices\u001b[0m\u001b[0;34m]\u001b[0m\u001b[0;34m\u001b[0m\u001b[0m\n\u001b[0;32m--> 106\u001b[0;31m                 \u001b[0mloss\u001b[0m \u001b[0;34m=\u001b[0m \u001b[0mself\u001b[0m\u001b[0;34m.\u001b[0m\u001b[0mmodel\u001b[0m\u001b[0;34m.\u001b[0m\u001b[0mcompute_loss_and_gradients\u001b[0m\u001b[0;34m(\u001b[0m\u001b[0mX_batch\u001b[0m\u001b[0;34m,\u001b[0m \u001b[0my_batch\u001b[0m\u001b[0;34m)\u001b[0m\u001b[0;34m\u001b[0m\u001b[0m\n\u001b[0m\u001b[1;32m    107\u001b[0m \u001b[0;34m\u001b[0m\u001b[0m\n\u001b[1;32m    108\u001b[0m                 \u001b[0;32mfor\u001b[0m \u001b[0mparam_name\u001b[0m\u001b[0;34m,\u001b[0m \u001b[0mparam\u001b[0m \u001b[0;32min\u001b[0m \u001b[0mself\u001b[0m\u001b[0;34m.\u001b[0m\u001b[0mmodel\u001b[0m\u001b[0;34m.\u001b[0m\u001b[0mparams\u001b[0m\u001b[0;34m(\u001b[0m\u001b[0;34m)\u001b[0m\u001b[0;34m.\u001b[0m\u001b[0mitems\u001b[0m\u001b[0;34m(\u001b[0m\u001b[0;34m)\u001b[0m\u001b[0;34m:\u001b[0m\u001b[0;34m\u001b[0m\u001b[0m\n",
      "\u001b[0;32m~/Desktop/workspace/dl_course/assignments/assignment2/model.py\u001b[0m in \u001b[0;36mcompute_loss_and_gradients\u001b[0;34m(self, X, y)\u001b[0m\n\u001b[1;32m     65\u001b[0m \u001b[0;34m\u001b[0m\u001b[0m\n\u001b[1;32m     66\u001b[0m         \u001b[0;31m#regularization\u001b[0m\u001b[0;34m\u001b[0m\u001b[0;34m\u001b[0m\u001b[0m\n\u001b[0;32m---> 67\u001b[0;31m         \u001b[0ml2_W1_loss\u001b[0m\u001b[0;34m,\u001b[0m \u001b[0ml2_W1_grad\u001b[0m \u001b[0;34m=\u001b[0m \u001b[0ml2_regularization\u001b[0m\u001b[0;34m(\u001b[0m\u001b[0mW1\u001b[0m\u001b[0;34m.\u001b[0m\u001b[0mvalue\u001b[0m\u001b[0;34m,\u001b[0m \u001b[0mself\u001b[0m\u001b[0;34m.\u001b[0m\u001b[0mreg\u001b[0m\u001b[0;34m)\u001b[0m\u001b[0;34m\u001b[0m\u001b[0m\n\u001b[0m\u001b[1;32m     68\u001b[0m         \u001b[0ml2_B1_loss\u001b[0m\u001b[0;34m,\u001b[0m \u001b[0ml2_B1_grad\u001b[0m \u001b[0;34m=\u001b[0m \u001b[0ml2_regularization\u001b[0m\u001b[0;34m(\u001b[0m\u001b[0mB1\u001b[0m\u001b[0;34m.\u001b[0m\u001b[0mvalue\u001b[0m\u001b[0;34m,\u001b[0m \u001b[0mself\u001b[0m\u001b[0;34m.\u001b[0m\u001b[0mreg\u001b[0m\u001b[0;34m)\u001b[0m\u001b[0;34m\u001b[0m\u001b[0m\n\u001b[1;32m     69\u001b[0m         \u001b[0ml2_W2_loss\u001b[0m\u001b[0;34m,\u001b[0m \u001b[0ml2_W2_grad\u001b[0m \u001b[0;34m=\u001b[0m \u001b[0ml2_regularization\u001b[0m\u001b[0;34m(\u001b[0m\u001b[0mW2\u001b[0m\u001b[0;34m.\u001b[0m\u001b[0mvalue\u001b[0m\u001b[0;34m,\u001b[0m \u001b[0mself\u001b[0m\u001b[0;34m.\u001b[0m\u001b[0mreg\u001b[0m\u001b[0;34m)\u001b[0m\u001b[0;34m\u001b[0m\u001b[0m\n",
      "\u001b[0;32m~/Desktop/workspace/dl_course/assignments/assignment2/layers.py\u001b[0m in \u001b[0;36ml2_regularization\u001b[0;34m(W, reg_strength)\u001b[0m\n\u001b[1;32m     74\u001b[0m     \u001b[0;31m# TODO: Copy from the previous assignment\u001b[0m\u001b[0;34m\u001b[0m\u001b[0;34m\u001b[0m\u001b[0m\n\u001b[1;32m     75\u001b[0m     \u001b[0mloss\u001b[0m \u001b[0;34m=\u001b[0m \u001b[0mreg_strength\u001b[0m \u001b[0;34m*\u001b[0m \u001b[0mnp\u001b[0m\u001b[0;34m.\u001b[0m\u001b[0mtrace\u001b[0m\u001b[0;34m(\u001b[0m\u001b[0mnp\u001b[0m\u001b[0;34m.\u001b[0m\u001b[0mmatmul\u001b[0m\u001b[0;34m(\u001b[0m\u001b[0mW\u001b[0m\u001b[0;34m.\u001b[0m\u001b[0mT\u001b[0m\u001b[0;34m,\u001b[0m \u001b[0mW\u001b[0m\u001b[0;34m)\u001b[0m\u001b[0;34m)\u001b[0m\u001b[0;34m\u001b[0m\u001b[0m\n\u001b[0;32m---> 76\u001b[0;31m     \u001b[0mgrad\u001b[0m \u001b[0;34m=\u001b[0m \u001b[0;36m2\u001b[0m \u001b[0;34m*\u001b[0m \u001b[0mW\u001b[0m \u001b[0;34m*\u001b[0m \u001b[0mreg_strength\u001b[0m\u001b[0;34m\u001b[0m\u001b[0m\n\u001b[0m\u001b[1;32m     77\u001b[0m \u001b[0;34m\u001b[0m\u001b[0m\n\u001b[1;32m     78\u001b[0m     \u001b[0;32mreturn\u001b[0m \u001b[0mloss\u001b[0m\u001b[0;34m,\u001b[0m \u001b[0mgrad\u001b[0m\u001b[0;34m\u001b[0m\u001b[0m\n",
      "\u001b[0;31mKeyboardInterrupt\u001b[0m: "
     ]
    }
   ],
   "source": [
    "import itertools\n",
    "\n",
    "learning_rates = [0.08, 1e-1, 1e-2, 1e-3]\n",
    "reg_strength = [0.00027,-3e-1, 3e-1, 3e-2]\n",
    "learning_rate_decay = 0.9\n",
    "hidden_layer_size = [70, 80, 90, 100]\n",
    "num_epochs = 25\n",
    "batch_size = 64\n",
    "\n",
    "best_classifier = None\n",
    "best_val_accuracy = None\n",
    "\n",
    "loss_history = []\n",
    "train_history = []\n",
    "val_history = []\n",
    "\n",
    "# TODO find the best hyperparameters to train the network\n",
    "# Don't hesitate to add new values to the arrays above, perform experiments, use any tricks you want\n",
    "# You should expect to get to at least 40% of valudation accuracy\n",
    "# Save loss/train/history of the best classifier to the variables above\n",
    "\n",
    "for lr, reg, n_layers in itertools.product(learning_rates, \n",
    "                                           reg_strength,\n",
    "                                           hidden_layer_size):\n",
    "    #print(f'learning_rate={lr}, reg_strength={reg}, n_layers={n_layers}')\n",
    "    print(\"n_layers: %f, learning_rate: %f, reg_strength: %f\" %\n",
    "                  (n_layers, lr, reg))\n",
    "    \n",
    "    model = TwoLayerNet(n_input=train_X.shape[1], n_output=10, hidden_layer_size=n_layers, reg=reg)\n",
    "    dataset = Dataset(train_X, train_y, val_X, val_y)\n",
    "    trainer = Trainer(model, dataset, MomentumSGD(), learning_rate=lr, num_epochs=num_epochs, batch_size=batch_size)\n",
    "    loss_hist, train_hist, val_hist = trainer.fit()\n",
    "    accuracy = val_hist[-1]\n",
    "    if not best_val_accuracy or accuracy > best_val_accuracy:\n",
    "        best_classifier = model\n",
    "        best_val_accuracy = accuracy\n",
    "        loss_history = loss_hist\n",
    "        train_history = train_hist\n",
    "        val_history = val_hist\n",
    "\n",
    "print('best validation accuracy achieved: %f' % best_val_accuracy)"
   ]
  },
  {
   "cell_type": "code",
   "execution_count": 118,
   "metadata": {
    "collapsed": false
   },
   "outputs": [
    {
     "name": "stdout",
     "output_type": "stream",
     "text": [
      "Loss: 2.431431, Train accuracy: 0.323667, val accuracy: 0.342000\n",
      "Loss: 1.971650, Train accuracy: 0.525222, val accuracy: 0.546000\n",
      "Loss: 1.501104, Train accuracy: 0.602111, val accuracy: 0.589000\n",
      "Loss: 1.556687, Train accuracy: 0.647444, val accuracy: 0.628000\n",
      "Loss: 1.260826, Train accuracy: 0.612111, val accuracy: 0.584000\n",
      "Loss: 1.100646, Train accuracy: 0.635778, val accuracy: 0.594000\n",
      "Loss: 1.586974, Train accuracy: 0.661556, val accuracy: 0.634000\n",
      "Loss: 0.982162, Train accuracy: 0.688333, val accuracy: 0.645000\n",
      "Loss: 1.199528, Train accuracy: 0.695444, val accuracy: 0.652000\n"
     ]
    },
    {
     "ename": "KeyboardInterrupt",
     "evalue": "",
     "output_type": "error",
     "traceback": [
      "\u001b[0;31m---------------------------------------------------------------------------\u001b[0m",
      "\u001b[0;31mKeyboardInterrupt\u001b[0m                         Traceback (most recent call last)",
      "\u001b[0;32m<ipython-input-118-add6251751b5>\u001b[0m in \u001b[0;36m<module>\u001b[0;34m()\u001b[0m\n\u001b[1;32m     23\u001b[0m                         batch_size=batch_size)\n\u001b[1;32m     24\u001b[0m \u001b[0;34m\u001b[0m\u001b[0m\n\u001b[0;32m---> 25\u001b[0;31m \u001b[0mloss_history\u001b[0m\u001b[0;34m,\u001b[0m \u001b[0mtrain_accuracy\u001b[0m\u001b[0;34m,\u001b[0m \u001b[0mval_accuracy\u001b[0m \u001b[0;34m=\u001b[0m \u001b[0mcoach\u001b[0m\u001b[0;34m.\u001b[0m\u001b[0mfit\u001b[0m\u001b[0;34m(\u001b[0m\u001b[0;34m)\u001b[0m\u001b[0;34m;\u001b[0m\u001b[0;34m\u001b[0m\u001b[0m\n\u001b[0m",
      "\u001b[0;32m~/Desktop/workspace/dl_course/assignments/assignment2/trainer.py\u001b[0m in \u001b[0;36mfit\u001b[0;34m(self)\u001b[0m\n\u001b[1;32m    104\u001b[0m                 \u001b[0mX_batch\u001b[0m \u001b[0;34m=\u001b[0m \u001b[0mself\u001b[0m\u001b[0;34m.\u001b[0m\u001b[0mdataset\u001b[0m\u001b[0;34m.\u001b[0m\u001b[0mtrain_X\u001b[0m\u001b[0;34m[\u001b[0m\u001b[0mbatch_indices\u001b[0m\u001b[0;34m]\u001b[0m\u001b[0;34m\u001b[0m\u001b[0m\n\u001b[1;32m    105\u001b[0m                 \u001b[0my_batch\u001b[0m \u001b[0;34m=\u001b[0m \u001b[0mself\u001b[0m\u001b[0;34m.\u001b[0m\u001b[0mdataset\u001b[0m\u001b[0;34m.\u001b[0m\u001b[0mtrain_y\u001b[0m\u001b[0;34m[\u001b[0m\u001b[0mbatch_indices\u001b[0m\u001b[0;34m]\u001b[0m\u001b[0;34m\u001b[0m\u001b[0m\n\u001b[0;32m--> 106\u001b[0;31m                 \u001b[0mloss\u001b[0m \u001b[0;34m=\u001b[0m \u001b[0mself\u001b[0m\u001b[0;34m.\u001b[0m\u001b[0mmodel\u001b[0m\u001b[0;34m.\u001b[0m\u001b[0mcompute_loss_and_gradients\u001b[0m\u001b[0;34m(\u001b[0m\u001b[0mX_batch\u001b[0m\u001b[0;34m,\u001b[0m \u001b[0my_batch\u001b[0m\u001b[0;34m)\u001b[0m\u001b[0;34m\u001b[0m\u001b[0m\n\u001b[0m\u001b[1;32m    107\u001b[0m \u001b[0;34m\u001b[0m\u001b[0m\n\u001b[1;32m    108\u001b[0m                 \u001b[0;32mfor\u001b[0m \u001b[0mparam_name\u001b[0m\u001b[0;34m,\u001b[0m \u001b[0mparam\u001b[0m \u001b[0;32min\u001b[0m \u001b[0mself\u001b[0m\u001b[0;34m.\u001b[0m\u001b[0mmodel\u001b[0m\u001b[0;34m.\u001b[0m\u001b[0mparams\u001b[0m\u001b[0;34m(\u001b[0m\u001b[0;34m)\u001b[0m\u001b[0;34m.\u001b[0m\u001b[0mitems\u001b[0m\u001b[0;34m(\u001b[0m\u001b[0;34m)\u001b[0m\u001b[0;34m:\u001b[0m\u001b[0;34m\u001b[0m\u001b[0m\n",
      "\u001b[0;32m~/Desktop/workspace/dl_course/assignments/assignment2/model.py\u001b[0m in \u001b[0;36mcompute_loss_and_gradients\u001b[0;34m(self, X, y)\u001b[0m\n\u001b[1;32m     54\u001b[0m \u001b[0;34m\u001b[0m\u001b[0m\n\u001b[1;32m     55\u001b[0m         \u001b[0;31m#forward\u001b[0m\u001b[0;34m\u001b[0m\u001b[0;34m\u001b[0m\u001b[0m\n\u001b[0;32m---> 56\u001b[0;31m         \u001b[0mout_layer1\u001b[0m \u001b[0;34m=\u001b[0m \u001b[0mself\u001b[0m\u001b[0;34m.\u001b[0m\u001b[0mlayer1\u001b[0m\u001b[0;34m.\u001b[0m\u001b[0mforward\u001b[0m\u001b[0;34m(\u001b[0m\u001b[0mX\u001b[0m\u001b[0;34m)\u001b[0m\u001b[0;34m\u001b[0m\u001b[0m\n\u001b[0m\u001b[1;32m     57\u001b[0m         \u001b[0mout_relu\u001b[0m \u001b[0;34m=\u001b[0m \u001b[0mself\u001b[0m\u001b[0;34m.\u001b[0m\u001b[0mrelu_layer\u001b[0m\u001b[0;34m.\u001b[0m\u001b[0mforward\u001b[0m\u001b[0;34m(\u001b[0m\u001b[0mout_layer1\u001b[0m\u001b[0;34m)\u001b[0m\u001b[0;34m\u001b[0m\u001b[0m\n\u001b[1;32m     58\u001b[0m         \u001b[0mout_layer2\u001b[0m \u001b[0;34m=\u001b[0m \u001b[0mself\u001b[0m\u001b[0;34m.\u001b[0m\u001b[0mlayer2\u001b[0m\u001b[0;34m.\u001b[0m\u001b[0mforward\u001b[0m\u001b[0;34m(\u001b[0m\u001b[0mout_relu\u001b[0m\u001b[0;34m)\u001b[0m\u001b[0;34m\u001b[0m\u001b[0m\n",
      "\u001b[0;32m~/Desktop/workspace/dl_course/assignments/assignment2/layers.py\u001b[0m in \u001b[0;36mforward\u001b[0;34m(self, X)\u001b[0m\n\u001b[1;32m    177\u001b[0m         \u001b[0;31m#raise Exception(\"Not implemented!\")\u001b[0m\u001b[0;34m\u001b[0m\u001b[0;34m\u001b[0m\u001b[0m\n\u001b[1;32m    178\u001b[0m         \u001b[0mself\u001b[0m\u001b[0;34m.\u001b[0m\u001b[0mX\u001b[0m \u001b[0;34m=\u001b[0m \u001b[0mX\u001b[0m\u001b[0;34m\u001b[0m\u001b[0m\n\u001b[0;32m--> 179\u001b[0;31m         \u001b[0mresult\u001b[0m \u001b[0;34m=\u001b[0m \u001b[0mnp\u001b[0m\u001b[0;34m.\u001b[0m\u001b[0mmatmul\u001b[0m\u001b[0;34m(\u001b[0m\u001b[0mX\u001b[0m\u001b[0;34m,\u001b[0m \u001b[0mself\u001b[0m\u001b[0;34m.\u001b[0m\u001b[0mW\u001b[0m\u001b[0;34m.\u001b[0m\u001b[0mvalue\u001b[0m\u001b[0;34m)\u001b[0m \u001b[0;34m+\u001b[0m \u001b[0mself\u001b[0m\u001b[0;34m.\u001b[0m\u001b[0mB\u001b[0m\u001b[0;34m.\u001b[0m\u001b[0mvalue\u001b[0m\u001b[0;34m\u001b[0m\u001b[0m\n\u001b[0m\u001b[1;32m    180\u001b[0m         \u001b[0;32mreturn\u001b[0m \u001b[0mresult\u001b[0m\u001b[0;34m\u001b[0m\u001b[0m\n\u001b[1;32m    181\u001b[0m \u001b[0;34m\u001b[0m\u001b[0m\n",
      "\u001b[0;31mKeyboardInterrupt\u001b[0m: "
     ]
    }
   ],
   "source": [
    "import math\n",
    "\n",
    "learning_rate_10pow = -1.099643\n",
    "reg_strength_10pow = -3.570692\n",
    "learning_rate_decay = 0.964509\n",
    "hidden_layer_size = 81\n",
    "num_epochs = 200\n",
    "batch_size = 53\n",
    "\n",
    "learning_rate = math.pow(10.0, learning_rate_10pow)\n",
    "reg_strength = math.pow(10.0, reg_strength_10pow)\n",
    "\n",
    "dataset = Dataset(train_X, train_y, val_X, val_y)\n",
    "\n",
    "nn = TwoLayerNet(n_input=train_X.shape[1], n_output=10, \n",
    "                       hidden_layer_size=hidden_layer_size, \n",
    "                       reg=reg_strength)\n",
    "\n",
    "coach = Trainer(nn, dataset, MomentumSGD(),\n",
    "                        learning_rate=learning_rate, \n",
    "                        learning_rate_decay=learning_rate_decay, \n",
    "                        num_epochs=num_epochs, \n",
    "                        batch_size=batch_size)\n",
    "\n",
    "loss_history, train_accuracy, val_accuracy = coach.fit();"
   ]
  },
  {
   "cell_type": "code",
   "execution_count": 108,
   "metadata": {
    "collapsed": false
   },
   "outputs": [
    {
     "data": {
      "text/plain": [
       "[<matplotlib.lines.Line2D at 0x10e2c4668>]"
      ]
     },
     "execution_count": 108,
     "metadata": {},
     "output_type": "execute_result"
    },
    {
     "data": {
      "image/png": "[encoded data removed]",
      "text/plain": [
       "<Figure size 1080x504 with 2 Axes>"
      ]
     },
     "metadata": {
      "needs_background": "light"
     },
     "output_type": "display_data"
    }
   ],
   "source": [
    "plt.figure(figsize=(15, 7))\n",
    "plt.subplot(211)\n",
    "plt.title(\"Loss\")\n",
    "plt.plot(loss_history)\n",
    "plt.subplot(212)\n",
    "plt.title(\"Train/validation accuracy\")\n",
    "plt.plot(train_history)\n",
    "plt.plot(val_history)"
   ]
  },
  {
   "cell_type": "code",
   "execution_count": 110,
   "metadata": {
    "collapsed": false
   },
   "outputs": [
    {
     "name": "stdout",
     "output_type": "stream",
     "text": [
      "best validation accuracy achieved: 0.791000\n"
     ]
    }
   ],
   "source": [
    "best_classifier = nn\n",
    "best_val_accuracy = val_accuracy[np.argmax(val_accuracy)]\n",
    "\n",
    "# find the best hyperparameters to train the network\n",
    "# Don't hesitate to add new values to the arrays above, perform experiments, use any tricks you want\n",
    "# You should expect to get to at least 40% of valudation accuracy\n",
    "# Save loss/train/history of the best classifier to the variables above\n",
    "\n",
    "print('best validation accuracy achieved: %f' % best_val_accuracy)"
   ]
  },
  {
   "cell_type": "markdown",
   "metadata": {},
   "source": [
    "# Как обычно, посмотрим, как наша лучшая модель работает на тестовых данных"
   ]
  },
  {
   "cell_type": "code",
   "execution_count": 111,
   "metadata": {
    "collapsed": false
   },
   "outputs": [
    {
     "name": "stdout",
     "output_type": "stream",
     "text": [
      "Neural net test set accuracy: 0.771000\n"
     ]
    }
   ],
   "source": [
    "test_pred = best_classifier.predict(test_X)\n",
    "test_accuracy = multiclass_accuracy(test_pred, test_y)\n",
    "print('Neural net test set accuracy: %f' % (test_accuracy, ))"
   ]
  },
  {
   "cell_type": "code",
   "execution_count": null,
   "metadata": {
    "collapsed": true
   },
   "outputs": [],
   "source": []
  }
 ],
 "metadata": {
  "anaconda-cloud": {},
  "kernelspec": {
   "display_name": "Python [py35]",
   "language": "python",
   "name": "Python [py35]"
  },
  "language_info": {
   "codemirror_mode": {
    "name": "ipython",
    "version": 3
   },
   "file_extension": ".py",
   "mimetype": "text/x-python",
   "name": "python",
   "nbconvert_exporter": "python",
   "pygments_lexer": "ipython3",
   "version": "3.5.6"
  }
 },
 "nbformat": 4,
 "nbformat_minor": 2
}
